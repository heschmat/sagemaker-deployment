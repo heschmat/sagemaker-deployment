{
 "cells": [
  {
   "cell_type": "markdown",
   "metadata": {},
   "source": [
    "# Sentiment Analysis Web App\n",
    "\n",
    "_Machine Learning Engineer Nanodegree Program | Deployment_\n",
    "\n",
    "---\n",
    "\n",
    "In this notebook we will use Amazon's SageMaker service to construct a random tree model to predict the sentiment of a movie review. In addition, we will deploy this model to an endpoint and construct a very simple web app which will interact with our model's deployed endpoint.\n",
    "\n",
    "## General Outline\n",
    "\n",
    "Typically, when using a notebook instance with SageMaker, you will proceed through the following steps. Of course, not every step will need to be done with each project. Also, there is quite a lot of room for variation in many of the steps, as you will see throughout these lessons.\n",
    "\n",
    "1. Download or otherwise retrieve the data.\n",
    "2. Process / Prepare the data.\n",
    "3. Upload the processed data to S3.\n",
    "4. Train a chosen model.\n",
    "5. Test the trained model (typically using a batch transform job).\n",
    "6. Deploy the trained model.\n",
    "7. Use the deployed model.\n",
    "\n",
    "In this notebook we will progress through each of the steps above. We will also see that the final step, using the deployed model, can be quite challenging."
   ]
  },
  {
   "cell_type": "code",
   "execution_count": 1,
   "metadata": {},
   "outputs": [
    {
     "name": "stdout",
     "output_type": "stream",
     "text": [
      "Python 3.6.10 :: Anaconda, Inc.\r\n"
     ]
    }
   ],
   "source": [
    "! python --version"
   ]
  },
  {
   "cell_type": "code",
   "execution_count": 2,
   "metadata": {},
   "outputs": [
    {
     "name": "stdout",
     "output_type": "stream",
     "text": [
      "Collecting sagemaker==1.72.0\n",
      "  Downloading sagemaker-1.72.0.tar.gz (297 kB)\n",
      "\u001b[K     |████████████████████████████████| 297 kB 15.2 MB/s eta 0:00:01\n",
      "\u001b[?25hRequirement already satisfied: boto3>=1.14.12 in /home/ec2-user/anaconda3/envs/mxnet_p36/lib/python3.6/site-packages (from sagemaker==1.72.0) (1.16.63)\n",
      "Requirement already satisfied: numpy>=1.9.0 in /home/ec2-user/anaconda3/envs/mxnet_p36/lib/python3.6/site-packages (from sagemaker==1.72.0) (1.19.5)\n",
      "Requirement already satisfied: protobuf>=3.1 in /home/ec2-user/anaconda3/envs/mxnet_p36/lib/python3.6/site-packages (from sagemaker==1.72.0) (3.14.0)\n",
      "Requirement already satisfied: scipy>=0.19.0 in /home/ec2-user/anaconda3/envs/mxnet_p36/lib/python3.6/site-packages (from sagemaker==1.72.0) (1.4.1)\n",
      "Requirement already satisfied: protobuf3-to-dict>=0.1.5 in /home/ec2-user/anaconda3/envs/mxnet_p36/lib/python3.6/site-packages (from sagemaker==1.72.0) (0.1.5)\n",
      "Requirement already satisfied: importlib-metadata>=1.4.0 in /home/ec2-user/anaconda3/envs/mxnet_p36/lib/python3.6/site-packages (from sagemaker==1.72.0) (3.4.0)\n",
      "Requirement already satisfied: packaging>=20.0 in /home/ec2-user/anaconda3/envs/mxnet_p36/lib/python3.6/site-packages (from sagemaker==1.72.0) (20.8)\n",
      "Collecting smdebug-rulesconfig==0.1.4\n",
      "  Downloading smdebug_rulesconfig-0.1.4-py2.py3-none-any.whl (10 kB)\n",
      "Requirement already satisfied: s3transfer<0.4.0,>=0.3.0 in /home/ec2-user/anaconda3/envs/mxnet_p36/lib/python3.6/site-packages (from boto3>=1.14.12->sagemaker==1.72.0) (0.3.4)\n",
      "Requirement already satisfied: botocore<1.20.0,>=1.19.63 in /home/ec2-user/anaconda3/envs/mxnet_p36/lib/python3.6/site-packages (from boto3>=1.14.12->sagemaker==1.72.0) (1.19.63)\n",
      "Requirement already satisfied: jmespath<1.0.0,>=0.7.1 in /home/ec2-user/anaconda3/envs/mxnet_p36/lib/python3.6/site-packages (from boto3>=1.14.12->sagemaker==1.72.0) (0.10.0)\n",
      "Requirement already satisfied: urllib3<1.27,>=1.25.4 in /home/ec2-user/anaconda3/envs/mxnet_p36/lib/python3.6/site-packages (from botocore<1.20.0,>=1.19.63->boto3>=1.14.12->sagemaker==1.72.0) (1.26.2)\n",
      "Requirement already satisfied: python-dateutil<3.0.0,>=2.1 in /home/ec2-user/anaconda3/envs/mxnet_p36/lib/python3.6/site-packages (from botocore<1.20.0,>=1.19.63->boto3>=1.14.12->sagemaker==1.72.0) (2.8.1)\n",
      "Requirement already satisfied: typing-extensions>=3.6.4 in /home/ec2-user/anaconda3/envs/mxnet_p36/lib/python3.6/site-packages (from importlib-metadata>=1.4.0->sagemaker==1.72.0) (3.7.4.3)\n",
      "Requirement already satisfied: zipp>=0.5 in /home/ec2-user/anaconda3/envs/mxnet_p36/lib/python3.6/site-packages (from importlib-metadata>=1.4.0->sagemaker==1.72.0) (3.4.0)\n",
      "Requirement already satisfied: pyparsing>=2.0.2 in /home/ec2-user/anaconda3/envs/mxnet_p36/lib/python3.6/site-packages (from packaging>=20.0->sagemaker==1.72.0) (2.4.7)\n",
      "Requirement already satisfied: six>=1.9 in /home/ec2-user/anaconda3/envs/mxnet_p36/lib/python3.6/site-packages (from protobuf>=3.1->sagemaker==1.72.0) (1.15.0)\n",
      "Building wheels for collected packages: sagemaker\n",
      "  Building wheel for sagemaker (setup.py) ... \u001b[?25ldone\n",
      "\u001b[?25h  Created wheel for sagemaker: filename=sagemaker-1.72.0-py2.py3-none-any.whl size=386358 sha256=c43ae9b0f6780b83dcc5b51338702a96399676363a8d9ae245e50bbe44676c5c\n",
      "  Stored in directory: /home/ec2-user/.cache/pip/wheels/c3/58/70/85faf4437568bfaa4c419937569ba1fe54d44c5db42406bbd7\n",
      "Successfully built sagemaker\n",
      "Installing collected packages: smdebug-rulesconfig, sagemaker\n",
      "  Attempting uninstall: smdebug-rulesconfig\n",
      "    Found existing installation: smdebug-rulesconfig 1.0.1\n",
      "    Uninstalling smdebug-rulesconfig-1.0.1:\n",
      "      Successfully uninstalled smdebug-rulesconfig-1.0.1\n",
      "  Attempting uninstall: sagemaker\n",
      "    Found existing installation: sagemaker 2.24.1\n",
      "    Uninstalling sagemaker-2.24.1:\n",
      "      Successfully uninstalled sagemaker-2.24.1\n",
      "Successfully installed sagemaker-1.72.0 smdebug-rulesconfig-0.1.4\n",
      "\u001b[33mWARNING: You are using pip version 20.3.3; however, version 21.0.1 is available.\n",
      "You should consider upgrading via the '/home/ec2-user/anaconda3/envs/mxnet_p36/bin/python -m pip install --upgrade pip' command.\u001b[0m\n"
     ]
    }
   ],
   "source": [
    "# Make sure that we use SageMaker 1.x\n",
    "!pip install sagemaker==1.72.0"
   ]
  },
  {
   "cell_type": "markdown",
   "metadata": {},
   "source": [
    "## Step 1: Downloading the data\n",
    "\n",
    "The dataset we are going to use is very popular among researchers in Natural Language Processing, usually referred to as the [IMDb dataset](http://ai.stanford.edu/~amaas/data/sentiment/). It consists of movie reviews from the website [imdb.com](http://www.imdb.com/), each labeled as either '**pos**itive', if the reviewer enjoyed the film, or '**neg**ative' otherwise.\n",
    "\n",
    "> Maas, Andrew L., et al. [Learning Word Vectors for Sentiment Analysis](http://ai.stanford.edu/~amaas/data/sentiment/). In _Proceedings of the 49th Annual Meeting of the Association for Computational Linguistics: Human Language Technologies_. Association for Computational Linguistics, 2011.\n",
    "\n",
    "We begin by using some Jupyter Notebook magic to download and extract the dataset."
   ]
  },
  {
   "cell_type": "code",
   "execution_count": 3,
   "metadata": {},
   "outputs": [
    {
     "name": "stdout",
     "output_type": "stream",
     "text": [
      "/home/ec2-user/SageMaker/sagemaker-deployment/Tutorials\r\n"
     ]
    }
   ],
   "source": [
    "! pwd"
   ]
  },
  {
   "cell_type": "code",
   "execution_count": 4,
   "metadata": {},
   "outputs": [
    {
     "name": "stdout",
     "output_type": "stream",
     "text": [
      "--2021-02-12 06:22:30--  http://ai.stanford.edu/~amaas/data/sentiment/aclImdb_v1.tar.gz\n",
      "Resolving ai.stanford.edu (ai.stanford.edu)... 171.64.68.10\n",
      "Connecting to ai.stanford.edu (ai.stanford.edu)|171.64.68.10|:80... connected.\n",
      "HTTP request sent, awaiting response... 200 OK\n",
      "Length: 84125825 (80M) [application/x-gzip]\n",
      "Saving to: ‘../data/aclImdb_v1.tar.gz’\n",
      "\n",
      "../data/aclImdb_v1. 100%[===================>]  80.23M  10.2MB/s    in 11s     \n",
      "\n",
      "2021-02-12 06:22:41 (7.32 MB/s) - ‘../data/aclImdb_v1.tar.gz’ saved [84125825/84125825]\n",
      "\n"
     ]
    }
   ],
   "source": [
    "%mkdir ../data\n",
    "!wget -O ../data/aclImdb_v1.tar.gz http://ai.stanford.edu/~amaas/data/sentiment/aclImdb_v1.tar.gz\n",
    "!tar -zxf ../data/aclImdb_v1.tar.gz -C ../data"
   ]
  },
  {
   "cell_type": "markdown",
   "metadata": {},
   "source": [
    "## Step 2: Preparing and Processing the data\n",
    "\n",
    "The data we have downloaded is split into various files, each of which contains a single review. It will be much easier going forward if we combine these individual files into two large files, one for training and one for testing."
   ]
  },
  {
   "cell_type": "code",
   "execution_count": 5,
   "metadata": {},
   "outputs": [],
   "source": [
    "import os\n",
    "import glob\n",
    "\n",
    "def read_imdb_data(data_dir='../data/aclImdb'):\n",
    "    data = {}\n",
    "    labels = {}\n",
    "    \n",
    "    for data_type in ['train', 'test']:\n",
    "        data[data_type] = {}\n",
    "        labels[data_type] = {}\n",
    "        \n",
    "        for sentiment in ['pos', 'neg']:\n",
    "            data[data_type][sentiment] = []\n",
    "            labels[data_type][sentiment] = []\n",
    "            \n",
    "            path = os.path.join(data_dir, data_type, sentiment, '*.txt')\n",
    "            files = glob.glob(path)\n",
    "            \n",
    "            for f in files:\n",
    "                with open(f) as review:\n",
    "                    data[data_type][sentiment].append(review.read())\n",
    "                    # Here we represent a positive review by '1' and a negative review by '0'\n",
    "                    labels[data_type][sentiment].append(1 if sentiment == 'pos' else 0)\n",
    "                    \n",
    "            assert len(data[data_type][sentiment]) == len(labels[data_type][sentiment]), \\\n",
    "                    \"{}/{} data size does not match labels size\".format(data_type, sentiment)\n",
    "                \n",
    "    return data, labels"
   ]
  },
  {
   "cell_type": "code",
   "execution_count": 6,
   "metadata": {},
   "outputs": [
    {
     "name": "stdout",
     "output_type": "stream",
     "text": [
      "IMDB reviews: train = 12500 pos / 12500 neg, test = 12500 pos / 12500 neg\n"
     ]
    }
   ],
   "source": [
    "data, labels = read_imdb_data()\n",
    "print(\"IMDB reviews: train = {} pos / {} neg, test = {} pos / {} neg\".format(\n",
    "            len(data['train']['pos']), len(data['train']['neg']),\n",
    "            len(data['test']['pos']), len(data['test']['neg'])))"
   ]
  },
  {
   "cell_type": "code",
   "execution_count": 7,
   "metadata": {},
   "outputs": [],
   "source": [
    "from sklearn.utils import shuffle\n",
    "\n",
    "def prepare_imdb_data(data, labels):\n",
    "    \"\"\"Prepare training and test sets from IMDb movie reviews.\"\"\"\n",
    "    \n",
    "    #Combine positive and negative reviews and labels\n",
    "    data_train = data['train']['pos'] + data['train']['neg']\n",
    "    data_test = data['test']['pos'] + data['test']['neg']\n",
    "    labels_train = labels['train']['pos'] + labels['train']['neg']\n",
    "    labels_test = labels['test']['pos'] + labels['test']['neg']\n",
    "    \n",
    "    #Shuffle reviews and corresponding labels within training and test sets\n",
    "    data_train, labels_train = shuffle(data_train, labels_train)\n",
    "    data_test, labels_test = shuffle(data_test, labels_test)\n",
    "    \n",
    "    # Return a unified training data, test data, training labels, test labets\n",
    "    return data_train, data_test, labels_train, labels_test"
   ]
  },
  {
   "cell_type": "code",
   "execution_count": 8,
   "metadata": {},
   "outputs": [
    {
     "name": "stdout",
     "output_type": "stream",
     "text": [
      "IMDb reviews (combined): train = 25000, test = 25000\n"
     ]
    }
   ],
   "source": [
    "train_X, test_X, train_y, test_y = prepare_imdb_data(data, labels)\n",
    "print(\"IMDb reviews (combined): train = {}, test = {}\".format(len(train_X), len(test_X)))"
   ]
  },
  {
   "cell_type": "code",
   "execution_count": 9,
   "metadata": {},
   "outputs": [
    {
     "data": {
      "text/plain": [
       "'A blockbuster at the time of it\\'s original release (it was the second-highest grossing film of 1976), the third screen version of A STAR IS BORN has always divided critics and fans alike. The film open to scathingly negative reviews, however, $5.6 million-budgeted picture went on to gross over $150 million at the box office and won an Academy Award and five Golden Globes. It\\'s not without some irony that Streisand\\'s most commercially successful film would also remain her most controversial. For every ten fans who state that STAR is Streisand\\'s best film, there are always ten more who claim it is the weakest film in her filmography. Although both sides have some merit to support their claims, it should still be noted that the seventies take on A STAR IS BORN remains one of the most touching and highly entertaining showbiz dramas that Hollywood ever produced. For my money, it\\'s the best version of the often-told tale.<br /><br />The film is solidly enjoyable and throughly absorbing. Changing the setting from the old Hollywood studio system to the competitive world of the music industry was actually a great idea, and the screenplay forges a realistic contrast between the characters\\' romance and their careers. This is the main area that the 1976 version of A STAR IS BORN actually surpasses it\\'s classic predecessors. For example, the film is especially successful when depicting the clashing personal and professional difficulties during recording sessions and the never-ending phone calls that interrupt Kristofferson\\'s songwriting attempts. This version of the story is also more believable in it\\'s portrayal of the lead characters. For example, the female leads in the two previous versions were so virtuous and self-sacrificing that they came off as saints. On the other hand, Esther, the female lead in this version, is not only portrayed as being strong and passionate, but also flawed and conflicted. This makes her feel more \"real\" than the Janet Gaynor or Judy Garland characters felt in the previous films, and makes the story that much more effective.<br /><br />The performances are all on target, even if some of the supporting characters aren\\'t fleshed out enough. If you\\'re looking for an actress/singer who can walk the fine line between tough and vulnerable without making herself seem like a script contrivance, Streisand is definitely the girl you want. She\\'s one of the few film stars who can make even the most banal dialogue seem fresh and natural, and, as usual, she manages to make a strong emotional connection with the viewer. Simply put, her Esther is a fully-realized, three-dimensional human being. Kris Kristofferson may not get much respect now for his laid-back characterization, however, he\\'s always interesting watch and displays a magnetic charisma here that he seldom displayed elsewhere in his career. Kristofferson actually received rave reviews at the time from NEWSWEEK, TIME, and even the NEW YORKER\\'s usually vicious Pauline Kael. Gary Busey and Paul Mazursky also give believable performances, but both have a fairly minimal amount of screen time.<br /><br />The film\\'s soundtrack recording was also a massive success, hitting the #1 on Billboard\\'s Hot 200 and selling over four million copies in the US alone. The Streisand-composed \"Evergreen\" (with lyrics from Paul Williams) is unarguably one of the most gorgeous songs in contemporary pop, brought to even-further life by an absolutely incomparable vocal performance from Streisand. The rest of the film\\'s original songs (mostly composed by Williams and Rupert Holmes) are pretty good as well, and Streisand sounds fantastic - her live solo numbers remain in the memory long after the rest of the movie has faded. Streisand\\'s vibrant performances bring \"Woman In The Moon\" and \"With One More Look At You\" to thrilling life, and make even sillier numbers like \"Queen Bee\" work far better than they have the right to. Kristofferson\\'s solo numbers sound somewhat tuneless, however, that may have been intentional since he is playing a singer in decline.<br /><br />Though naturally dated in some respects (it definitely does reflect the decade in which it was made), the seventies take on A STAR IS BORN still holds up remarkably well. The film is well-mounted and slickly produced, the chemistry between the leads is extremely powerful and always feels genuine, and Streisand has two emotional scenes near the finale that are both aching effective. In conclusion, A STAR IS BORN is not only entertaining and moving, but it also transcends all criticism.'"
      ]
     },
     "execution_count": 9,
     "metadata": {},
     "output_type": "execute_result"
    }
   ],
   "source": [
    "train_X[100]"
   ]
  },
  {
   "cell_type": "markdown",
   "metadata": {},
   "source": [
    "## Processing the data\n",
    "\n",
    "Now that we have our training and testing datasets merged and ready to use, we need to start processing the raw data into something that will be useable by our machine learning algorithm. To begin with, we remove any html formatting and any non-alpha numeric characters that may appear in the reviews. We will do this in a very simplistic way using Python's regular expression module. We will discuss the reason for this rather simplistic pre-processing later on."
   ]
  },
  {
   "cell_type": "code",
   "execution_count": 10,
   "metadata": {},
   "outputs": [],
   "source": [
    "import re\n",
    "\n",
    "REPLACE_NO_SPACE = re.compile(\"(\\.)|(\\;)|(\\:)|(\\!)|(\\')|(\\?)|(\\,)|(\\\")|(\\()|(\\))|(\\[)|(\\])\")\n",
    "REPLACE_WITH_SPACE = re.compile(\"(<br\\s*/><br\\s*/>)|(\\-)|(\\/)\")\n",
    "\n",
    "def review_to_words(review):\n",
    "    words = REPLACE_NO_SPACE.sub(\"\", review.lower())\n",
    "    words = REPLACE_WITH_SPACE.sub(\" \", words)\n",
    "    return words"
   ]
  },
  {
   "cell_type": "code",
   "execution_count": 11,
   "metadata": {},
   "outputs": [
    {
     "data": {
      "text/plain": [
       "'a blockbuster at the time of its original release it was the second highest grossing film of 1976 the third screen version of a star is born has always divided critics and fans alike the film open to scathingly negative reviews however $56 million budgeted picture went on to gross over $150 million at the box office and won an academy award and five golden globes its not without some irony that streisands most commercially successful film would also remain her most controversial for every ten fans who state that star is streisands best film there are always ten more who claim it is the weakest film in her filmography although both sides have some merit to support their claims it should still be noted that the seventies take on a star is born remains one of the most touching and highly entertaining showbiz dramas that hollywood ever produced for my money its the best version of the often told tale the film is solidly enjoyable and throughly absorbing changing the setting from the old hollywood studio system to the competitive world of the music industry was actually a great idea and the screenplay forges a realistic contrast between the characters romance and their careers this is the main area that the 1976 version of a star is born actually surpasses its classic predecessors for example the film is especially successful when depicting the clashing personal and professional difficulties during recording sessions and the never ending phone calls that interrupt kristoffersons songwriting attempts this version of the story is also more believable in its portrayal of the lead characters for example the female leads in the two previous versions were so virtuous and self sacrificing that they came off as saints on the other hand esther the female lead in this version is not only portrayed as being strong and passionate but also flawed and conflicted this makes her feel more real than the janet gaynor or judy garland characters felt in the previous films and makes the story that much more effective the performances are all on target even if some of the supporting characters arent fleshed out enough if youre looking for an actress singer who can walk the fine line between tough and vulnerable without making herself seem like a script contrivance streisand is definitely the girl you want shes one of the few film stars who can make even the most banal dialogue seem fresh and natural and as usual she manages to make a strong emotional connection with the viewer simply put her esther is a fully realized three dimensional human being kris kristofferson may not get much respect now for his laid back characterization however hes always interesting watch and displays a magnetic charisma here that he seldom displayed elsewhere in his career kristofferson actually received rave reviews at the time from newsweek time and even the new yorkers usually vicious pauline kael gary busey and paul mazursky also give believable performances but both have a fairly minimal amount of screen time the films soundtrack recording was also a massive success hitting the #1 on billboards hot 200 and selling over four million copies in the us alone the streisand composed evergreen with lyrics from paul williams is unarguably one of the most gorgeous songs in contemporary pop brought to even further life by an absolutely incomparable vocal performance from streisand the rest of the films original songs mostly composed by williams and rupert holmes are pretty good as well and streisand sounds fantastic   her live solo numbers remain in the memory long after the rest of the movie has faded streisands vibrant performances bring woman in the moon and with one more look at you to thrilling life and make even sillier numbers like queen bee work far better than they have the right to kristoffersons solo numbers sound somewhat tuneless however that may have been intentional since he is playing a singer in decline though naturally dated in some respects it definitely does reflect the decade in which it was made the seventies take on a star is born still holds up remarkably well the film is well mounted and slickly produced the chemistry between the leads is extremely powerful and always feels genuine and streisand has two emotional scenes near the finale that are both aching effective in conclusion a star is born is not only entertaining and moving but it also transcends all criticism'"
      ]
     },
     "execution_count": 11,
     "metadata": {},
     "output_type": "execute_result"
    }
   ],
   "source": [
    "review_to_words(train_X[100])"
   ]
  },
  {
   "cell_type": "code",
   "execution_count": 12,
   "metadata": {},
   "outputs": [],
   "source": [
    "import pickle\n",
    "\n",
    "cache_dir = os.path.join(\"../cache\", \"sentiment_web_app\")  # where to store cache files\n",
    "os.makedirs(cache_dir, exist_ok=True)  # ensure cache directory exists\n",
    "\n",
    "def preprocess_data(data_train, data_test, labels_train, labels_test,\n",
    "                    cache_dir=cache_dir, cache_file=\"preprocessed_data.pkl\"):\n",
    "    \"\"\"Convert each review to words; read from cache if available.\"\"\"\n",
    "\n",
    "    # If cache_file is not None, try to read from it first\n",
    "    cache_data = None\n",
    "    if cache_file is not None:\n",
    "        try:\n",
    "            with open(os.path.join(cache_dir, cache_file), \"rb\") as f:\n",
    "                cache_data = pickle.load(f)\n",
    "            print(\"Read preprocessed data from cache file:\", cache_file)\n",
    "        except:\n",
    "            pass  # unable to read from cache, but that's okay\n",
    "    \n",
    "    # If cache is missing, then do the heavy lifting\n",
    "    if cache_data is None:\n",
    "        # Preprocess training and test data to obtain words for each review\n",
    "        #words_train = list(map(review_to_words, data_train))\n",
    "        #words_test = list(map(review_to_words, data_test))\n",
    "        words_train = [review_to_words(review) for review in data_train]\n",
    "        words_test = [review_to_words(review) for review in data_test]\n",
    "        \n",
    "        # Write to cache file for future runs\n",
    "        if cache_file is not None:\n",
    "            cache_data = dict(words_train=words_train, words_test=words_test,\n",
    "                              labels_train=labels_train, labels_test=labels_test)\n",
    "            with open(os.path.join(cache_dir, cache_file), \"wb\") as f:\n",
    "                pickle.dump(cache_data, f)\n",
    "            print(\"Wrote preprocessed data to cache file:\", cache_file)\n",
    "    else:\n",
    "        # Unpack data loaded from cache file\n",
    "        words_train, words_test, labels_train, labels_test = (cache_data['words_train'],\n",
    "                cache_data['words_test'], cache_data['labels_train'], cache_data['labels_test'])\n",
    "    \n",
    "    return words_train, words_test, labels_train, labels_test"
   ]
  },
  {
   "cell_type": "code",
   "execution_count": 13,
   "metadata": {},
   "outputs": [
    {
     "name": "stdout",
     "output_type": "stream",
     "text": [
      "Wrote preprocessed data to cache file: preprocessed_data.pkl\n"
     ]
    }
   ],
   "source": [
    "# Preprocess data\n",
    "train_X, test_X, train_y, test_y = preprocess_data(train_X, test_X, train_y, test_y)"
   ]
  },
  {
   "cell_type": "markdown",
   "metadata": {},
   "source": [
    "### Extract Bag-of-Words features\n",
    "\n",
    "For the model we will be implementing, rather than using the reviews directly, we are going to transform each review into a Bag-of-Words feature representation. Keep in mind that 'in the wild' we will only have access to the training set so our transformer can only use the training set to construct a representation."
   ]
  },
  {
   "cell_type": "code",
   "execution_count": 14,
   "metadata": {},
   "outputs": [],
   "source": [
    "import numpy as np\n",
    "from sklearn.feature_extraction.text import CountVectorizer\n",
    "\n",
    "# sklearn.externals.joblib is deprecated in 0.21 and will be removed in 0.23. \n",
    "# from sklearn.externals import joblib\n",
    "\n",
    "# Import joblib package directly\n",
    "import joblib\n",
    "# joblib is an enhanced version of pickle that is more efficient for storing NumPy arrays\n",
    "\n",
    "def extract_BoW_features(words_train, words_test, vocabulary_size=5000,\n",
    "                         cache_dir=cache_dir, cache_file=\"bow_features.pkl\"):\n",
    "    \"\"\"Extract Bag-of-Words for a given set of documents, already preprocessed into words.\"\"\"\n",
    "    \n",
    "    # If cache_file is not None, try to read from it first\n",
    "    cache_data = None\n",
    "    if cache_file is not None:\n",
    "        try:\n",
    "            with open(os.path.join(cache_dir, cache_file), \"rb\") as f:\n",
    "                cache_data = joblib.load(f)\n",
    "            print(\"Read features from cache file:\", cache_file)\n",
    "        except:\n",
    "            pass  # unable to read from cache, but that's okay\n",
    "    \n",
    "    # If cache is missing, then do the heavy lifting\n",
    "    if cache_data is None:\n",
    "        # Fit a vectorizer to training documents and use it to transform them\n",
    "        # NOTE: Training documents have already been preprocessed and tokenized into words;\n",
    "        #       pass in dummy functions to skip those steps, e.g. preprocessor=lambda x: x\n",
    "        vectorizer = CountVectorizer(max_features=vocabulary_size)\n",
    "        features_train = vectorizer.fit_transform(words_train).toarray()\n",
    "\n",
    "        # Apply the same vectorizer to transform the test documents (ignore unknown words)\n",
    "        features_test = vectorizer.transform(words_test).toarray()\n",
    "        \n",
    "        # NOTE: Remember to convert the features using .toarray() for a compact representation\n",
    "        \n",
    "        # Write to cache file for future runs (store vocabulary as well)\n",
    "        if cache_file is not None:\n",
    "            vocabulary = vectorizer.vocabulary_\n",
    "            cache_data = dict(features_train=features_train, features_test=features_test,\n",
    "                             vocabulary=vocabulary)\n",
    "            with open(os.path.join(cache_dir, cache_file), \"wb\") as f:\n",
    "                joblib.dump(cache_data, f)\n",
    "            print(\"Wrote features to cache file:\", cache_file)\n",
    "    else:\n",
    "        # Unpack data loaded from cache file\n",
    "        features_train, features_test, vocabulary = (cache_data['features_train'],\n",
    "                cache_data['features_test'], cache_data['vocabulary'])\n",
    "    \n",
    "    # Return both the extracted features as well as the vocabulary\n",
    "    return features_train, features_test, vocabulary"
   ]
  },
  {
   "cell_type": "code",
   "execution_count": 15,
   "metadata": {},
   "outputs": [
    {
     "name": "stdout",
     "output_type": "stream",
     "text": [
      "Wrote features to cache file: bow_features.pkl\n"
     ]
    }
   ],
   "source": [
    "# Extract Bag of Words features for both training and test datasets\n",
    "train_X, test_X, vocabulary = extract_BoW_features(train_X, test_X)"
   ]
  },
  {
   "cell_type": "code",
   "execution_count": 16,
   "metadata": {},
   "outputs": [
    {
     "data": {
      "text/plain": [
       "5000"
      ]
     },
     "execution_count": 16,
     "metadata": {},
     "output_type": "execute_result"
    }
   ],
   "source": [
    "len(train_X[100])"
   ]
  },
  {
   "cell_type": "code",
   "execution_count": 17,
   "metadata": {},
   "outputs": [
    {
     "data": {
      "text/plain": [
       "656"
      ]
     },
     "execution_count": 17,
     "metadata": {},
     "output_type": "execute_result"
    }
   ],
   "source": [
    "sum(train_X[100])"
   ]
  },
  {
   "cell_type": "code",
   "execution_count": 18,
   "metadata": {},
   "outputs": [
    {
     "data": {
      "text/plain": [
       "{0, 1, 2, 3, 4, 5, 6, 8, 9, 11, 14, 15, 19, 28, 58}"
      ]
     },
     "execution_count": 18,
     "metadata": {},
     "output_type": "execute_result"
    }
   ],
   "source": [
    "set(train_X[100])"
   ]
  },
  {
   "cell_type": "markdown",
   "metadata": {},
   "source": [
    "## Step 3: Upload data to S3\n",
    "\n",
    "Now that we have created the feature representation of our training (and testing) data, it is time to start setting up and using the XGBoost classifier provided by SageMaker.\n",
    "\n",
    "### Writing the datasets\n",
    "\n",
    "The XGBoost classifier that we will be using requires the dataset to be written to a file and stored using Amazon S3. To do this, we will start by splitting the training dataset into two parts, the data we will train the model with and a validation set. Then, we will write those datasets to a file locally and then upload the files to S3. In addition, we will write the test set to a file and upload that file to S3. This is so that we can use SageMakers Batch Transform functionality to test our model once we've fit it."
   ]
  },
  {
   "cell_type": "code",
   "execution_count": 19,
   "metadata": {},
   "outputs": [],
   "source": [
    "import pandas as pd\n",
    "\n",
    "# Earlier we shuffled the training dataset so to make things simple we can just assign\n",
    "# the first 10 000 reviews to the validation set and use the remaining reviews for training.\n",
    "val_X = pd.DataFrame(train_X[:10000])\n",
    "train_X = pd.DataFrame(train_X[10000:])\n",
    "\n",
    "val_y = pd.DataFrame(train_y[:10000])\n",
    "train_y = pd.DataFrame(train_y[10000:])"
   ]
  },
  {
   "cell_type": "markdown",
   "metadata": {},
   "source": [
    "The documentation for the XGBoost algorithm in SageMaker requires that the training and validation datasets should contain no headers or index and that the label should occur first for each sample.\n",
    "\n",
    "For more information about this and other algorithms, the SageMaker developer documentation can be found on __[Amazon's website.](https://docs.aws.amazon.com/sagemaker/latest/dg/)__"
   ]
  },
  {
   "cell_type": "code",
   "execution_count": 20,
   "metadata": {},
   "outputs": [],
   "source": [
    "# First we make sure that the local directory in which we'd like to store the training and validation csv files exists.\n",
    "data_dir = '../data/sentiment_web_app'\n",
    "if not os.path.exists(data_dir):\n",
    "    os.makedirs(data_dir)"
   ]
  },
  {
   "cell_type": "code",
   "execution_count": 21,
   "metadata": {},
   "outputs": [],
   "source": [
    "pd.DataFrame(test_X).to_csv(os.path.join(data_dir, 'test.csv'), header=False, index=False)\n",
    "\n",
    "pd.concat([val_y, val_X], axis=1).to_csv(os.path.join(data_dir, 'validation.csv'), header=False, index=False)\n",
    "pd.concat([train_y, train_X], axis=1).to_csv(os.path.join(data_dir, 'train.csv'), header=False, index=False)"
   ]
  },
  {
   "cell_type": "code",
   "execution_count": 22,
   "metadata": {},
   "outputs": [],
   "source": [
    "# To save a bit of memory we can set text_X, train_X, val_X, train_y and val_y to None.\n",
    "test_X = train_X = val_X = train_y = val_y = None"
   ]
  },
  {
   "cell_type": "markdown",
   "metadata": {},
   "source": [
    "### Uploading Training / Validation files to S3\n",
    "\n",
    "Amazon's S3 service allows us to store files that can be accessed by both the built-in training models such as the XGBoost model we will be using as well as custom models such as the one we will see a little later.\n",
    "\n",
    "For this and most other tasks we will be doing using SageMaker, there are two methods we could use. The first is to use the low level functionality of SageMaker which requires knowing each of the objects involved in the SageMaker environment. The second is to use the high level functionality in which certain choices have been made on the user's behalf. The low level approach benefits from allowing the user a great deal of flexibility while the high level approach makes development much quicker. For our purposes we will opt to use the high level approach although using the low-level approach is certainly an option.\n",
    "\n",
    "Recall the method `upload_data()` which is a member of the object representing our current SageMaker session. What this method does is upload the data to the default bucket (which is created if it does not exist) into the path described by the key_prefix variable. To see this for yourself, once you have uploaded the data files, go to the S3 console and look to see where the files have been uploaded.\n",
    "\n",
    "For additional resources, see the __[SageMaker API documentation](http://sagemaker.readthedocs.io/en/latest/)__ and in addition the __[SageMaker Developer Guide.](https://docs.aws.amazon.com/sagemaker/latest/dg/)__"
   ]
  },
  {
   "cell_type": "code",
   "execution_count": 23,
   "metadata": {},
   "outputs": [],
   "source": [
    "import sagemaker\n",
    "\n",
    "session = sagemaker.Session() # Store the current SageMaker session\n",
    "\n",
    "# S3 prefix (which folder will we use)\n",
    "prefix = 'sentiment-web-app'\n",
    "\n",
    "test_location = session.upload_data(os.path.join(data_dir, 'test.csv'), key_prefix=prefix)\n",
    "val_location = session.upload_data(os.path.join(data_dir, 'validation.csv'), key_prefix=prefix)\n",
    "train_location = session.upload_data(os.path.join(data_dir, 'train.csv'), key_prefix=prefix)"
   ]
  },
  {
   "cell_type": "markdown",
   "metadata": {},
   "source": [
    "## Step 4: Creating the XGBoost model\n",
    "\n",
    "Now that the data has been uploaded it is time to create the XGBoost model. To begin with, we need to do some setup. At this point it is worth discussing what a model is in SageMaker. It is easiest to think of a model of comprising three different objects in the SageMaker ecosystem, which interact with one another.\n",
    "\n",
    "- Model Artifacts\n",
    "- Training Code (Container)\n",
    "- Inference Code (Container)\n",
    "\n",
    "The Model Artifacts are what you might think of as the actual model itself. For example, if you were building a neural network, the model artifacts would be the weights of the various layers. In our case, for an XGBoost model, the artifacts are the actual trees that are created during training.\n",
    "\n",
    "The other two objects, the training code and the inference code are then used to manipulate the training artifacts. More precisely, the training code uses the training data that is provided and creates the model artifacts, while the inference code uses the model artifacts to make predictions on new data.\n",
    "\n",
    "The way that SageMaker runs the training and inference code is by making use of Docker containers. For now, think of a container as being a way of packaging code up so that dependencies aren't an issue."
   ]
  },
  {
   "cell_type": "code",
   "execution_count": 24,
   "metadata": {},
   "outputs": [
    {
     "name": "stdout",
     "output_type": "stream",
     "text": [
      "arn:aws:iam::028135097561:role/service-role/AmazonSageMaker-ExecutionRole-20210212T071650\n"
     ]
    }
   ],
   "source": [
    "from sagemaker import get_execution_role\n",
    "\n",
    "# Our current execution role is required when creating the model as the training\n",
    "# and inference code will need to access the model artifacts.\n",
    "role = get_execution_role()\n",
    "print(role)"
   ]
  },
  {
   "cell_type": "code",
   "execution_count": 26,
   "metadata": {},
   "outputs": [
    {
     "data": {
      "text/plain": [
       "'eu-central-1'"
      ]
     },
     "execution_count": 26,
     "metadata": {},
     "output_type": "execute_result"
    }
   ],
   "source": [
    "session.boto_region_name"
   ]
  },
  {
   "cell_type": "code",
   "execution_count": 27,
   "metadata": {},
   "outputs": [
    {
     "name": "stderr",
     "output_type": "stream",
     "text": [
      "'get_image_uri' method will be deprecated in favor of 'ImageURIProvider' class in SageMaker Python SDK v2.\n"
     ]
    }
   ],
   "source": [
    "# We need to retrieve the location of the container which is provided by Amazon for using XGBoost.\n",
    "# As a matter of convenience, the training and inference code both use the same container.\n",
    "from sagemaker.amazon.amazon_estimator import get_image_uri\n",
    "\n",
    "container = get_image_uri(session.boto_region_name, 'xgboost', '1.0-1') # downgrade xgboost"
   ]
  },
  {
   "cell_type": "code",
   "execution_count": 28,
   "metadata": {},
   "outputs": [
    {
     "name": "stdout",
     "output_type": "stream",
     "text": [
      "492215442770.dkr.ecr.eu-central-1.amazonaws.com/sagemaker-xgboost:1.0-1-cpu-py3\n"
     ]
    }
   ],
   "source": [
    "print(container)"
   ]
  },
  {
   "cell_type": "code",
   "execution_count": 29,
   "metadata": {},
   "outputs": [
    {
     "name": "stderr",
     "output_type": "stream",
     "text": [
      "Parameter image_name will be renamed to image_uri in SageMaker Python SDK v2.\n"
     ]
    }
   ],
   "source": [
    "# First we create a SageMaker estimator object for our model.\n",
    "xgb = sagemaker.estimator.Estimator(container, # The location of the container we wish to use\n",
    "                                    role,                                    # What is our current IAM Role\n",
    "                                    train_instance_count=1,                  # How many compute instances\n",
    "                                    train_instance_type='ml.m4.xlarge',      # What kind of compute instances\n",
    "                                    output_path='s3://{}/{}/output'.format(session.default_bucket(), prefix),\n",
    "                                    sagemaker_session=session)\n",
    "\n",
    "# And then set the algorithm specific parameters.\n",
    "xgb.set_hyperparameters(max_depth=5,\n",
    "                        eta=0.1,\n",
    "                        #gamma=4,\n",
    "                        min_child_weight=6,\n",
    "                        subsample=0.8,\n",
    "                        silent=0,\n",
    "                        objective='binary:logistic',\n",
    "                        early_stopping_rounds=10,\n",
    "                        num_round=500)"
   ]
  },
  {
   "cell_type": "markdown",
   "metadata": {},
   "source": [
    "### Fit the XGBoost model\n",
    "\n",
    "Now that our model has been set up we simply need to attach the training and validation datasets and then ask SageMaker to set up the computation."
   ]
  },
  {
   "cell_type": "code",
   "execution_count": 30,
   "metadata": {},
   "outputs": [
    {
     "name": "stderr",
     "output_type": "stream",
     "text": [
      "'s3_input' class will be renamed to 'TrainingInput' in SageMaker Python SDK v2.\n",
      "'s3_input' class will be renamed to 'TrainingInput' in SageMaker Python SDK v2.\n"
     ]
    }
   ],
   "source": [
    "s3_input_train = sagemaker.s3_input(s3_data=train_location, content_type='csv')\n",
    "s3_input_validation = sagemaker.s3_input(s3_data=val_location, content_type='csv')"
   ]
  },
  {
   "cell_type": "code",
   "execution_count": 31,
   "metadata": {},
   "outputs": [
    {
     "name": "stdout",
     "output_type": "stream",
     "text": [
      "2021-02-12 06:34:41 Starting - Starting the training job...\n",
      "2021-02-12 06:34:43 Starting - Launching requested ML instances......\n",
      "2021-02-12 06:35:54 Starting - Preparing the instances for training......\n",
      "2021-02-12 06:37:03 Downloading - Downloading input data\n",
      "2021-02-12 06:37:03 Training - Downloading the training image.....\u001b[34mINFO:sagemaker-containers:Imported framework sagemaker_xgboost_container.training\u001b[0m\n",
      "\u001b[34mINFO:sagemaker-containers:Failed to parse hyperparameter objective value binary:logistic to Json.\u001b[0m\n",
      "\u001b[34mReturning the value itself\u001b[0m\n",
      "\u001b[34mINFO:sagemaker-containers:No GPUs detected (normal if no gpus installed)\u001b[0m\n",
      "\u001b[34mINFO:sagemaker_xgboost_container.training:Running XGBoost Sagemaker in algorithm mode\u001b[0m\n",
      "\u001b[34mINFO:root:Determined delimiter of CSV input is ','\u001b[0m\n",
      "\u001b[34mINFO:root:Determined delimiter of CSV input is ','\u001b[0m\n",
      "\u001b[34mINFO:root:Determined delimiter of CSV input is ','\u001b[0m\n",
      "\u001b[34m[06:37:50] 15000x5000 matrix with 75000000 entries loaded from /opt/ml/input/data/train?format=csv&label_column=0&delimiter=,\u001b[0m\n",
      "\u001b[34mINFO:root:Determined delimiter of CSV input is ','\u001b[0m\n",
      "\u001b[34m[06:37:52] 10000x5000 matrix with 50000000 entries loaded from /opt/ml/input/data/validation?format=csv&label_column=0&delimiter=,\u001b[0m\n",
      "\u001b[34mINFO:root:Single node training.\u001b[0m\n",
      "\u001b[34mINFO:root:Train matrix has 15000 rows\u001b[0m\n",
      "\u001b[34mINFO:root:Validation matrix has 10000 rows\u001b[0m\n",
      "\u001b[34m[06:37:52] WARNING: /workspace/src/learner.cc:328: \u001b[0m\n",
      "\u001b[34mParameters: { early_stopping_rounds, num_round, silent } might not be used.\n",
      "\n",
      "  This may not be accurate due to some parameters are only used in language bindings but\n",
      "  passed down to XGBoost core.  Or some parameters are not used but slip through this\n",
      "  verification. Please open an issue if you find above cases.\n",
      "\n",
      "\u001b[0m\n",
      "\u001b[34m[0]#011train-error:0.30613#011validation-error:0.31360\u001b[0m\n",
      "\u001b[34m[1]#011train-error:0.29207#011validation-error:0.29640\u001b[0m\n",
      "\u001b[34m[2]#011train-error:0.29113#011validation-error:0.29540\u001b[0m\n",
      "\n",
      "2021-02-12 06:37:44 Training - Training image download completed. Training in progress.\u001b[34m[3]#011train-error:0.29540#011validation-error:0.30100\u001b[0m\n",
      "\u001b[34m[4]#011train-error:0.29000#011validation-error:0.29330\u001b[0m\n",
      "\u001b[34m[5]#011train-error:0.28620#011validation-error:0.29130\u001b[0m\n",
      "\u001b[34m[6]#011train-error:0.28380#011validation-error:0.28940\u001b[0m\n",
      "\u001b[34m[7]#011train-error:0.27580#011validation-error:0.28220\u001b[0m\n",
      "\u001b[34m[8]#011train-error:0.27860#011validation-error:0.28470\u001b[0m\n",
      "\u001b[34m[9]#011train-error:0.27327#011validation-error:0.27750\u001b[0m\n",
      "\u001b[34m[10]#011train-error:0.27000#011validation-error:0.27420\u001b[0m\n",
      "\u001b[34m[11]#011train-error:0.26340#011validation-error:0.27060\u001b[0m\n",
      "\u001b[34m[12]#011train-error:0.25713#011validation-error:0.26490\u001b[0m\n",
      "\u001b[34m[13]#011train-error:0.25460#011validation-error:0.26340\u001b[0m\n",
      "\u001b[34m[14]#011train-error:0.25013#011validation-error:0.25980\u001b[0m\n",
      "\u001b[34m[15]#011train-error:0.24427#011validation-error:0.25510\u001b[0m\n",
      "\u001b[34m[16]#011train-error:0.24113#011validation-error:0.25210\u001b[0m\n",
      "\u001b[34m[17]#011train-error:0.23493#011validation-error:0.24680\u001b[0m\n",
      "\u001b[34m[18]#011train-error:0.23253#011validation-error:0.24350\u001b[0m\n",
      "\u001b[34m[19]#011train-error:0.23053#011validation-error:0.23960\u001b[0m\n",
      "\u001b[34m[20]#011train-error:0.22700#011validation-error:0.23680\u001b[0m\n",
      "\u001b[34m[21]#011train-error:0.22467#011validation-error:0.23570\u001b[0m\n",
      "\u001b[34m[22]#011train-error:0.22253#011validation-error:0.23360\u001b[0m\n",
      "\u001b[34m[23]#011train-error:0.22040#011validation-error:0.23200\u001b[0m\n",
      "\u001b[34m[24]#011train-error:0.21727#011validation-error:0.23000\u001b[0m\n",
      "\u001b[34m[25]#011train-error:0.21493#011validation-error:0.22800\u001b[0m\n",
      "\u001b[34m[26]#011train-error:0.21227#011validation-error:0.22580\u001b[0m\n",
      "\u001b[34m[27]#011train-error:0.21007#011validation-error:0.22290\u001b[0m\n",
      "\u001b[34m[28]#011train-error:0.20820#011validation-error:0.22130\u001b[0m\n",
      "\u001b[34m[29]#011train-error:0.20560#011validation-error:0.21950\u001b[0m\n",
      "\u001b[34m[30]#011train-error:0.20340#011validation-error:0.21810\u001b[0m\n",
      "\u001b[34m[31]#011train-error:0.20040#011validation-error:0.21530\u001b[0m\n",
      "\u001b[34m[32]#011train-error:0.19913#011validation-error:0.21410\u001b[0m\n",
      "\u001b[34m[33]#011train-error:0.19720#011validation-error:0.21310\u001b[0m\n",
      "\u001b[34m[34]#011train-error:0.19567#011validation-error:0.21120\u001b[0m\n",
      "\u001b[34m[35]#011train-error:0.19427#011validation-error:0.21100\u001b[0m\n",
      "\u001b[34m[36]#011train-error:0.19160#011validation-error:0.20950\u001b[0m\n",
      "\u001b[34m[37]#011train-error:0.19267#011validation-error:0.20950\u001b[0m\n",
      "\u001b[34m[38]#011train-error:0.19047#011validation-error:0.20870\u001b[0m\n",
      "\u001b[34m[39]#011train-error:0.18733#011validation-error:0.20730\u001b[0m\n",
      "\u001b[34m[40]#011train-error:0.18547#011validation-error:0.20620\u001b[0m\n",
      "\u001b[34m[41]#011train-error:0.18367#011validation-error:0.20400\u001b[0m\n",
      "\u001b[34m[42]#011train-error:0.18260#011validation-error:0.20340\u001b[0m\n",
      "\u001b[34m[43]#011train-error:0.18100#011validation-error:0.20160\u001b[0m\n",
      "\u001b[34m[44]#011train-error:0.17920#011validation-error:0.20000\u001b[0m\n",
      "\u001b[34m[45]#011train-error:0.17847#011validation-error:0.19950\u001b[0m\n",
      "\u001b[34m[46]#011train-error:0.17793#011validation-error:0.20000\u001b[0m\n",
      "\u001b[34m[47]#011train-error:0.17660#011validation-error:0.19850\u001b[0m\n",
      "\u001b[34m[48]#011train-error:0.17567#011validation-error:0.19760\u001b[0m\n",
      "\u001b[34m[49]#011train-error:0.17553#011validation-error:0.19680\u001b[0m\n",
      "\u001b[34m[50]#011train-error:0.17560#011validation-error:0.19620\u001b[0m\n",
      "\u001b[34m[51]#011train-error:0.17533#011validation-error:0.19570\u001b[0m\n",
      "\u001b[34m[52]#011train-error:0.17393#011validation-error:0.19550\u001b[0m\n",
      "\u001b[34m[53]#011train-error:0.17347#011validation-error:0.19560\u001b[0m\n",
      "\u001b[34m[54]#011train-error:0.17167#011validation-error:0.19460\u001b[0m\n",
      "\u001b[34m[55]#011train-error:0.17033#011validation-error:0.19510\u001b[0m\n",
      "\u001b[34m[56]#011train-error:0.16913#011validation-error:0.19390\u001b[0m\n",
      "\u001b[34m[57]#011train-error:0.16693#011validation-error:0.19320\u001b[0m\n",
      "\u001b[34m[58]#011train-error:0.16660#011validation-error:0.19220\u001b[0m\n",
      "\u001b[34m[59]#011train-error:0.16493#011validation-error:0.19140\u001b[0m\n",
      "\u001b[34m[60]#011train-error:0.16460#011validation-error:0.19020\u001b[0m\n",
      "\u001b[34m[61]#011train-error:0.16347#011validation-error:0.18950\u001b[0m\n",
      "\u001b[34m[62]#011train-error:0.16187#011validation-error:0.19050\u001b[0m\n",
      "\u001b[34m[63]#011train-error:0.16087#011validation-error:0.18950\u001b[0m\n",
      "\u001b[34m[64]#011train-error:0.16007#011validation-error:0.18890\u001b[0m\n",
      "\u001b[34m[65]#011train-error:0.16020#011validation-error:0.18850\u001b[0m\n",
      "\u001b[34m[66]#011train-error:0.15913#011validation-error:0.18720\u001b[0m\n",
      "\u001b[34m[67]#011train-error:0.15820#011validation-error:0.18640\u001b[0m\n",
      "\u001b[34m[68]#011train-error:0.15667#011validation-error:0.18540\u001b[0m\n",
      "\u001b[34m[69]#011train-error:0.15527#011validation-error:0.18490\u001b[0m\n",
      "\u001b[34m[70]#011train-error:0.15420#011validation-error:0.18530\u001b[0m\n",
      "\u001b[34m[71]#011train-error:0.15380#011validation-error:0.18420\u001b[0m\n",
      "\u001b[34m[72]#011train-error:0.15373#011validation-error:0.18370\u001b[0m\n",
      "\u001b[34m[73]#011train-error:0.15280#011validation-error:0.18340\u001b[0m\n",
      "\u001b[34m[74]#011train-error:0.15220#011validation-error:0.18290\u001b[0m\n",
      "\u001b[34m[75]#011train-error:0.15113#011validation-error:0.18260\u001b[0m\n",
      "\u001b[34m[76]#011train-error:0.14953#011validation-error:0.18140\u001b[0m\n",
      "\u001b[34m[77]#011train-error:0.14833#011validation-error:0.18120\u001b[0m\n",
      "\u001b[34m[78]#011train-error:0.14780#011validation-error:0.18130\u001b[0m\n",
      "\u001b[34m[79]#011train-error:0.14807#011validation-error:0.18150\u001b[0m\n",
      "\u001b[34m[80]#011train-error:0.14740#011validation-error:0.18140\u001b[0m\n",
      "\u001b[34m[81]#011train-error:0.14667#011validation-error:0.18070\u001b[0m\n",
      "\u001b[34m[82]#011train-error:0.14633#011validation-error:0.18120\u001b[0m\n",
      "\u001b[34m[83]#011train-error:0.14500#011validation-error:0.18140\u001b[0m\n",
      "\u001b[34m[84]#011train-error:0.14367#011validation-error:0.18010\u001b[0m\n",
      "\u001b[34m[85]#011train-error:0.14287#011validation-error:0.18060\u001b[0m\n",
      "\u001b[34m[86]#011train-error:0.14233#011validation-error:0.17950\u001b[0m\n",
      "\u001b[34m[87]#011train-error:0.14040#011validation-error:0.17890\u001b[0m\n",
      "\u001b[34m[88]#011train-error:0.13967#011validation-error:0.17790\u001b[0m\n",
      "\u001b[34m[89]#011train-error:0.13913#011validation-error:0.17760\u001b[0m\n",
      "\u001b[34m[90]#011train-error:0.13787#011validation-error:0.17680\u001b[0m\n",
      "\u001b[34m[91]#011train-error:0.13753#011validation-error:0.17560\u001b[0m\n",
      "\u001b[34m[92]#011train-error:0.13707#011validation-error:0.17530\u001b[0m\n",
      "\u001b[34m[93]#011train-error:0.13580#011validation-error:0.17590\u001b[0m\n",
      "\u001b[34m[94]#011train-error:0.13560#011validation-error:0.17510\u001b[0m\n",
      "\u001b[34m[95]#011train-error:0.13540#011validation-error:0.17450\u001b[0m\n",
      "\u001b[34m[96]#011train-error:0.13447#011validation-error:0.17450\u001b[0m\n",
      "\u001b[34m[97]#011train-error:0.13387#011validation-error:0.17380\u001b[0m\n",
      "\u001b[34m[98]#011train-error:0.13360#011validation-error:0.17400\u001b[0m\n",
      "\u001b[34m[99]#011train-error:0.13300#011validation-error:0.17320\u001b[0m\n",
      "\u001b[34m[100]#011train-error:0.13260#011validation-error:0.17230\u001b[0m\n",
      "\u001b[34m[101]#011train-error:0.13180#011validation-error:0.17280\u001b[0m\n",
      "\u001b[34m[102]#011train-error:0.13147#011validation-error:0.17190\u001b[0m\n",
      "\u001b[34m[103]#011train-error:0.13093#011validation-error:0.17220\u001b[0m\n",
      "\u001b[34m[104]#011train-error:0.13060#011validation-error:0.17100\u001b[0m\n",
      "\u001b[34m[105]#011train-error:0.13093#011validation-error:0.17160\u001b[0m\n",
      "\u001b[34m[106]#011train-error:0.13060#011validation-error:0.17150\u001b[0m\n",
      "\u001b[34m[107]#011train-error:0.13047#011validation-error:0.17080\u001b[0m\n",
      "\u001b[34m[108]#011train-error:0.12987#011validation-error:0.16970\u001b[0m\n",
      "\u001b[34m[109]#011train-error:0.12947#011validation-error:0.16980\u001b[0m\n",
      "\u001b[34m[110]#011train-error:0.12887#011validation-error:0.16990\u001b[0m\n",
      "\u001b[34m[111]#011train-error:0.12813#011validation-error:0.16990\u001b[0m\n",
      "\u001b[34m[112]#011train-error:0.12733#011validation-error:0.16950\u001b[0m\n",
      "\u001b[34m[113]#011train-error:0.12727#011validation-error:0.16940\u001b[0m\n",
      "\u001b[34m[114]#011train-error:0.12707#011validation-error:0.16900\u001b[0m\n",
      "\u001b[34m[115]#011train-error:0.12620#011validation-error:0.16860\u001b[0m\n",
      "\u001b[34m[116]#011train-error:0.12567#011validation-error:0.16860\u001b[0m\n",
      "\u001b[34m[117]#011train-error:0.12487#011validation-error:0.16860\u001b[0m\n",
      "\u001b[34m[118]#011train-error:0.12473#011validation-error:0.16880\u001b[0m\n",
      "\u001b[34m[119]#011train-error:0.12373#011validation-error:0.16890\u001b[0m\n",
      "\u001b[34m[120]#011train-error:0.12293#011validation-error:0.16820\u001b[0m\n",
      "\u001b[34m[121]#011train-error:0.12287#011validation-error:0.16850\u001b[0m\n",
      "\u001b[34m[122]#011train-error:0.12247#011validation-error:0.16730\u001b[0m\n",
      "\u001b[34m[123]#011train-error:0.12213#011validation-error:0.16770\u001b[0m\n",
      "\u001b[34m[124]#011train-error:0.12173#011validation-error:0.16730\u001b[0m\n",
      "\u001b[34m[125]#011train-error:0.12187#011validation-error:0.16630\u001b[0m\n",
      "\u001b[34m[126]#011train-error:0.12200#011validation-error:0.16640\u001b[0m\n",
      "\u001b[34m[127]#011train-error:0.12080#011validation-error:0.16670\u001b[0m\n",
      "\u001b[34m[128]#011train-error:0.12053#011validation-error:0.16610\u001b[0m\n",
      "\u001b[34m[129]#011train-error:0.11973#011validation-error:0.16560\u001b[0m\n",
      "\u001b[34m[130]#011train-error:0.11920#011validation-error:0.16510\u001b[0m\n",
      "\u001b[34m[131]#011train-error:0.11853#011validation-error:0.16460\u001b[0m\n",
      "\u001b[34m[132]#011train-error:0.11840#011validation-error:0.16470\u001b[0m\n",
      "\u001b[34m[133]#011train-error:0.11813#011validation-error:0.16420\u001b[0m\n",
      "\u001b[34m[134]#011train-error:0.11753#011validation-error:0.16430\u001b[0m\n",
      "\u001b[34m[135]#011train-error:0.11733#011validation-error:0.16440\u001b[0m\n",
      "\u001b[34m[136]#011train-error:0.11693#011validation-error:0.16390\u001b[0m\n",
      "\u001b[34m[137]#011train-error:0.11613#011validation-error:0.16370\u001b[0m\n",
      "\u001b[34m[138]#011train-error:0.11493#011validation-error:0.16340\u001b[0m\n",
      "\u001b[34m[139]#011train-error:0.11433#011validation-error:0.16330\u001b[0m\n",
      "\u001b[34m[140]#011train-error:0.11333#011validation-error:0.16280\u001b[0m\n",
      "\u001b[34m[141]#011train-error:0.11287#011validation-error:0.16180\u001b[0m\n",
      "\u001b[34m[142]#011train-error:0.11253#011validation-error:0.16160\u001b[0m\n",
      "\u001b[34m[143]#011train-error:0.11233#011validation-error:0.16060\u001b[0m\n",
      "\u001b[34m[144]#011train-error:0.11173#011validation-error:0.16010\u001b[0m\n",
      "\u001b[34m[145]#011train-error:0.11133#011validation-error:0.15930\u001b[0m\n",
      "\u001b[34m[146]#011train-error:0.11120#011validation-error:0.15910\u001b[0m\n",
      "\u001b[34m[147]#011train-error:0.11047#011validation-error:0.15930\u001b[0m\n",
      "\u001b[34m[148]#011train-error:0.11047#011validation-error:0.15900\u001b[0m\n",
      "\u001b[34m[149]#011train-error:0.11007#011validation-error:0.15900\u001b[0m\n",
      "\u001b[34m[150]#011train-error:0.10980#011validation-error:0.15840\u001b[0m\n",
      "\u001b[34m[151]#011train-error:0.10920#011validation-error:0.15750\u001b[0m\n",
      "\u001b[34m[152]#011train-error:0.10880#011validation-error:0.15730\u001b[0m\n",
      "\u001b[34m[153]#011train-error:0.10853#011validation-error:0.15700\u001b[0m\n",
      "\u001b[34m[154]#011train-error:0.10860#011validation-error:0.15680\u001b[0m\n",
      "\u001b[34m[155]#011train-error:0.10807#011validation-error:0.15630\u001b[0m\n",
      "\u001b[34m[156]#011train-error:0.10780#011validation-error:0.15580\u001b[0m\n",
      "\u001b[34m[157]#011train-error:0.10693#011validation-error:0.15570\u001b[0m\n",
      "\u001b[34m[158]#011train-error:0.10687#011validation-error:0.15550\u001b[0m\n",
      "\u001b[34m[159]#011train-error:0.10673#011validation-error:0.15480\u001b[0m\n",
      "\u001b[34m[160]#011train-error:0.10573#011validation-error:0.15470\u001b[0m\n",
      "\u001b[34m[161]#011train-error:0.10553#011validation-error:0.15460\u001b[0m\n",
      "\u001b[34m[162]#011train-error:0.10520#011validation-error:0.15510\u001b[0m\n",
      "\u001b[34m[163]#011train-error:0.10507#011validation-error:0.15560\u001b[0m\n",
      "\u001b[34m[164]#011train-error:0.10520#011validation-error:0.15510\u001b[0m\n",
      "\u001b[34m[165]#011train-error:0.10473#011validation-error:0.15470\u001b[0m\n",
      "\u001b[34m[166]#011train-error:0.10427#011validation-error:0.15490\u001b[0m\n",
      "\u001b[34m[167]#011train-error:0.10447#011validation-error:0.15460\u001b[0m\n",
      "\u001b[34m[168]#011train-error:0.10407#011validation-error:0.15410\u001b[0m\n",
      "\u001b[34m[169]#011train-error:0.10300#011validation-error:0.15390\u001b[0m\n",
      "\u001b[34m[170]#011train-error:0.10273#011validation-error:0.15320\u001b[0m\n",
      "\u001b[34m[171]#011train-error:0.10213#011validation-error:0.15300\u001b[0m\n",
      "\u001b[34m[172]#011train-error:0.10247#011validation-error:0.15350\u001b[0m\n",
      "\u001b[34m[173]#011train-error:0.10207#011validation-error:0.15260\u001b[0m\n",
      "\u001b[34m[174]#011train-error:0.10173#011validation-error:0.15240\u001b[0m\n",
      "\u001b[34m[175]#011train-error:0.10160#011validation-error:0.15210\u001b[0m\n",
      "\u001b[34m[176]#011train-error:0.10000#011validation-error:0.15140\u001b[0m\n",
      "\u001b[34m[177]#011train-error:0.09933#011validation-error:0.15160\u001b[0m\n",
      "\u001b[34m[178]#011train-error:0.09900#011validation-error:0.15190\u001b[0m\n",
      "\u001b[34m[179]#011train-error:0.09847#011validation-error:0.15180\u001b[0m\n",
      "\u001b[34m[180]#011train-error:0.09800#011validation-error:0.15170\u001b[0m\n",
      "\u001b[34m[181]#011train-error:0.09727#011validation-error:0.15200\u001b[0m\n",
      "\u001b[34m[182]#011train-error:0.09713#011validation-error:0.15170\u001b[0m\n",
      "\u001b[34m[183]#011train-error:0.09713#011validation-error:0.15100\u001b[0m\n",
      "\u001b[34m[184]#011train-error:0.09607#011validation-error:0.15100\u001b[0m\n",
      "\u001b[34m[185]#011train-error:0.09600#011validation-error:0.15100\u001b[0m\n",
      "\u001b[34m[186]#011train-error:0.09580#011validation-error:0.15150\u001b[0m\n",
      "\u001b[34m[187]#011train-error:0.09573#011validation-error:0.15130\u001b[0m\n",
      "\u001b[34m[188]#011train-error:0.09573#011validation-error:0.15130\u001b[0m\n",
      "\u001b[34m[189]#011train-error:0.09547#011validation-error:0.15070\u001b[0m\n",
      "\u001b[34m[190]#011train-error:0.09540#011validation-error:0.15100\u001b[0m\n",
      "\u001b[34m[191]#011train-error:0.09540#011validation-error:0.15100\u001b[0m\n",
      "\u001b[34m[192]#011train-error:0.09460#011validation-error:0.15070\u001b[0m\n",
      "\u001b[34m[193]#011train-error:0.09420#011validation-error:0.15080\u001b[0m\n",
      "\u001b[34m[194]#011train-error:0.09433#011validation-error:0.15050\u001b[0m\n",
      "\u001b[34m[195]#011train-error:0.09400#011validation-error:0.14990\u001b[0m\n",
      "\u001b[34m[196]#011train-error:0.09367#011validation-error:0.15030\u001b[0m\n",
      "\u001b[34m[197]#011train-error:0.09373#011validation-error:0.15050\u001b[0m\n",
      "\u001b[34m[198]#011train-error:0.09360#011validation-error:0.14970\u001b[0m\n",
      "\u001b[34m[199]#011train-error:0.09300#011validation-error:0.15010\u001b[0m\n",
      "\u001b[34m[200]#011train-error:0.09273#011validation-error:0.15020\u001b[0m\n",
      "\u001b[34m[201]#011train-error:0.09207#011validation-error:0.15040\u001b[0m\n",
      "\u001b[34m[202]#011train-error:0.09167#011validation-error:0.15090\u001b[0m\n",
      "\u001b[34m[203]#011train-error:0.09153#011validation-error:0.15110\u001b[0m\n",
      "\u001b[34m[204]#011train-error:0.09113#011validation-error:0.15150\u001b[0m\n",
      "\u001b[34m[205]#011train-error:0.09140#011validation-error:0.15150\u001b[0m\n",
      "\u001b[34m[206]#011train-error:0.09113#011validation-error:0.15150\u001b[0m\n",
      "\u001b[34m[207]#011train-error:0.09093#011validation-error:0.15120\u001b[0m\n",
      "\u001b[34m[208]#011train-error:0.09040#011validation-error:0.15050\u001b[0m\n",
      "\n",
      "2021-02-12 06:42:45 Uploading - Uploading generated training model\n",
      "2021-02-12 06:42:52 Completed - Training job completed\n",
      "Training seconds: 367\n",
      "Billable seconds: 367\n"
     ]
    }
   ],
   "source": [
    "xgb.fit({'train': s3_input_train, 'validation': s3_input_validation})"
   ]
  },
  {
   "cell_type": "markdown",
   "metadata": {},
   "source": [
    "## Step 5: Testing the model\n",
    "\n",
    "Now that we've fit our XGBoost model, it's time to see how well it performs. To do this we will use SageMakers Batch Transform functionality. Batch Transform is a convenient way to perform inference on a large dataset in a way that is not realtime. That is, we don't necessarily need to use our model's results immediately and instead we can perform inference on a large number of samples. An example of this in industry might be performing an end of month report. This method of inference can also be useful to us as it means that we can perform inference on our entire test set. \n",
    "\n",
    "To perform a Batch Transformation we need to first create a transformer objects from our trained estimator object."
   ]
  },
  {
   "cell_type": "code",
   "execution_count": 32,
   "metadata": {},
   "outputs": [
    {
     "name": "stderr",
     "output_type": "stream",
     "text": [
      "Parameter image will be renamed to image_uri in SageMaker Python SDK v2.\n"
     ]
    }
   ],
   "source": [
    "xgb_transformer = xgb.transformer(instance_count = 1, instance_type = 'ml.m4.xlarge')"
   ]
  },
  {
   "cell_type": "markdown",
   "metadata": {},
   "source": [
    "Next we actually perform the transform job. When doing so we need to make sure to specify the type of data we are sending so that it is serialized correctly in the background. In our case we are providing our model with csv data so we specify `text/csv`. Also, if the test data that we have provided is too large to process all at once then we need to specify how the data file should be split up. Since each line is a single entry in our data set we tell SageMaker that it can split the input on each line."
   ]
  },
  {
   "cell_type": "code",
   "execution_count": 33,
   "metadata": {},
   "outputs": [],
   "source": [
    "xgb_transformer.transform(test_location, content_type='text/csv', split_type='Line')"
   ]
  },
  {
   "cell_type": "markdown",
   "metadata": {},
   "source": [
    "Currently the transform job is running but it is doing so in the background. Since we wish to wait until the transform job is done and we would like a bit of feedback we can run the `wait()` method."
   ]
  },
  {
   "cell_type": "code",
   "execution_count": 34,
   "metadata": {},
   "outputs": [
    {
     "name": "stdout",
     "output_type": "stream",
     "text": [
      ".............................\u001b[34m[2021-02-12:06:48:45:INFO] No GPUs detected (normal if no gpus installed)\u001b[0m\n",
      "\u001b[34m[2021-02-12:06:48:45:INFO] No GPUs detected (normal if no gpus installed)\u001b[0m\n",
      "\u001b[34m[2021-02-12:06:48:45:INFO] nginx config: \u001b[0m\n",
      "\u001b[34mworker_processes auto;\u001b[0m\n",
      "\u001b[34mdaemon off;\u001b[0m\n",
      "\u001b[34mpid /tmp/nginx.pid;\u001b[0m\n",
      "\u001b[34merror_log  /dev/stderr;\n",
      "\u001b[0m\n",
      "\u001b[34mworker_rlimit_nofile 4096;\n",
      "\u001b[0m\n",
      "\u001b[34mevents {\n",
      "  worker_connections 2048;\u001b[0m\n",
      "\u001b[34m}\n",
      "\u001b[0m\n",
      "\u001b[34mhttp {\n",
      "  include /etc/nginx/mime.types;\n",
      "  default_type application/octet-stream;\n",
      "  access_log /dev/stdout combined;\n",
      "\n",
      "  upstream gunicorn {\n",
      "    server unix:/tmp/gunicorn.sock;\n",
      "  }\n",
      "\n",
      "  server {\n",
      "    listen 8080 deferred;\n",
      "    client_max_body_size 0;\n",
      "\n",
      "    keepalive_timeout 3;\n",
      "\n",
      "    location ~ ^/(ping|invocations|execution-parameters) {\n",
      "      proxy_set_header X-Forwarded-For $proxy_add_x_forwarded_for;\n",
      "      proxy_set_header Host $http_host;\n",
      "      proxy_redirect off;\n",
      "      proxy_read_timeout 60s;\n",
      "      proxy_pass http://gunicorn;\n",
      "    }\n",
      "\n",
      "    location / {\n",
      "      return 404 \"{}\";\n",
      "    }\n",
      "\n",
      "  }\u001b[0m\n",
      "\u001b[34m}\n",
      "\n",
      "\u001b[0m\n",
      "\u001b[34m2021/02/12 06:48:45 [crit] 18#18: *1 connect() to unix:/tmp/gunicorn.sock failed (2: No such file or directory) while connecting to upstream, client: 169.254.255.130, server: , request: \"GET /ping HTTP/1.1\", upstream: \"http://unix:/tmp/gunicorn.sock:/ping\", host: \"169.254.255.131:8080\"\u001b[0m\n",
      "\u001b[34m169.254.255.130 - - [12/Feb/2021:06:48:45 +0000] \"GET /ping HTTP/1.1\" 502 182 \"-\" \"Go-http-client/1.1\"\u001b[0m\n",
      "\u001b[34m2021/02/12 06:48:45 [crit] 18#18: *3 connect() to unix:/tmp/gunicorn.sock failed (2: No such file or directory) while connecting to upstream, client: 169.254.255.130, server: , request: \"GET /ping HTTP/1.1\", upstream: \"http://unix:/tmp/gunicorn.sock:/ping\", host: \"169.254.255.131:8080\"\u001b[0m\n",
      "\u001b[34m169.254.255.130 - - [12/Feb/2021:06:48:45 +0000] \"GET /ping HTTP/1.1\" 502 182 \"-\" \"Go-http-client/1.1\"\u001b[0m\n",
      "\u001b[34m[2021-02-12 06:48:45 +0000] [17] [INFO] Starting gunicorn 19.10.0\u001b[0m\n",
      "\u001b[34m[2021-02-12 06:48:45 +0000] [17] [INFO] Listening at: unix:/tmp/gunicorn.sock (17)\u001b[0m\n",
      "\u001b[34m[2021-02-12 06:48:45 +0000] [17] [INFO] Using worker: gevent\u001b[0m\n",
      "\u001b[34m[2021-02-12 06:48:45 +0000] [24] [INFO] Booting worker with pid: 24\u001b[0m\n",
      "\u001b[34m[2021-02-12 06:48:45 +0000] [25] [INFO] Booting worker with pid: 25\u001b[0m\n",
      "\u001b[34m[2021-02-12 06:48:45 +0000] [26] [INFO] Booting worker with pid: 26\u001b[0m\n",
      "\u001b[34m[2021-02-12 06:48:45 +0000] [27] [INFO] Booting worker with pid: 27\u001b[0m\n",
      "\u001b[34m[2021-02-12:06:48:47:INFO] No GPUs detected (normal if no gpus installed)\u001b[0m\n",
      "\u001b[34m169.254.255.130 - - [12/Feb/2021:06:48:47 +0000] \"GET /ping HTTP/1.1\" 200 0 \"-\" \"Go-http-client/1.1\"\u001b[0m\n",
      "\u001b[34m[2021-02-12:06:48:47:INFO] No GPUs detected (normal if no gpus installed)\u001b[0m\n",
      "\u001b[34m169.254.255.130 - - [12/Feb/2021:06:48:47 +0000] \"GET /execution-parameters HTTP/1.1\" 200 84 \"-\" \"Go-http-client/1.1\"\u001b[0m\n",
      "\u001b[34m[2021-02-12:06:48:47:INFO] No GPUs detected (normal if no gpus installed)\u001b[0m\n",
      "\u001b[34m[2021-02-12:06:48:47:INFO] Determined delimiter of CSV input is ','\u001b[0m\n",
      "\u001b[34m[2021-02-12:06:48:48:INFO] No GPUs detected (normal if no gpus installed)\u001b[0m\n",
      "\u001b[34m[2021-02-12:06:48:48:INFO] Determined delimiter of CSV input is ','\u001b[0m\n",
      "\u001b[34m[2021-02-12:06:48:48:INFO] Determined delimiter of CSV input is ','\u001b[0m\n",
      "\u001b[34m[2021-02-12:06:48:48:INFO] Determined delimiter of CSV input is ','\u001b[0m\n",
      "\u001b[34m169.254.255.130 - - [12/Feb/2021:06:48:50 +0000] \"POST /invocations HTTP/1.1\" 200 12156 \"-\" \"Go-http-client/1.1\"\u001b[0m\n",
      "\u001b[34m169.254.255.130 - - [12/Feb/2021:06:48:51 +0000] \"POST /invocations HTTP/1.1\" 200 12165 \"-\" \"Go-http-client/1.1\"\u001b[0m\n",
      "\u001b[34m169.254.255.130 - - [12/Feb/2021:06:48:51 +0000] \"POST /invocations HTTP/1.1\" 200 12145 \"-\" \"Go-http-client/1.1\"\u001b[0m\n",
      "\u001b[34m169.254.255.130 - - [12/Feb/2021:06:48:51 +0000] \"POST /invocations HTTP/1.1\" 200 12136 \"-\" \"Go-http-client/1.1\"\u001b[0m\n",
      "\u001b[34m[2021-02-12:06:48:51:INFO] Determined delimiter of CSV input is ','\u001b[0m\n",
      "\u001b[34m[2021-02-12:06:48:51:INFO] Determined delimiter of CSV input is ','\u001b[0m\n",
      "\u001b[34m[2021-02-12:06:48:51:INFO] Determined delimiter of CSV input is ','\u001b[0m\n",
      "\u001b[35m169.254.255.130 - - [12/Feb/2021:06:48:50 +0000] \"POST /invocations HTTP/1.1\" 200 12156 \"-\" \"Go-http-client/1.1\"\u001b[0m\n",
      "\u001b[35m169.254.255.130 - - [12/Feb/2021:06:48:51 +0000] \"POST /invocations HTTP/1.1\" 200 12165 \"-\" \"Go-http-client/1.1\"\u001b[0m\n",
      "\u001b[35m169.254.255.130 - - [12/Feb/2021:06:48:51 +0000] \"POST /invocations HTTP/1.1\" 200 12145 \"-\" \"Go-http-client/1.1\"\u001b[0m\n",
      "\u001b[35m169.254.255.130 - - [12/Feb/2021:06:48:51 +0000] \"POST /invocations HTTP/1.1\" 200 12136 \"-\" \"Go-http-client/1.1\"\u001b[0m\n",
      "\u001b[35m[2021-02-12:06:48:51:INFO] Determined delimiter of CSV input is ','\u001b[0m\n",
      "\u001b[35m[2021-02-12:06:48:51:INFO] Determined delimiter of CSV input is ','\u001b[0m\n",
      "\u001b[35m[2021-02-12:06:48:51:INFO] Determined delimiter of CSV input is ','\u001b[0m\n",
      "\u001b[34m[2021-02-12:06:48:51:INFO] Determined delimiter of CSV input is ','\u001b[0m\n",
      "\u001b[35m[2021-02-12:06:48:51:INFO] Determined delimiter of CSV input is ','\u001b[0m\n",
      "\u001b[32m2021-02-12T06:48:47.674:[sagemaker logs]: MaxConcurrentTransforms=4, MaxPayloadInMB=6, BatchStrategy=MULTI_RECORD\u001b[0m\n",
      "\u001b[34m169.254.255.130 - - [12/Feb/2021:06:48:54 +0000] \"POST /invocations HTTP/1.1\" 200 12126 \"-\" \"Go-http-client/1.1\"\u001b[0m\n",
      "\u001b[34m169.254.255.130 - - [12/Feb/2021:06:48:54 +0000] \"POST /invocations HTTP/1.1\" 200 12147 \"-\" \"Go-http-client/1.1\"\u001b[0m\n",
      "\u001b[34m169.254.255.130 - - [12/Feb/2021:06:48:54 +0000] \"POST /invocations HTTP/1.1\" 200 12144 \"-\" \"Go-http-client/1.1\"\u001b[0m\n",
      "\u001b[34m[2021-02-12:06:48:54:INFO] Determined delimiter of CSV input is ','\u001b[0m\n",
      "\u001b[34m169.254.255.130 - - [12/Feb/2021:06:48:54 +0000] \"POST /invocations HTTP/1.1\" 200 12122 \"-\" \"Go-http-client/1.1\"\u001b[0m\n",
      "\u001b[34m[2021-02-12:06:48:54:INFO] Determined delimiter of CSV input is ','\u001b[0m\n",
      "\u001b[34m[2021-02-12:06:48:54:INFO] Determined delimiter of CSV input is ','\u001b[0m\n",
      "\u001b[34m[2021-02-12:06:48:54:INFO] Determined delimiter of CSV input is ','\u001b[0m\n",
      "\u001b[35m169.254.255.130 - - [12/Feb/2021:06:48:54 +0000] \"POST /invocations HTTP/1.1\" 200 12126 \"-\" \"Go-http-client/1.1\"\u001b[0m\n",
      "\u001b[35m169.254.255.130 - - [12/Feb/2021:06:48:54 +0000] \"POST /invocations HTTP/1.1\" 200 12147 \"-\" \"Go-http-client/1.1\"\u001b[0m\n",
      "\u001b[35m169.254.255.130 - - [12/Feb/2021:06:48:54 +0000] \"POST /invocations HTTP/1.1\" 200 12144 \"-\" \"Go-http-client/1.1\"\u001b[0m\n",
      "\u001b[35m[2021-02-12:06:48:54:INFO] Determined delimiter of CSV input is ','\u001b[0m\n",
      "\u001b[35m169.254.255.130 - - [12/Feb/2021:06:48:54 +0000] \"POST /invocations HTTP/1.1\" 200 12122 \"-\" \"Go-http-client/1.1\"\u001b[0m\n",
      "\u001b[35m[2021-02-12:06:48:54:INFO] Determined delimiter of CSV input is ','\u001b[0m\n",
      "\u001b[35m[2021-02-12:06:48:54:INFO] Determined delimiter of CSV input is ','\u001b[0m\n",
      "\u001b[35m[2021-02-12:06:48:54:INFO] Determined delimiter of CSV input is ','\u001b[0m\n",
      "\u001b[34m169.254.255.130 - - [12/Feb/2021:06:48:57 +0000] \"POST /invocations HTTP/1.1\" 200 12165 \"-\" \"Go-http-client/1.1\"\u001b[0m\n",
      "\u001b[35m169.254.255.130 - - [12/Feb/2021:06:48:57 +0000] \"POST /invocations HTTP/1.1\" 200 12165 \"-\" \"Go-http-client/1.1\"\u001b[0m\n",
      "\u001b[34m169.254.255.130 - - [12/Feb/2021:06:48:57 +0000] \"POST /invocations HTTP/1.1\" 200 12132 \"-\" \"Go-http-client/1.1\"\u001b[0m\n",
      "\u001b[34m169.254.255.130 - - [12/Feb/2021:06:48:57 +0000] \"POST /invocations HTTP/1.1\" 200 12137 \"-\" \"Go-http-client/1.1\"\u001b[0m\n",
      "\u001b[34m[2021-02-12:06:48:57:INFO] Determined delimiter of CSV input is ','\u001b[0m\n",
      "\u001b[34m169.254.255.130 - - [12/Feb/2021:06:48:57 +0000] \"POST /invocations HTTP/1.1\" 200 12178 \"-\" \"Go-http-client/1.1\"\u001b[0m\n",
      "\u001b[34m[2021-02-12:06:48:57:INFO] Determined delimiter of CSV input is ','\u001b[0m\n",
      "\u001b[34m[2021-02-12:06:48:57:INFO] Determined delimiter of CSV input is ','\u001b[0m\n",
      "\u001b[35m169.254.255.130 - - [12/Feb/2021:06:48:57 +0000] \"POST /invocations HTTP/1.1\" 200 12132 \"-\" \"Go-http-client/1.1\"\u001b[0m\n",
      "\u001b[35m169.254.255.130 - - [12/Feb/2021:06:48:57 +0000] \"POST /invocations HTTP/1.1\" 200 12137 \"-\" \"Go-http-client/1.1\"\u001b[0m\n",
      "\u001b[35m[2021-02-12:06:48:57:INFO] Determined delimiter of CSV input is ','\u001b[0m\n",
      "\u001b[35m169.254.255.130 - - [12/Feb/2021:06:48:57 +0000] \"POST /invocations HTTP/1.1\" 200 12178 \"-\" \"Go-http-client/1.1\"\u001b[0m\n",
      "\u001b[35m[2021-02-12:06:48:57:INFO] Determined delimiter of CSV input is ','\u001b[0m\n",
      "\u001b[35m[2021-02-12:06:48:57:INFO] Determined delimiter of CSV input is ','\u001b[0m\n",
      "\u001b[34m[2021-02-12:06:48:57:INFO] Determined delimiter of CSV input is ','\u001b[0m\n",
      "\u001b[35m[2021-02-12:06:48:57:INFO] Determined delimiter of CSV input is ','\u001b[0m\n",
      "\u001b[34m169.254.255.130 - - [12/Feb/2021:06:49:00 +0000] \"POST /invocations HTTP/1.1\" 200 12148 \"-\" \"Go-http-client/1.1\"\u001b[0m\n",
      "\u001b[34m169.254.255.130 - - [12/Feb/2021:06:49:00 +0000] \"POST /invocations HTTP/1.1\" 200 12153 \"-\" \"Go-http-client/1.1\"\u001b[0m\n",
      "\u001b[34m169.254.255.130 - - [12/Feb/2021:06:49:00 +0000] \"POST /invocations HTTP/1.1\" 200 12155 \"-\" \"Go-http-client/1.1\"\u001b[0m\n",
      "\u001b[34m[2021-02-12:06:49:00:INFO] Determined delimiter of CSV input is ','\u001b[0m\n",
      "\u001b[35m169.254.255.130 - - [12/Feb/2021:06:49:00 +0000] \"POST /invocations HTTP/1.1\" 200 12148 \"-\" \"Go-http-client/1.1\"\u001b[0m\n",
      "\u001b[35m169.254.255.130 - - [12/Feb/2021:06:49:00 +0000] \"POST /invocations HTTP/1.1\" 200 12153 \"-\" \"Go-http-client/1.1\"\u001b[0m\n",
      "\u001b[35m169.254.255.130 - - [12/Feb/2021:06:49:00 +0000] \"POST /invocations HTTP/1.1\" 200 12155 \"-\" \"Go-http-client/1.1\"\u001b[0m\n",
      "\u001b[35m[2021-02-12:06:49:00:INFO] Determined delimiter of CSV input is ','\u001b[0m\n",
      "\u001b[34m[2021-02-12:06:49:00:INFO] Determined delimiter of CSV input is ','\u001b[0m\n",
      "\u001b[34m169.254.255.130 - - [12/Feb/2021:06:49:00 +0000] \"POST /invocations HTTP/1.1\" 200 12154 \"-\" \"Go-http-client/1.1\"\u001b[0m\n",
      "\u001b[34m[2021-02-12:06:49:00:INFO] Determined delimiter of CSV input is ','\u001b[0m\n",
      "\u001b[34m[2021-02-12:06:49:01:INFO] Determined delimiter of CSV input is ','\u001b[0m\n",
      "\u001b[35m[2021-02-12:06:49:00:INFO] Determined delimiter of CSV input is ','\u001b[0m\n",
      "\u001b[35m169.254.255.130 - - [12/Feb/2021:06:49:00 +0000] \"POST /invocations HTTP/1.1\" 200 12154 \"-\" \"Go-http-client/1.1\"\u001b[0m\n",
      "\u001b[35m[2021-02-12:06:49:00:INFO] Determined delimiter of CSV input is ','\u001b[0m\n",
      "\u001b[35m[2021-02-12:06:49:01:INFO] Determined delimiter of CSV input is ','\u001b[0m\n",
      "\u001b[34m[2021-02-12:06:49:04:INFO] Determined delimiter of CSV input is ','\u001b[0m\n",
      "\u001b[34m169.254.255.130 - - [12/Feb/2021:06:49:04 +0000] \"POST /invocations HTTP/1.1\" 200 12180 \"-\" \"Go-http-client/1.1\"\u001b[0m\n",
      "\u001b[34m[2021-02-12:06:49:04:INFO] Determined delimiter of CSV input is ','\u001b[0m\n",
      "\u001b[34m[2021-02-12:06:49:04:INFO] Determined delimiter of CSV input is ','\u001b[0m\n",
      "\u001b[35m[2021-02-12:06:49:04:INFO] Determined delimiter of CSV input is ','\u001b[0m\n",
      "\u001b[35m169.254.255.130 - - [12/Feb/2021:06:49:04 +0000] \"POST /invocations HTTP/1.1\" 200 12180 \"-\" \"Go-http-client/1.1\"\u001b[0m\n",
      "\u001b[35m[2021-02-12:06:49:04:INFO] Determined delimiter of CSV input is ','\u001b[0m\n",
      "\u001b[35m[2021-02-12:06:49:04:INFO] Determined delimiter of CSV input is ','\u001b[0m\n",
      "\u001b[34m169.254.255.130 - - [12/Feb/2021:06:49:06 +0000] \"POST /invocations HTTP/1.1\" 200 12140 \"-\" \"Go-http-client/1.1\"\u001b[0m\n",
      "\u001b[34m169.254.255.130 - - [12/Feb/2021:06:49:07 +0000] \"POST /invocations HTTP/1.1\" 200 12169 \"-\" \"Go-http-client/1.1\"\u001b[0m\n",
      "\u001b[34m[2021-02-12:06:49:07:INFO] Determined delimiter of CSV input is ','\u001b[0m\n",
      "\u001b[34m169.254.255.130 - - [12/Feb/2021:06:49:07 +0000] \"POST /invocations HTTP/1.1\" 200 12187 \"-\" \"Go-http-client/1.1\"\u001b[0m\n",
      "\u001b[34m[2021-02-12:06:49:07:INFO] Determined delimiter of CSV input is ','\u001b[0m\n",
      "\u001b[34m169.254.255.130 - - [12/Feb/2021:06:49:07 +0000] \"POST /invocations HTTP/1.1\" 200 12138 \"-\" \"Go-http-client/1.1\"\u001b[0m\n",
      "\u001b[34m[2021-02-12:06:49:07:INFO] Determined delimiter of CSV input is ','\u001b[0m\n",
      "\u001b[34m[2021-02-12:06:49:07:INFO] Determined delimiter of CSV input is ','\u001b[0m\n",
      "\u001b[35m169.254.255.130 - - [12/Feb/2021:06:49:06 +0000] \"POST /invocations HTTP/1.1\" 200 12140 \"-\" \"Go-http-client/1.1\"\u001b[0m\n",
      "\u001b[35m169.254.255.130 - - [12/Feb/2021:06:49:07 +0000] \"POST /invocations HTTP/1.1\" 200 12169 \"-\" \"Go-http-client/1.1\"\u001b[0m\n",
      "\u001b[35m[2021-02-12:06:49:07:INFO] Determined delimiter of CSV input is ','\u001b[0m\n",
      "\u001b[35m169.254.255.130 - - [12/Feb/2021:06:49:07 +0000] \"POST /invocations HTTP/1.1\" 200 12187 \"-\" \"Go-http-client/1.1\"\u001b[0m\n",
      "\u001b[35m[2021-02-12:06:49:07:INFO] Determined delimiter of CSV input is ','\u001b[0m\n",
      "\u001b[35m169.254.255.130 - - [12/Feb/2021:06:49:07 +0000] \"POST /invocations HTTP/1.1\" 200 12138 \"-\" \"Go-http-client/1.1\"\u001b[0m\n",
      "\u001b[35m[2021-02-12:06:49:07:INFO] Determined delimiter of CSV input is ','\u001b[0m\n",
      "\u001b[35m[2021-02-12:06:49:07:INFO] Determined delimiter of CSV input is ','\u001b[0m\n",
      "\u001b[34m169.254.255.130 - - [12/Feb/2021:06:49:13 +0000] \"POST /invocations HTTP/1.1\" 200 12145 \"-\" \"Go-http-client/1.1\"\u001b[0m\n",
      "\u001b[34m169.254.255.130 - - [12/Feb/2021:06:49:13 +0000] \"POST /invocations HTTP/1.1\" 200 12153 \"-\" \"Go-http-client/1.1\"\u001b[0m\n",
      "\u001b[34m[2021-02-12:06:49:13:INFO] Determined delimiter of CSV input is ','\u001b[0m\n",
      "\u001b[34m169.254.255.130 - - [12/Feb/2021:06:49:13 +0000] \"POST /invocations HTTP/1.1\" 200 12181 \"-\" \"Go-http-client/1.1\"\u001b[0m\n",
      "\u001b[34m[2021-02-12:06:49:13:INFO] Determined delimiter of CSV input is ','\u001b[0m\n",
      "\u001b[34m169.254.255.130 - - [12/Feb/2021:06:49:13 +0000] \"POST /invocations HTTP/1.1\" 200 12130 \"-\" \"Go-http-client/1.1\"\u001b[0m\n",
      "\u001b[34m[2021-02-12:06:49:13:INFO] Determined delimiter of CSV input is ','\u001b[0m\n",
      "\u001b[35m169.254.255.130 - - [12/Feb/2021:06:49:13 +0000] \"POST /invocations HTTP/1.1\" 200 12145 \"-\" \"Go-http-client/1.1\"\u001b[0m\n",
      "\u001b[35m169.254.255.130 - - [12/Feb/2021:06:49:13 +0000] \"POST /invocations HTTP/1.1\" 200 12153 \"-\" \"Go-http-client/1.1\"\u001b[0m\n",
      "\u001b[35m[2021-02-12:06:49:13:INFO] Determined delimiter of CSV input is ','\u001b[0m\n",
      "\u001b[35m169.254.255.130 - - [12/Feb/2021:06:49:13 +0000] \"POST /invocations HTTP/1.1\" 200 12181 \"-\" \"Go-http-client/1.1\"\u001b[0m\n",
      "\u001b[35m[2021-02-12:06:49:13:INFO] Determined delimiter of CSV input is ','\u001b[0m\n",
      "\u001b[35m169.254.255.130 - - [12/Feb/2021:06:49:13 +0000] \"POST /invocations HTTP/1.1\" 200 12130 \"-\" \"Go-http-client/1.1\"\u001b[0m\n",
      "\u001b[35m[2021-02-12:06:49:13:INFO] Determined delimiter of CSV input is ','\u001b[0m\n",
      "\u001b[34m[2021-02-12:06:49:13:INFO] Determined delimiter of CSV input is ','\u001b[0m\n",
      "\u001b[35m[2021-02-12:06:49:13:INFO] Determined delimiter of CSV input is ','\u001b[0m\n",
      "\u001b[34m169.254.255.130 - - [12/Feb/2021:06:49:16 +0000] \"POST /invocations HTTP/1.1\" 200 12162 \"-\" \"Go-http-client/1.1\"\u001b[0m\n",
      "\u001b[34m169.254.255.130 - - [12/Feb/2021:06:49:16 +0000] \"POST /invocations HTTP/1.1\" 200 12151 \"-\" \"Go-http-client/1.1\"\u001b[0m\n",
      "\u001b[34m[2021-02-12:06:49:16:INFO] Determined delimiter of CSV input is ','\u001b[0m\n",
      "\u001b[34m169.254.255.130 - - [12/Feb/2021:06:49:16 +0000] \"POST /invocations HTTP/1.1\" 200 12203 \"-\" \"Go-http-client/1.1\"\u001b[0m\n",
      "\u001b[34m[2021-02-12:06:49:16:INFO] Determined delimiter of CSV input is ','\u001b[0m\n",
      "\u001b[35m169.254.255.130 - - [12/Feb/2021:06:49:16 +0000] \"POST /invocations HTTP/1.1\" 200 12162 \"-\" \"Go-http-client/1.1\"\u001b[0m\n",
      "\u001b[35m169.254.255.130 - - [12/Feb/2021:06:49:16 +0000] \"POST /invocations HTTP/1.1\" 200 12151 \"-\" \"Go-http-client/1.1\"\u001b[0m\n",
      "\u001b[35m[2021-02-12:06:49:16:INFO] Determined delimiter of CSV input is ','\u001b[0m\n",
      "\u001b[35m169.254.255.130 - - [12/Feb/2021:06:49:16 +0000] \"POST /invocations HTTP/1.1\" 200 12203 \"-\" \"Go-http-client/1.1\"\u001b[0m\n",
      "\u001b[35m[2021-02-12:06:49:16:INFO] Determined delimiter of CSV input is ','\u001b[0m\n",
      "\u001b[34m169.254.255.130 - - [12/Feb/2021:06:49:16 +0000] \"POST /invocations HTTP/1.1\" 200 12161 \"-\" \"Go-http-client/1.1\"\u001b[0m\n",
      "\u001b[35m169.254.255.130 - - [12/Feb/2021:06:49:16 +0000] \"POST /invocations HTTP/1.1\" 200 12161 \"-\" \"Go-http-client/1.1\"\u001b[0m\n",
      "\u001b[34m[2021-02-12:06:49:16:INFO] Determined delimiter of CSV input is ','\u001b[0m\n",
      "\u001b[34m[2021-02-12:06:49:17:INFO] Determined delimiter of CSV input is ','\u001b[0m\n",
      "\u001b[35m[2021-02-12:06:49:16:INFO] Determined delimiter of CSV input is ','\u001b[0m\n",
      "\u001b[35m[2021-02-12:06:49:17:INFO] Determined delimiter of CSV input is ','\u001b[0m\n",
      "\u001b[34m169.254.255.130 - - [12/Feb/2021:06:49:19 +0000] \"POST /invocations HTTP/1.1\" 200 9089 \"-\" \"Go-http-client/1.1\"\u001b[0m\n",
      "\u001b[34m169.254.255.130 - - [12/Feb/2021:06:49:19 +0000] \"POST /invocations HTTP/1.1\" 200 12173 \"-\" \"Go-http-client/1.1\"\u001b[0m\n",
      "\u001b[34m169.254.255.130 - - [12/Feb/2021:06:49:19 +0000] \"POST /invocations HTTP/1.1\" 200 12142 \"-\" \"Go-http-client/1.1\"\u001b[0m\n",
      "\u001b[34m169.254.255.130 - - [12/Feb/2021:06:49:19 +0000] \"POST /invocations HTTP/1.1\" 200 12151 \"-\" \"Go-http-client/1.1\"\u001b[0m\n",
      "\u001b[35m169.254.255.130 - - [12/Feb/2021:06:49:19 +0000] \"POST /invocations HTTP/1.1\" 200 9089 \"-\" \"Go-http-client/1.1\"\u001b[0m\n",
      "\u001b[35m169.254.255.130 - - [12/Feb/2021:06:49:19 +0000] \"POST /invocations HTTP/1.1\" 200 12173 \"-\" \"Go-http-client/1.1\"\u001b[0m\n",
      "\u001b[35m169.254.255.130 - - [12/Feb/2021:06:49:19 +0000] \"POST /invocations HTTP/1.1\" 200 12142 \"-\" \"Go-http-client/1.1\"\u001b[0m\n",
      "\u001b[35m169.254.255.130 - - [12/Feb/2021:06:49:19 +0000] \"POST /invocations HTTP/1.1\" 200 12151 \"-\" \"Go-http-client/1.1\"\u001b[0m\n",
      "\n"
     ]
    }
   ],
   "source": [
    "xgb_transformer.wait()"
   ]
  },
  {
   "cell_type": "markdown",
   "metadata": {},
   "source": [
    "Now the transform job has executed and the result, the estimated sentiment of each review, has been saved on S3. Since we would rather work on this file locally we can perform a bit of notebook magic to copy the file to the `data_dir`."
   ]
  },
  {
   "cell_type": "code",
   "execution_count": 35,
   "metadata": {},
   "outputs": [
    {
     "data": {
      "text/plain": [
       "'../data/sentiment_web_app'"
      ]
     },
     "execution_count": 35,
     "metadata": {},
     "output_type": "execute_result"
    }
   ],
   "source": [
    "data_dir"
   ]
  },
  {
   "cell_type": "code",
   "execution_count": 36,
   "metadata": {},
   "outputs": [
    {
     "name": "stdout",
     "output_type": "stream",
     "text": [
      "download: s3://sagemaker-eu-central-1-028135097561/sagemaker-xgboost-2021-02-12-06-43-53-833/test.csv.out to ../data/sentiment_web_app/test.csv.out\r\n"
     ]
    }
   ],
   "source": [
    "!aws s3 cp --recursive $xgb_transformer.output_path $data_dir"
   ]
  },
  {
   "cell_type": "markdown",
   "metadata": {},
   "source": [
    "The last step is now to read in the output from our model, convert the output to something a little more usable, in this case we want the sentiment to be either `1` (positive) or `0` (negative), and then compare to the ground truth labels."
   ]
  },
  {
   "cell_type": "code",
   "execution_count": 37,
   "metadata": {},
   "outputs": [
    {
     "data": {
      "text/plain": [
       "25000"
      ]
     },
     "execution_count": 37,
     "metadata": {},
     "output_type": "execute_result"
    }
   ],
   "source": [
    "predictions = pd.read_csv(os.path.join(data_dir, 'test.csv.out'), header=None)\n",
    "len(predictions)"
   ]
  },
  {
   "cell_type": "code",
   "execution_count": 38,
   "metadata": {},
   "outputs": [
    {
     "data": {
      "text/plain": [
       "0        0.885675\n",
       "1        0.020210\n",
       "2        0.261540\n",
       "3        0.112437\n",
       "4        0.881303\n",
       "           ...   \n",
       "24995    0.681797\n",
       "24996    0.635703\n",
       "24997    0.209619\n",
       "24998    0.996343\n",
       "24999    0.822935\n",
       "Name: 0, Length: 25000, dtype: float64"
      ]
     },
     "execution_count": 38,
     "metadata": {},
     "output_type": "execute_result"
    }
   ],
   "source": [
    "predictions[0]"
   ]
  },
  {
   "cell_type": "code",
   "execution_count": 39,
   "metadata": {},
   "outputs": [],
   "source": [
    "predictions = [round(num) for num in predictions.squeeze().values]"
   ]
  },
  {
   "cell_type": "code",
   "execution_count": 40,
   "metadata": {},
   "outputs": [
    {
     "data": {
      "text/plain": [
       "0.85128"
      ]
     },
     "execution_count": 40,
     "metadata": {},
     "output_type": "execute_result"
    }
   ],
   "source": [
    "from sklearn.metrics import accuracy_score\n",
    "accuracy_score(test_y, predictions)"
   ]
  },
  {
   "cell_type": "markdown",
   "metadata": {},
   "source": [
    "## Step 6: Deploying the model\n",
    "\n",
    "Once we construct and fit our model, SageMaker stores the resulting model artifacts and we can use those to deploy an endpoint (inference code). To see this, look in the SageMaker console and you should see that a model has been created along with a link to the S3 location where the model artifacts have been stored.\n",
    "\n",
    "Deploying an endpoint is a lot like training the model with a few important differences. The first is that a deployed model doesn't change the model artifacts, so as you send it various testing instances the model won't change. Another difference is that since we aren't performing a fixed computation, as we were in the training step or while performing a batch transform, the compute instance that gets started stays running until we tell it to stop. This is important to note as if we forget and leave it running we will be charged the entire time.\n",
    "\n",
    "In other words **If you are no longer using a deployed endpoint, shut it down!**"
   ]
  },
  {
   "cell_type": "code",
   "execution_count": 41,
   "metadata": {},
   "outputs": [
    {
     "name": "stderr",
     "output_type": "stream",
     "text": [
      "Parameter image will be renamed to image_uri in SageMaker Python SDK v2.\n",
      "Using already existing model: sagemaker-xgboost-2021-02-12-06-34-41-443\n"
     ]
    },
    {
     "name": "stdout",
     "output_type": "stream",
     "text": [
      "---------------!"
     ]
    }
   ],
   "source": [
    "xgb_predictor = xgb.deploy(initial_instance_count = 1, instance_type = 'ml.m4.xlarge')"
   ]
  },
  {
   "cell_type": "markdown",
   "metadata": {},
   "source": [
    "### Testing the model (again)\n",
    "\n",
    "Now that we have deployed our endpoint, we can send the testing data to it and get back the inference results. We already did this earlier using the batch transform functionality of SageMaker, however, we will test our model again using the newly deployed endpoint so that we can make sure that it works properly and to get a bit of a feel for how the endpoint works.\n",
    "\n",
    "When using the created endpoint it is important to know that we are limited in the amount of information we can send in each call so we need to break the testing data up into chunks and then send each chunk. Also, we need to serialize our data before we send it to the endpoint to ensure that our data is transmitted properly. Fortunately, SageMaker can do the serialization part for us provided we tell it the format of our data."
   ]
  },
  {
   "cell_type": "code",
   "execution_count": 42,
   "metadata": {},
   "outputs": [],
   "source": [
    "from sagemaker.predictor import csv_serializer\n",
    "\n",
    "# We need to tell the endpoint what format the data we are sending is in so that SageMaker can perform the serialization.\n",
    "xgb_predictor.content_type = 'text/csv'\n",
    "xgb_predictor.serializer = csv_serializer"
   ]
  },
  {
   "cell_type": "code",
   "execution_count": 43,
   "metadata": {},
   "outputs": [],
   "source": [
    "# We split the data into chunks and send each chunk seperately, accumulating the results.\n",
    "\n",
    "def predict(data, rows=512):\n",
    "    split_array = np.array_split(data, int(data.shape[0] / float(rows) + 1))\n",
    "    predictions = ''\n",
    "    for array in split_array:\n",
    "        predictions = ','.join([predictions, xgb_predictor.predict(array).decode('utf-8')])\n",
    "    \n",
    "    return np.fromstring(predictions[1:], sep=',')"
   ]
  },
  {
   "cell_type": "code",
   "execution_count": 44,
   "metadata": {},
   "outputs": [],
   "source": [
    "test_X = pd.read_csv(os.path.join(data_dir, 'test.csv'), header=None).values\n",
    "\n",
    "predictions = predict(test_X)\n",
    "predictions = [round(num) for num in predictions]"
   ]
  },
  {
   "cell_type": "markdown",
   "metadata": {},
   "source": [
    "Lastly, we check to see what the accuracy of our model is."
   ]
  },
  {
   "cell_type": "code",
   "execution_count": 45,
   "metadata": {},
   "outputs": [
    {
     "data": {
      "text/plain": [
       "0.85128"
      ]
     },
     "execution_count": 45,
     "metadata": {},
     "output_type": "execute_result"
    }
   ],
   "source": [
    "from sklearn.metrics import accuracy_score\n",
    "accuracy_score(test_y, predictions)"
   ]
  },
  {
   "cell_type": "markdown",
   "metadata": {},
   "source": [
    "And the results here should agree with the model testing that we did earlier using the batch transform job.\n",
    "\n",
    "### Cleaning up\n",
    "\n",
    "Now that we've determined that deploying our model works as expected, we are going to shut it down. Remember that the longer the endpoint is left running, the greater the cost and since we have a bit more work to do before we are able to use our endpoint with our simple web app, we should shut everything down."
   ]
  },
  {
   "cell_type": "code",
   "execution_count": 46,
   "metadata": {},
   "outputs": [],
   "source": [
    "xgb_predictor.delete_endpoint()"
   ]
  },
  {
   "cell_type": "markdown",
   "metadata": {},
   "source": [
    "## Step 7: Putting our model to work\n",
    "\n",
    "As we've mentioned a few times now, our goal is to have our model deployed and then access it using a very simple web app. The intent is for this web app to take some user submitted data (a review), send it off to our endpoint (the model) and then display the result.\n",
    "\n",
    "However, there is a small catch. Currently the only way we can access the endpoint to send it data is using the SageMaker API. We can, if we wish, expose the actual URL that our model's endpoint is receiving data from, however, if we just send it data ourselves we will not get anything in return. This is because the endpoint created by SageMaker requires the entity accessing it have the correct permissions. So, we would need to somehow authenticate our web app with AWS.\n",
    "\n",
    "Having a website that authenticates to AWS seems a bit beyond the scope of this lesson so we will opt for an alternative approach. Namely, we will create a new endpoint which does not require authentication and which acts as a proxy for the SageMaker endpoint.\n",
    "\n",
    "As an additional constraint, we will try to avoid doing any data processing in the web app itself. Remember that when we constructed and tested our model we started with a movie review, then we simplified it by removing any html formatting and punctuation, then we constructed a bag of words embedding and the resulting vector is what we sent to our model. All of this needs to be done to our user input as well.\n",
    "\n",
    "Fortunately we can do all of this data processing in the backend, using Amazon's Lambda service.\n",
    "\n",
    "<img src=\"Web App Diagram.svg\">\n",
    "\n",
    "The diagram above gives an overview of how the various services will work together. On the far right is the model which we trained above and which will be deployed using SageMaker. On the far left is our web app that collects a user's movie review, sends it off and expects a positive or negative sentiment in return.\n",
    "\n",
    "In the middle is where some of the magic happens. We will construct a Lambda function, which you can think of as a straightforward Python function that can be executed whenever a specified event occurs. This Python function will do the data processing we need to perform on a user submitted review. In addition, we will give this function permission to send and recieve data from a SageMaker endpoint.\n",
    "\n",
    "Lastly, the method we will use to execute the Lambda function is a new endpoint that we will create using API Gateway. This endpoint will be a url that listens for data to be sent to it. Once it gets some data it will pass that data on to the Lambda function and then return whatever the Lambda function returns. Essentially it will act as an interface that lets our web app communicate with the Lambda function.\n",
    "\n",
    "### Processing a single review\n",
    "\n",
    "For now, suppose we are given a movie review by our user in the form of a string, like so:"
   ]
  },
  {
   "cell_type": "code",
   "execution_count": 47,
   "metadata": {},
   "outputs": [],
   "source": [
    "test_review = \"Nothing but a disgusting materialistic pageant of glistening abed remote control greed zombies, totally devoid of any heart or heat. A romantic comedy that has zero romantic chemestry and zero laughs!\""
   ]
  },
  {
   "cell_type": "markdown",
   "metadata": {},
   "source": [
    "How do we go from this string to the bag of words feature vector that is expected by our model?\n",
    "\n",
    "If we recall at the beginning of this notebook, the first step is to remove any unnecessary characters using the `review_to_words` method. Remember that we intentionally did this in a very simplistic way. This is because we are going to have to copy this method to our (eventual) Lambda function (we will go into more detail later) and this means it needs to be rather simplistic."
   ]
  },
  {
   "cell_type": "code",
   "execution_count": 48,
   "metadata": {},
   "outputs": [
    {
     "name": "stdout",
     "output_type": "stream",
     "text": [
      "nothing but a disgusting materialistic pageant of glistening abed remote control greed zombies totally devoid of any heart or heat a romantic comedy that has zero romantic chemestry and zero laughs\n"
     ]
    }
   ],
   "source": [
    "test_words = review_to_words(test_review)\n",
    "print(test_words)"
   ]
  },
  {
   "cell_type": "markdown",
   "metadata": {},
   "source": [
    "Next, we need to construct a bag of words embedding of the `test_words` string. To do this, remember that a bag of words embedding uses a `vocabulary` consisting of the most frequently appearing words in a set of documents. Then, for each word in the vocabulary we record the number of times that word appears in `test_words`. We constructed the `vocabulary` earlier using the training set for our problem so encoding `test_words` is relatively straightforward."
   ]
  },
  {
   "cell_type": "code",
   "execution_count": 49,
   "metadata": {},
   "outputs": [],
   "source": [
    "def bow_encoding(words, vocabulary):\n",
    "    bow = [0] * len(vocabulary) # Start by setting the count for each word in the vocabulary to zero.\n",
    "    for word in words.split():  # For each word in the string\n",
    "        if word in vocabulary:  # If the word is one that occurs in the vocabulary, increase its count.\n",
    "            bow[vocabulary[word]] += 1\n",
    "    return bow"
   ]
  },
  {
   "cell_type": "code",
   "execution_count": 53,
   "metadata": {},
   "outputs": [],
   "source": [
    "test_bow = bow_encoding(test_words, vocabulary)"
   ]
  },
  {
   "cell_type": "code",
   "execution_count": 54,
   "metadata": {},
   "outputs": [
    {
     "data": {
      "text/plain": [
       "Counter({0: 4979, 1: 18, 2: 3})"
      ]
     },
     "execution_count": 54,
     "metadata": {},
     "output_type": "execute_result"
    }
   ],
   "source": [
    "import collections\n",
    "collections.Counter(test_bow)"
   ]
  },
  {
   "cell_type": "markdown",
   "metadata": {},
   "source": [
    "So now we know how to construct a bag of words encoding of a user provided review, how to we send it to our endpoint? First, we need to start the endpoint back up."
   ]
  },
  {
   "cell_type": "code",
   "execution_count": 55,
   "metadata": {},
   "outputs": [
    {
     "name": "stderr",
     "output_type": "stream",
     "text": [
      "Parameter image will be renamed to image_uri in SageMaker Python SDK v2.\n",
      "Using already existing model: sagemaker-xgboost-2021-02-12-06-34-41-443\n"
     ]
    },
    {
     "name": "stdout",
     "output_type": "stream",
     "text": [
      "---------------!"
     ]
    }
   ],
   "source": [
    "xgb_predictor = xgb.deploy(initial_instance_count = 1, instance_type = 'ml.m4.xlarge')"
   ]
  },
  {
   "cell_type": "markdown",
   "metadata": {},
   "source": [
    "At this point we could just do the same thing that we did earlier when we tested our deployed model and send `test_bow` to our endpoint using the `xgb_predictor` object. However, when we eventually construct our Lambda function we won't have access to this object, so how do we call a SageMaker endpoint?\n",
    "\n",
    "It turns out that Python functions that are used in Lambda have access to another Amazon library called `boto3`. This library provides an API for working with Amazon services, including SageMaker. To start with, we need to get a handle to the SageMaker runtime."
   ]
  },
  {
   "cell_type": "code",
   "execution_count": 56,
   "metadata": {},
   "outputs": [],
   "source": [
    "import boto3\n",
    "\n",
    "runtime = boto3.Session().client('sagemaker-runtime')"
   ]
  },
  {
   "cell_type": "markdown",
   "metadata": {},
   "source": [
    "And now that we have access to the SageMaker runtime, we can ask it to make use of (invoke) an endpoint that has already been created. However, we need to provide SageMaker with the name of the deployed endpoint. To find this out we can print it out using the `xgb_predictor` object."
   ]
  },
  {
   "cell_type": "code",
   "execution_count": 57,
   "metadata": {},
   "outputs": [
    {
     "data": {
      "text/plain": [
       "'sagemaker-xgboost-2021-02-12-06-34-41-443'"
      ]
     },
     "execution_count": 57,
     "metadata": {},
     "output_type": "execute_result"
    }
   ],
   "source": [
    "xgb_predictor.endpoint"
   ]
  },
  {
   "cell_type": "markdown",
   "metadata": {},
   "source": [
    "Using the SageMaker runtime and the name of our endpoint, we can invoke the endpoint and send it the `test_bow` data."
   ]
  },
  {
   "cell_type": "code",
   "execution_count": 59,
   "metadata": {},
   "outputs": [],
   "source": [
    "response = runtime.invoke_endpoint(EndpointName = xgb_predictor.endpoint, # The name of the endpoint we created\n",
    "                                       ContentType = 'text/csv',                     # The data format that is expected\n",
    "                                       Body = ','.join([str(val) for val in test_bow]).encode('utf-8'))"
   ]
  },
  {
   "cell_type": "code",
   "execution_count": 60,
   "metadata": {},
   "outputs": [
    {
     "name": "stdout",
     "output_type": "stream",
     "text": [
      "{'ResponseMetadata': {'RequestId': '5b384156-d563-4442-936f-f32378c6835f', 'HTTPStatusCode': 200, 'HTTPHeaders': {'x-amzn-requestid': '5b384156-d563-4442-936f-f32378c6835f', 'x-amzn-invoked-production-variant': 'AllTraffic', 'date': 'Fri, 12 Feb 2021 07:22:48 GMT', 'content-type': 'text/csv; charset=utf-8', 'content-length': '18'}, 'RetryAttempts': 0}, 'ContentType': 'text/csv; charset=utf-8', 'InvokedProductionVariant': 'AllTraffic', 'Body': <botocore.response.StreamingBody object at 0x7fcf583ab390>}\n"
     ]
    }
   ],
   "source": [
    "print(response)"
   ]
  },
  {
   "cell_type": "markdown",
   "metadata": {},
   "source": [
    "As we can see, the response from our model is a somewhat complicated looking dict that contains a bunch of information. The bit that we are most interested in is `'Body'` object which is a streaming object that we need to `read` in order to make use of."
   ]
  },
  {
   "cell_type": "code",
   "execution_count": 61,
   "metadata": {},
   "outputs": [
    {
     "name": "stdout",
     "output_type": "stream",
     "text": [
      "0.4863392412662506\n"
     ]
    }
   ],
   "source": [
    "response = response['Body'].read().decode('utf-8')\n",
    "print(response)"
   ]
  },
  {
   "cell_type": "markdown",
   "metadata": {},
   "source": [
    "Now that we know how to process the incoming user data we can start setting up the infrastructure to make our simple web app work. To do this we will make use of two different services. Amazon's Lambda and API Gateway services.\n",
    "\n",
    "Lambda is a service which allows someone to write some relatively simple code and have it executed whenever a chosen trigger occurs. For example, you may want to update a database whenever new data is uploaded to a folder stored on S3.\n",
    "\n",
    "API Gateway is a service that allows you to create HTTP endpoints (url addresses) which are connected to other AWS services. One of the benefits to this is that you get to decide what credentials, if any, are required to access these endpoints.\n",
    "\n",
    "In our case we are going to set up an HTTP endpoint through API Gateway which is open to the public. Then, whenever anyone sends data to our public endpoint we will trigger a Lambda function which will send the input (in our case a review) to our model's endpoint and then return the result."
   ]
  },
  {
   "cell_type": "markdown",
   "metadata": {},
   "source": [
    "### Setting up a Lambda function\n",
    "\n",
    "The first thing we are going to do is set up a Lambda function. This Lambda function will be executed whenever our public API has data sent to it. When it is executed it will receive the data, perform any sort of processing that is required, send the data (the review) to the SageMaker endpoint we've created and then return the result.\n",
    "\n",
    "#### Part A: Create an IAM Role for the Lambda function\n",
    "\n",
    "Since we want the Lambda function to call a SageMaker endpoint, we need to make sure that it has permission to do so. To do this, we will construct a role that we can later give the Lambda function.\n",
    "\n",
    "Using the AWS Console, navigate to the **IAM** page and click on **Roles**. Then, click on **Create role**. Make sure that the **AWS service** is the type of trusted entity selected and choose **Lambda** as the service that will use this role, then click **Next: Permissions**.\n",
    "\n",
    "In the search box type `sagemaker` and select the check box next to the **AmazonSageMakerFullAccess** policy. Then, click on **Next: Review**.\n",
    "\n",
    "Lastly, give this role a name. Make sure you use a name that you will remember later on, for example `LambdaSageMakerRole`. Then, click on **Create role**."
   ]
  },
  {
   "cell_type": "markdown",
   "metadata": {},
   "source": [
    "#### Part B: Create a Lambda function\n",
    "\n",
    "Now it is time to actually create the Lambda function. Remember from earlier that in order to process the user provided input and send it to our endpoint we need to gather two pieces of information:\n",
    "\n",
    " - The name of the endpoint, and\n",
    " - the vocabulary object.\n",
    "\n",
    "We will copy these pieces of information to our Lambda function after we create it.\n",
    "\n",
    "To start, using the AWS Console, navigate to the AWS Lambda page and click on **Create a function**. When you get to the next page, make sure that **Author from scratch** is selected. Now, name your Lambda function, using a name that you will remember later on, for example `sentiment_analysis_xgboost_func`. Make sure that the **Python 3.6** runtime is selected and then choose the role that you created in the previous part. Then, click on **Create Function**.\n",
    "\n",
    "On the next page you will see some information about the Lambda function you've just created. If you scroll down you should see an editor in which you can write the code that will be executed when your Lambda function is triggered. Collecting the code we wrote above to process a single review and adding it to the provided example `lambda_handler` we arrive at the following.\n",
    "\n",
    "```python\n",
    "# We need to use the low-level library to interact with SageMaker since the SageMaker API\n",
    "# is not available natively through Lambda.\n",
    "import boto3\n",
    "\n",
    "# And we need the regular expression library to do some of the data processing\n",
    "import re\n",
    "\n",
    "REPLACE_NO_SPACE = re.compile(\"(\\.)|(\\;)|(\\:)|(\\!)|(\\')|(\\?)|(\\,)|(\\\")|(\\()|(\\))|(\\[)|(\\])\")\n",
    "REPLACE_WITH_SPACE = re.compile(\"(<br\\s*/><br\\s*/>)|(\\-)|(\\/)\")\n",
    "\n",
    "def review_to_words(review):\n",
    "    words = REPLACE_NO_SPACE.sub(\"\", review.lower())\n",
    "    words = REPLACE_WITH_SPACE.sub(\" \", words)\n",
    "    return words\n",
    "    \n",
    "def bow_encoding(words, vocabulary):\n",
    "    bow = [0] * len(vocabulary) # Start by setting the count for each word in the vocabulary to zero.\n",
    "    for word in words.split():  # For each word in the string\n",
    "        if word in vocabulary:  # If the word is one that occurs in the vocabulary, increase its count.\n",
    "            bow[vocabulary[word]] += 1\n",
    "    return bow\n",
    "\n",
    "\n",
    "def lambda_handler(event, context):\n",
    "    \n",
    "    vocab = \"*** ACTUAL VOCABULARY GOES HERE ***\"\n",
    "    \n",
    "    words = review_to_words(event['body'])\n",
    "    bow = bow_encoding(words, vocab)\n",
    "\n",
    "    # The SageMaker runtime is what allows us to invoke the endpoint that we've created.\n",
    "    runtime = boto3.Session().client('sagemaker-runtime')\n",
    "\n",
    "    # Now we use the SageMaker runtime to invoke our endpoint, sending the review we were given\n",
    "    response = runtime.invoke_endpoint(EndpointName = '***ENDPOINT NAME HERE***',# The name of the endpoint we created\n",
    "                                       ContentType = 'text/csv',                 # The data format that is expected\n",
    "                                       Body = ','.join([str(val) for val in bow]).encode('utf-8')) # The actual review\n",
    "\n",
    "    # The response is an HTTP response whose body contains the result of our inference\n",
    "    result = response['Body'].read().decode('utf-8')\n",
    "    \n",
    "    # Round the result so that our web app only gets '1' or '0' as a response.\n",
    "    result = round(float(result))\n",
    "\n",
    "    return {\n",
    "        'statusCode' : 200,\n",
    "        'headers' : { 'Content-Type' : 'text/plain', 'Access-Control-Allow-Origin' : '*' },\n",
    "        'body' : str(result)\n",
    "    }\n",
    "```"
   ]
  },
  {
   "cell_type": "markdown",
   "metadata": {},
   "source": [
    "Once you have copy and pasted the code above into the Lambda code editor, replace the `**ENDPOINT NAME HERE**` portion with the name of the endpoint that we deployed earlier. You can determine the name of the endpoint using the code cell below."
   ]
  },
  {
   "cell_type": "code",
   "execution_count": 62,
   "metadata": {},
   "outputs": [
    {
     "data": {
      "text/plain": [
       "'sagemaker-xgboost-2021-02-12-06-34-41-443'"
      ]
     },
     "execution_count": 62,
     "metadata": {},
     "output_type": "execute_result"
    }
   ],
   "source": [
    "xgb_predictor.endpoint"
   ]
  },
  {
   "cell_type": "markdown",
   "metadata": {},
   "source": [
    "In addition, you will need to copy the vocabulary dict to the appropriate place in the code at the beginning of the `lambda_handler` method. The cell below prints out the vocabulary dict in a way that is easy to copy and paste."
   ]
  },
  {
   "cell_type": "code",
   "execution_count": 63,
   "metadata": {},
   "outputs": [
    {
     "name": "stdout",
     "output_type": "stream",
     "text": [
      "{'debut': 1143, 'film': 1716, 'this': 4457, 'italian': 2367, 'noir': 3023, 'is': 2360, 'generally': 1881, 'with': 4911, 'the': 4426, 'movement': 2923, 'well': 4843, 'it': 2366, 'says': 3801, 'so': 4046, 'right': 3696, 'on': 3105, 'back': 378, 'of': 3083, 'box': 555, 'and': 226, 'sometimes': 4067, 'portrait': 3339, 'individuals': 2278, 'in': 2257, 'moral': 2902, 'set': 3898, 'italy': 2368, 'an': 223, 'supporting': 4304, 'characters': 760, 'including': 2264, 'who': 4871, 'communist': 907, 'remote': 3622, 'country': 1014, 'searching': 3842, 'for': 1784, 'its': 2370, 'identity': 2217, 'from': 1840, 'without': 4913, 'soul': 4079, 'although': 201, 'his': 2118, 'ability': 65, 'to': 4507, 'express': 1600, 'their': 4431, 'was': 4805, 'already': 197, 'developed': 1223, 'spider': 4109, 'web': 4833, 'protagonist': 3441, 'by': 642, 'fate': 1665, 'here': 2086, 'begin': 442, 'that': 4424, 'you': 4986, 'fear': 1676, 'he': 2056, 'might': 2835, 'deserve': 1199, 'irony': 2357, 'too': 4522, 'relationship': 3597, 'all': 187, 'same': 3778, 'essential': 1522, 'actual': 108, 'impact': 2244, 'history': 2121, 'certainly': 738, 'fast': 1661, 'moving': 2928, 'sci': 3815, 'fi': 1701, 'thriller': 4472, 'starring': 4154, 'ben': 463, 'cross': 1066, 'sean': 3840, 'young': 4989, 'plays': 3301, 'another': 250, 'trying': 4601, 'find': 1726, 'annie': 247, 'played': 3297, 'physically': 3263, 'ideal': 2214, 'have': 2052, 'child': 789, 'if': 2222, 'allowed': 190, 'be': 418, 'born': 544, 'returned': 3666, 'planet': 3289, 'may': 2775, 'only': 3110, 'chance': 747, 'race': 3499, 'survive': 4321, 'enemy': 1477, 'alien': 183, 'has': 2043, 'destroyed': 1214, 'people': 3221, 'also': 199, 'followed': 1773, 'across': 96, 'stars': 4155, 'stop': 4201, 'birth': 486, 'again': 146, 'shows': 3960, 'great': 1964, 'range': 3516, 'comical': 894, 'as': 311, 'enters': 1496, 'local': 2634, 'bar': 396, 'orders': 3127, 'first': 1736, 'drama': 1346, 'whether': 4866, 'can': 665, 'keep': 2449, 'she': 3923, 'carrying': 701, 'alive': 186, 'ok': 3098, 'am': 204, 'not': 3040, 'japanese': 2382, 'do': 1302, 'know': 2489, 'little': 2624, 'about': 67, 'culture': 1079, 'less': 2575, 'pop': 3330, 'other': 3135, 'than': 4420, 'spanish': 4092, 'eat': 1411, 'like': 2599, 'black': 493, 'humor': 2192, 'good': 1937, 'point': 3316, 'comment': 898, 'movie': 2926, 'no': 3020, 'idea': 2213, 'how': 2181, 'enjoyable': 1485, 'audiences': 353, 'quite': 3495, 'director': 1264, 'despite': 1211, 'overly': 3155, 'stuff': 4243, 'style': 4249, 'talking': 4360, 'head': 2057, 'even': 1533, 'curious': 1083, 'somehow': 4063, 'interesting': 2325, 'surprised': 4313, 'came': 656, 'up': 4683, 'just': 2437, 'one': 3107, 'those': 4460, 'lost': 2660, 'translation': 4562, 'cases': 708, 'afraid': 140, 'but': 636, 'european': 1530, 'viewer': 4738, 'watching': 4815, 'english': 1483, 'subtitles': 4259, 'thought': 4462, 'horrible': 2163, 'jokes': 2415, 'seemed': 3862, 'bad': 382, 'script': 3834, 'mean': 2779, 'give': 1912, 'audience': 352, 'break': 569, 'shut': 3961, 'damn': 1100, 'narrator': 2967, 'almost': 193, 'making': 2718, 'my': 2951, 'over': 3148, 'paced': 3162, 'speaking': 4095, 'absurd': 73, 'action': 100, 'however': 2183, 'animation': 242, 'really': 3556, 'cool': 989, 'animated': 241, 'scenes': 3811, 'eye': 1611, 'candy': 668, 'soon': 4074, 'are': 285, 'left': 2561, 'aside': 315, 'start': 4156, 'endless': 1473, 'funny': 1852, 'at': 331, 'speech': 4102, 'still': 4188, 'pictures': 3270, 'makes': 2716, 'want': 4788, 'forward': 1808, 'next': 3007, 'cut': 1089, 'out': 3141, 'hysterical': 2208, 'scene': 3809, 'read': 3543, 'actually': 109, 'planning': 3291, 'sequel': 3885, 'horribly': 2164, 'maybe': 2776, 'second': 3846, 'part': 3193, 'will': 4886, 'bring': 585, 'parts': 3199, 'make': 2713, 'or': 3124, 'more': 2904, 'hell': 2077, 'amazing': 209, 'food': 1778, 'cause': 723, 'course': 1019, 'based': 404, 'experiences': 1582, 'someone': 4064, 'probably': 3407, 'totally': 4532, 'useless': 4695, 'cultural': 1078, 'after': 143, 'disappointing': 1274, 'final': 1722, 'conflict': 939, 'series': 3890, 'hits': 2125, 'rock': 3720, 'bottom': 551, 'very': 4723, 'weak': 4824, 'fourth': 1813, 'entry': 1504, 'least': 2554, 'third': 4455, 'tried': 4584, 'continue': 969, 'story': 4207, 'while': 4868, 'simply': 3986, 'copies': 992, 'ideas': 2215, 'omen': 3104, 'animals': 240, 'death': 1141, 'man': 2721, 'similar': 3978, 'photographer': 3259, 'what': 4858, 'looked': 2647, 'exciting': 1563, 'creative': 1041, 'there': 4438, 'looks': 2649, 'dumb': 1385, 'girl': 1909, 'spoiled': 4122, 'kid': 2464, 'wishing': 4907, 'anything': 260, 'away': 369, 'would': 4957, 'say': 3799, 'technically': 4382, 'excellent': 1555, 'acted': 98, 'hour': 2176, 'entertainment': 1500, 'surprise': 4312, 'possibly': 3351, 'occasionally': 3075, 'time': 4495, 'inevitable': 2282, 'obvious': 3071, 'ending': 1471, 'becoming': 435, 'clichéd': 845, 'predictable': 3367, 'any': 256, 'way': 4820, 'most': 2909, 'definitely': 1162, 'recommended': 3572, 'previous': 3387, 'gives': 1914, '10': 0, 'both': 547, 'branagh': 564, 'outstanding': 3147, 'performances': 3229, 'agree': 155, 'entirely': 1503, 'put': 3480, 'surprising': 4315, 'performance': 3228, 'john': 2409, 'play': 3296, 'music': 2946, 'fantastic': 1651, 'especially': 1520, 'packed': 3166, 'never': 3001, 'fan': 1648, 'then': 4436, 'watch': 4811, 'wont': 4932, 'disappointed': 1273, 'wasnt': 4807, 'particularly': 3195, 'impressed': 2251, '40': 48, 'minutes': 2859, 'thank': 4421, 'god': 1926, 'because': 432, 'falling': 1639, 'asleep': 320, 'use': 4692, 'photography': 3260, 'display': 1291, 'light': 2595, 'shadow': 3912, 'water': 4816, 'etc': 1527, 'unfortunately': 4654, 'thats': 4425, 'made': 2697, '1983': 22, 'prove': 3445, 'better': 472, 'original': 3129, 'running': 3756, '90': 60, 'try': 4600, 'them': 4432, 'seeing': 3857, 'trailer': 4554, 'cinema': 816, 'concept': 930, 'setting': 3900, 'world': 4946, 'computer': 927, 'star': 4150, 'cast': 710, 'message': 2819, 'when': 4862, 'didnt': 1242, 'go': 1924, 'week': 4837, 'release': 3602, 'disappeared': 1271, 'something': 4066, 'miss': 2866, 'waited': 4771, 'dvd': 1391, 'bought': 552, 'home': 2142, 'viewing': 4740, 'far': 1653, 'direction': 1261, 'appalling': 268, 'theres': 4440, 'gone': 1935, 'into': 2332, 'himself': 2111, 'appear': 273, 'wouldnt': 4958, 'him': 2110, 'future': 1856, 'secondly': 3847, 'lead': 2545, 'role': 3726, 'completely': 922, 'miscast': 2862, 'ryan': 3765, 'normally': 3034, 'character': 758, 'cruel': 1070, 'intentions': 2321, 'gun': 1996, 'hes': 2093, 'supposed': 4306, 'bumbling': 622, 'hero': 2088, 'which': 4867, 'attempts': 343, 'portray': 3340, 'having': 2054, 'friends': 1837, 'doesnt': 1309, 'look': 2646, 'female': 1693, 'rachel': 3500, 'cook': 988, 'dont': 1324, 'feature': 1678, 'enough': 1491, 'they': 4442, 'neither': 2996, 'close': 853, 'highlight': 2103, 'tim': 4494, 'robbins': 3712, 'could': 1007, 'been': 438, 'mysterious': 2955, 'ways': 4822, 'drag': 1342, 'along': 195, 'see': 3855, 'instead': 2307, 'section': 3853, 'causing': 726, 'disappointment': 1275, 'some': 4061, 'these': 4441, 'crude': 1069, 'fill': 1714, 'important': 2247, 'thing': 4450, 'fresh': 1833, 'movies': 2927, 'dance': 1103, 'club': 863, 'hit': 2122, 'cinemas': 817, 'lots': 2662, 'energy': 1478, 'portrayal': 3341, 'main': 2707, 'problem': 3408, 'cant': 671, 'decide': 1148, 'wants': 4791, 'likes': 2602, 'line': 2610, 'tap': 4364, 'makers': 2715, 'realized': 3553, 'fails': 1628, 'written': 4972, 'directing': 1260, 'why': 4878, 'down': 1335, '75': 57, 'production': 3419, 'department': 1182, 'cinematography': 820, 'save': 3794, 'day': 1129, 'eg': 1434, 'strange': 4211, 'works': 4945, 'much': 2934, 'simple': 3983, 'famous': 1647, 'offer': 3087, 'acting': 99, 'power': 3359, 'conclusion': 936, 'mess': 2818, 'somewhat': 4068, 'basic': 406, 'level': 2584, 'spend': 4105, 'night': 3013, 'your': 4991, 'favorite': 1671, 'where': 4864, 'review': 3676, 'james': 2378, 'rest': 3657, 'daring': 1114, 'human': 2188, 'since': 3990, 'beautiful': 428, 'around': 297, 'drug': 1373, 'cop': 991, 'name': 2960, 'happens': 2029, 'actor': 103, 'said': 3774, 'deep': 1154, 'high': 2100, 'school': 3813, 'taking': 4352, 'discovers': 1281, 'gang': 1867, 'war': 4792, 'rival': 3706, 'police': 3322, 'academy': 77, 'jones': 2418, 'new': 3003, 'partner': 3198, 'manages': 2725, 'come': 886, 'funniest': 1851, 'sounds': 4084, 'ever': 1538, 'hear': 2061, 'grasp': 1960, 'effects': 1431, 'visual': 4757, 'slight': 4027, 'between': 475, 'screen': 3829, 'adds': 119, 'real': 3547, 'gritty': 1977, 'underground': 4640, 'kudos': 2497, 'brilliant': 583, 'makeup': 2717, 'such': 4268, 'convincing': 985, 'burn': 625, 'marks': 2742, 'member': 2800, 'suffers': 4278, 'showdown': 3955, 'feel': 1684, 'passing': 3204, 'memory': 2804, 'every': 1539, 'mention': 2810, 'directors': 1266, 'commentary': 899, 'released': 3603, 'nose': 3037, 'truly': 4597, 'appropriate': 283, 'harsh': 2040, 'reality': 3551, 'life': 2592, 'streets': 4217, 'captured': 677, 'beauty': 430, 'punk': 3468, 'rubbish': 3748, 'bin': 483, 'ask': 316, 'did': 1241, 'big': 478, 'swimming': 4338, 'pool': 3327, 'cheap': 774, 'ill': 2228, 'tell': 4395, 'santa': 3783, 'baby': 376, 'drive': 1363, 'constructed': 959, 'oh': 3096, 'folk': 1770, 'must': 2950, 'soft': 4051, 'street': 4216, 'la': 2500, 'kick': 2460, 'through': 4477, 'moves': 2925, 'seem': 3861, 'place': 3282, 'special': 4097, 'childrens': 793, 'double': 1331, 'dragon': 1344, 'steven': 4182, 'spielberg': 4110, 'george': 1893, 'lucas': 2680, 'guy': 2000, 'revenge': 3675, 'hard': 2033, 'step': 4175, 'notch': 3043, 'pay': 3216, 'tribute': 4581, 'discovered': 1280, 'eva': 1531, 'yeah': 4977, 'please': 3304, 'spare': 4093, 'me': 2778, 'teach': 4374, 'us': 4690, 'crime': 1055, 'fun': 1848, 'couple': 1016, 'intense': 2316, 'desire': 1205, 'brother': 598, 'plus': 3311, 'lives': 2628, 'yet': 4984, 'group': 1980, 'supposedly': 4307, 'age': 148, 'dawson': 1128, 'brand': 565, 'teen': 4388, 'complete': 921, 'soundtrack': 4085, 'tries': 4585, 'we': 4823, 'painfully': 3172, 'inept': 2281, 'satire': 3788, 'isnt': 2362, 'rather': 3528, 'change': 749, 'stands': 4147, 'anywhere': 263, 'near': 2979, 'worth': 4953, 'price': 3389, 'betty': 474, 'girls': 1911, 'meet': 2793, 'richard': 3686, 'friend': 1835, 'surreal': 4317, 'moment': 2886, 'priceless': 3390, 'id': 2212, 'pain': 3170, 'spent': 4108, 'waiting': 4772, 'bleak': 503, 'plot': 3309, 'budget': 610, 'low': 2676, 'had': 2003, 'redeeming': 3577, 'features': 1680, 'slightly': 4029, 'hunter': 2199, 'brief': 579, 'appearance': 274, 'toward': 4539, 'end': 1468, 'itself': 2371, 'bizarre': 492, 'mix': 2876, 'tree': 4576, 'everything': 1544, 'parents': 3188, 'boy': 557, 'appeared': 276, 'times': 4497, 'son': 4070, 'im': 2232, 'sure': 4308, 'boredom': 542, 'levels': 2585, 'nothing': 3047, 'interest': 2323, 'intrigue': 2333, 'factor': 1622, 'couldnt': 1008, 'care': 684, 'happened': 2027, 'reminds': 3620, 'dull': 1384, 'shown': 3959, 'awards': 367, 'mr': 2929, 'holiday': 2134, 'artistic': 308, 'nonsensical': 3031, 'meaningful': 2781, 'coming': 896, 'pretentious': 3383, 'boring': 543, 'watched': 4813, 'hope': 2155, 'happen': 2026, 'chicago': 785, 'beginning': 443, 'lose': 2654, 'respect': 3652, 'nice': 3008, 'smile': 4036, 'stock': 4193, 'facial': 1619, 'get': 1899, 'proved': 3446, 'finally': 1724, 'gotten': 1947, 'hold': 2129, 'craft': 1028, 'act': 97, 'best': 469, 'danes': 1108, 'super': 4295, 'suggested': 4281, 'unnecessary': 4672, 'violence': 4747, 'saw': 3798, 'shocked': 3939, 'hadnt': 2004, 'heard': 2062, 'being': 448, 'theaters': 4428, 'blockbuster': 509, 'exceptional': 1558, 'blend': 504, 'suspense': 4330, 'thrills': 4475, 'social': 4049, 'youll': 4988, 'pitt': 3280, 'driven': 1365, 'comedy': 890, 'filmed': 1717, 'brazil': 568, 'premise': 3370, 'familiar': 1643, '1950s': 14, 'danny': 1112, 'joke': 2414, 'does': 1308, 'impression': 2252, 'person': 3238, 'contrast': 975, 'two': 4620, 'leads': 2548, 'highly': 2105, 'effective': 1429, 'julia': 2427, 'german': 1896, 'secret': 3849, 'tall': 4362, 'menacing': 2807, 'latin': 2527, 'sports': 4130, 'deliberately': 1166, 'blond': 510, 'job': 2405, 'short': 3946, 'york': 4985, 'jewish': 2401, 'sympathetic': 4342, 'many': 2732, 'references': 3583, 'inside': 2297, 'show': 3953, 'business': 633, 'clearly': 840, 'indeed': 2271, 'early': 1400, 'late': 2523, 'eighties': 1437, 'military': 2844, 'whose': 4877, 'father': 1666, 'germany': 1898, 'writer': 4968, 'reveals': 3673, 'typical': 4623, 'american': 213, 'huge': 2185, 'wealth': 4826, 'further': 1853, 'comic': 893, 'jonathan': 2417, 'winters': 4901, 'truth': 4599, 'cia': 814, 'station': 4164, 'chief': 788, 'figure': 1711, 'powerful': 3360, 'president': 3378, 'fact': 1621, 'influence': 2286, 'largely': 2518, 'racial': 3501, 'seen': 3865, 'elsewhere': 1449, 'due': 1382, 'long': 2644, 'wars': 4804, 'against': 147, 'larger': 2519, 'neighbors': 2994, '20th': 38, 'male': 2719, 'population': 3335, 'nearly': 2981, 'society': 4050, 'strongly': 4231, 'united': 4664, 'form': 1798, 'madonna': 2699, 'actress': 105, 'former': 1800, 'dancer': 1104, 'body': 527, 'pleasure': 3306, 'films': 1721, 'television': 4394, 'herself': 2092, 'now': 3054, 'politically': 3325, 'correct': 1000, 'hair': 2005, 'pulled': 3462, 'office': 3091, 'revolution': 3680, 'event': 1535, 'america': 212, 'beloved': 461, 'held': 2074, 'lasted': 2522, 'years': 4979, 'her': 2085, 'husband': 2204, 'legendary': 2565, 'credits': 1050, 'screenplay': 3831, 'were': 4848, 'hollywood': 2137, 'until': 4680, 'talent': 4354, 'retired': 3664, 'jr': 2423, 'essentially': 1523, 'robert': 3713, 'louis': 2665, 'bottle': 550, 'comes': 891, 'evil': 1548, 'object': 3066, 'grant': 1956, 'wish': 4904, 'ultimately': 4628, 'doom': 1326, 'fine': 1729, 'nobody': 3022, 'actors': 104, 'pretty': 3384, 'competent': 917, 'given': 1913, 'mediocre': 2791, 'writing': 4971, 'onto': 3111, 'biggest': 480, 'complaint': 920, 'thinks': 4454, 'solve': 4060, 'different': 1248, 'attempt': 340, 'innocent': 2294, 'seems': 3864, 'worked': 4941, 'true': 4596, 'code': 869, 'modern': 2882, 'horror': 2168, 'provide': 3448, 'last': 2521, 'stupid': 4247, 'older': 3101, 'got': 1944, 'allowing': 191, 'win': 4892, 'wrong': 4973, 'matter': 2769, 'current': 1084, 'think': 4452, 'scare': 3803, 'happy': 2032, 'elizabeth': 1445, 'taylor': 4372, 'usual': 4699, 'annoying': 249, 'self': 3869, 'before': 440, 'fat': 1663, 'hudson': 2184, 'william': 4887, 'dean': 1139, 'knew': 2486, 'whole': 4873, 'incredibly': 2270, 'slow': 4031, 'goes': 1930, 'none': 3028, 'aged': 149, 'convincingly': 986, 'poor': 3328, 'ridiculous': 3693, 'baker': 385, 'obviously': 3072, 'tv': 4610, 'vast': 4716, 'hanks': 2025, 'tom': 4514, 'crappy': 1032, 'party': 3200, 'focuses': 1768, 'game': 1864, 'eventually': 1537, 'drives': 1367, 'our': 3139, 'madness': 2698, '1980s': 21, 'focusing': 1769, 'threat': 4467, 'youth': 4994, 'playing': 3300, 'games': 1865, 'prefer': 3368, 'view': 4736, 'monsters': 2893, 'turning': 4608, 'whatever': 4859, 'chris': 806, 'remember': 3616, 'rabbit': 3498, 'gave': 1875, 'thrill': 4471, 'beating': 425, 'crap': 1031, 'matt': 2768, 'few': 1700, 'argue': 290, 'regular': 3592, 'basis': 408, 'things': 4451, 'store': 4204, 'thin': 4449, 'leave': 2555, 'fault': 1668, 'major': 2711, 'small': 4033, 'pack': 3165, 'passed': 3202, 'others': 3136, 'recommend': 3571, 'younger': 4990, 'though': 4461, 'breathtaking': 574, 'scenery': 3810, 'difficult': 1249, 'points': 3319, 'company': 910, 'reviews': 3679, 'lack': 2502, 'execution': 1566, 'children': 792, 'yes': 4982, 'broad': 590, 'landscapes': 2514, 'forest': 1791, 'mountains': 2918, 'magnificent': 2705, 'going': 1931, 'narration': 2965, 'stupidity': 4248, 'learns': 2553, 'slowly': 4032, 'lesson': 2577, 'gets': 1900, 'off': 3084, 'easily': 1406, 'track': 4544, 'record': 3573, 'sort': 4077, 'remotely': 3623, 'novel': 3052, 'told': 4513, 'de': 1131, 'sense': 3877, 'work': 4940, 'wonderful': 4928, 'lighting': 2596, 'waste': 4808, 'sad': 3767, 'highest': 2102, 'involved': 2346, 'should': 3951, 'celluloid': 731, 'wasted': 4809, 'trash': 4565, 'atrocious': 335, 'awful': 372, 'camera': 659, 'quality': 3484, 'amateur': 206, 'created': 1037, 'guys': 2001, 'worst': 4952, 'sat': 3786, 'believe': 454, 'paid': 3169, 'buy': 640, 'ticket': 4487, 'theater': 4427, 'agreed': 156, 'commented': 900, 'thumbs': 4485, 'middle': 2833, 'benefit': 465, 'doubt': 1332, 'beyond': 476, 'episode': 1507, 'ive': 2372, 'total': 4531, 'six': 4010, 'episodes': 1508, 'june': 2433, '2006': 36, 'batman': 413, 'utter': 4701, 'getting': 1901, 'past': 3207, 'lousy': 2667, 'design': 1202, 'stories': 4205, 'ridiculously': 3694, 'convoluted': 987, 'development': 1225, 'apparent': 269, 'writers': 4969, 'substance': 4258, 'gods': 1928, 'door': 1328, 'justice': 2438, 'system': 4345, 'effort': 1432, 'villains': 4745, 'above': 68, 'matters': 2770, 'worse': 4951, 'single': 3996, 'tale': 4353, 'formula': 1802, 'sets': 3899, 'gas': 1874, 'city': 825, 'saves': 3796, 'title': 4504, 'escapes': 1519, 'villain': 4744, 'basement': 405, 'starts': 4159, 'goodness': 1938, 'existence': 1571, 'era': 1513, 'bat': 410, 'fox': 1814, 'kids': 2467, 'days': 1130, 'known': 2492, 'forever': 1792, 'loves': 2674, 'showed': 3956, 'killing': 2472, 'ones': 3108, 'loved': 2670, 'portraying': 3343, 'ned': 2986, 'joe': 2407, 'quick': 3490, 'inappropriate': 2259, 'language': 2516, 'mild': 2839, 'vicious': 4728, 'killers': 2471, 'learn': 2550, 'inspiration': 2300, 'book': 535, 'interested': 2324, 'implausible': 2245, 'during': 1387, 'reviewers': 3678, 'missing': 2869, 'enjoyed': 1486, 'wide': 4880, 'produced': 3414, 'magic': 2703, 'johnson': 2411, 'check': 777, 'beautifully': 429, 'house': 2178, 'psycho': 3457, 'cliché': 844, 'sex': 3907, 'college': 875, 'horrendous': 2162, 'ludicrous': 2685, 'suck': 4269, 'yourself': 4993, 'suffering': 4277, 'three': 4469, 'words': 4938, 'genuine': 1891, 'rendition': 3625, 'utterly': 4702, 'half': 2007, 'heart': 2064, 'explained': 1587, 'meant': 2784, 'focus': 1766, 'adventure': 130, 'taken': 4350, 'seat': 3845, 'living': 2629, 'events': 1536, 'jim': 2402, 'mine': 2853, 'childhood': 790, 'okay': 3099, 'broadway': 592, 'musical': 2947, 'else': 1448, 'cameos': 658, 'mayor': 2777, 'ed': 1415, 'anyway': 261, 'turns': 4609, '25': 40, 'year': 4978, 'today': 4508, 'appreciate': 279, 'sentimental': 3882, 'adults': 126, 'myself': 2953, 'top': 4525, 'favorites': 1672, 'wrote': 4974, 'below': 462, '17': 9, 'credit': 1049, 'explains': 1589, 'appeal': 271, 'manhattan': 2726, 'island': 2361, 'charming': 768, 'witty': 4917, 'romantic': 3733, 'love': 2669, 'peter': 3247, 'native': 2972, 'identify': 2216, 'location': 2635, 'west': 4852, 'old': 3100, 'limits': 2607, 'western': 4853, 'entire': 1502, 'ensemble': 1492, 'laughed': 2532, 'cried': 1054, 'cats': 721, 'dorothy': 1330, 'cameo': 657, 'subsequent': 4257, 'inner': 2292, 'popcorn': 3331, 'sappy': 3784, 'sweet': 4336, 'full': 1846, 'clichés': 846, 'entertaining': 1499, 'entertained': 1498, 'stunning': 4244, 'michael': 2829, 'women': 4923, 'understand': 4643, 'comments': 901, 'chemistry': 782, 'guess': 1989, 'british': 589, 'accent': 78, 'creep': 1051, 'noticed': 3049, 'went': 4847, 'dialogue': 1234, 'exception': 1557, 'married': 2744, 'significant': 3972, 'unlikely': 4671, 'documentaries': 1306, 'unrealistic': 4677, 'dramas': 1347, 'escape': 1517, 'daily': 1097, 'enter': 1494, 'hey': 2095, 'tears': 4380, 'plenty': 3307, 'saving': 3797, 'unseen': 4678, 'channel': 753, 'lifetime': 2594, 'note': 3044, 'found': 1811, 'comedian': 887, 'dies': 1245, 'sent': 3880, 'earth': 1403, 'mid': 2832, '50s': 52, 'white': 4870, 'mans': 2730, 'realize': 3552, 'behavior': 446, 'continues': 971, 'rap': 3520, 'sings': 3997, 'stereotypical': 4180, 'urban': 4688, 'trouble': 4592, 'community': 908, 'shouldnt': 3952, 'moved': 2922, 'brown': 601, 'face': 1616, 'indians': 2275, 'rape': 3521, 'lets': 2580, 'blatant': 502, 'rip': 3700, 'boss': 546, 'destroy': 1213, 'rebel': 3561, 'dude': 1381, 'horrific': 2166, 'anyone': 259, 'whos': 4876, 'indian': 2274, 'figures': 1713, 'tend': 4400, 'strong': 4229, 'source': 4086, 'idiot': 2218, 'always': 203, 'philosophy': 3254, 'awesome': 371, 'student': 4238, 'problems': 3409, 'each': 1395, 'wave': 4818, 'length': 2569, 'golden': 1934, 'oscars': 3134, 'become': 433, 'kind': 2476, 'cult': 1077, 'classic': 835, 'among': 217, 'relate': 3593, 'experience': 1580, 'according': 88, 'chicks': 787, 'drunk': 1375, 'spoiler': 4123, 'regret': 3591, 'melodrama': 2797, 'directed': 1259, 'widmark': 4882, 'heads': 2059, 'rural': 3758, 'nervous': 2999, 'loose': 2650, 'wife': 4884, 'battles': 415, 'queen': 3485, 'staff': 4138, 'bacall': 377, 'putting': 3482, 'together': 4511, 'david': 1124, 'lisa': 2616, 'hidden': 2096, 'build': 614, 'concerns': 934, 'hanging': 2023, 'library': 2589, 'used': 4693, 'symbolism': 4341, 'red': 3576, 'non': 3027, 'mystery': 2956, 'picture': 3269, 'hopes': 2159, 'theyre': 4445, 'working': 4944, 'everyone': 1542, 'opinion': 3118, 'nor': 3032, 'let': 2579, 'summary': 4290, 'fool': 1779, 'sucks': 4271, 'terrible': 4407, 'brains': 563, 'describe': 1194, 'hands': 2020, 'horrors': 2169, 'handful': 2017, 'develop': 1222, 'health': 2060, 'genre': 1888, 'slasher': 4020, 'gore': 1941, 'flicks': 1755, 'kinds': 2478, 'lot': 2661, 'horrid': 2165, 'fx': 1858, 'absolute': 71, 'potential': 3355, 'vehicle': 4718, 'suffice': 4279, 'free': 1827, 'youd': 4987, 'cat': 713, 'randomly': 3515, 'gory': 1943, 'plain': 3286, 'term': 4405, 'loosely': 2651, 'abysmal': 76, 'cannot': 670, 'money': 2888, 'producers': 3416, 'sake': 3775, 'cost': 1003, 'project': 3427, 'havent': 2053, 'clue': 864, 'elvira': 1450, 'bigger': 479, 'keeps': 2451, 'covered': 1023, 'wit': 4908, 'attention': 345, 'looking': 2648, 'combined': 885, 'adams': 112, 'anna': 245, 'smith': 4038, 'distant': 1295, 'relatives': 3601, 'estate': 1525, 'discover': 1279, 'scary': 3807, 'chilling': 794, 'mostly': 2910, 'campy': 664, 'fare': 1655, 'mob': 2879, 'heroine': 2091, 'uses': 4697, 'marvelous': 2750, 'keeping': 2450, 'locked': 2637, 'vegas': 4717, 'type': 4621, 'reason': 3557, 'guide': 1993, 'asks': 319, 'whats': 4860, 'needs': 2990, 'need': 2987, 'lessons': 2578, 'unbelievably': 4635, 'dialog': 1232, 'brian': 576, 'wannabe': 4787, 'wanted': 4789, 'values': 4710, 'laughing': 2533, 'bother': 548, 'curiosity': 1082, 'mistake': 2871, 'staying': 4168, 'adaptation': 113, 'cox': 1026, 'tradition': 4549, 'mexican': 2826, 'period': 3236, 'take': 4349, 'von': 4765, 'elements': 1443, 'takes': 4351, 'jump': 2429, 'cuts': 1091, 'sound': 4081, 'recording': 3575, 'teacher': 4375, 'obsessed': 3069, 'teenager': 4390, 'donna': 1323, 'snow': 4045, 'witnesses': 4916, 'murder': 2939, 'family': 1645, 'stay': 4166, 'arrested': 298, 'prison': 3401, 'later': 2525, 'feeling': 1685, 'under': 4639, 'psychological': 3458, 'treatment': 4574, 'prom': 3429, 'boyfriend': 558, 'bobby': 525, 'scott': 3824, 'couples': 1017, 'hotel': 2175, 'escaped': 1518, 'floor': 1759, 'chasing': 772, 'path': 3209, 'forgettable': 1794, 'collection': 874, 'originality': 3130, 'shallow': 3917, 'silly': 3976, 'insane': 2296, 'killer': 2470, 'possible': 3350, 'vote': 4766, 'scientist': 3818, 'space': 4090, 'suit': 4284, 'oliver': 3102, 'daughter': 1121, 'moon': 2900, 'adapted': 114, 'lifestyle': 2593, 'join': 2412, 'telling': 4396, 'professional': 3421, 'introduced': 2337, 'jessica': 2398, 'susan': 4326, 'feels': 1687, 'changing': 752, 'decides': 1150, 'investigate': 2342, 'finding': 1727, 'members': 2801, '80s': 59, 'liked': 2600, 'wives': 4918, 'literally': 2622, 'sell': 3871, 'souls': 4080, 'devil': 1228, 'higher': 2101, 'author': 359, 'intended': 2315, 'interpretation': 2328, 'fits': 1741, 'perfectly': 3226, 'seven': 3903, 'decade': 1144, '30s': 44, 'names': 2963, 'karloff': 2445, 'bela': 450, 'lugosi': 2686, 'became': 431, 'guarantee': 1987, 'monster': 2892, 'dracula': 1341, 'thanks': 4423, 'elegant': 1441, 'foreign': 1790, 'sadly': 3769, 'led': 2558, '40s': 49, 'frankenstein': 1822, 'natural': 2973, 'repeated': 3631, 'several': 3905, 'science': 3816, 'fiction': 1702, 'invisible': 2344, 'ray': 3533, 'minor': 2857, 'classics': 837, 'dr': 1340, 'device': 1227, 'able': 66, 'showing': 3958, 'felix': 1689, 'sir': 4000, 'francis': 1818, 'stevens': 4183, 'walter': 4784, 'thousands': 4466, 'ago': 154, 'discovery': 1282, 'africa': 141, 'landing': 2512, 'diane': 1238, 'fall': 1637, 'frank': 1821, 'expert': 1585, 'brought': 600, 'aid': 160, 'trip': 4588, 'changed': 750, 'exposed': 1598, 'previously': 3388, 'werewolf': 4850, 'london': 2641, 'roots': 3738, 'howard': 2182, 'douglas': 1334, 'puts': 3481, 'emphasis': 1463, 'side': 3965, 'mad': 2696, 'adding': 117, 'element': 1442, 'stand': 4143, 'morality': 2903, 'arent': 288, 'exactly': 1551, 'heroes': 2089, 'decisions': 1152, 'consequences': 947, 'choices': 798, 'tragedy': 4551, 'guilt': 1994, 'filmmaker': 1719, 'universal': 4665, 'studio': 4240, 'facing': 1620, 'serious': 3891, 'financial': 1725, 'troubles': 4594, 'limited': 2606, 'resources': 3651, 'nowhere': 3056, 'stylish': 4251, 'gothic': 1945, 'atmosphere': 333, 'effectively': 1430, 'captures': 678, 'essence': 1521, 'dark': 1115, 'mood': 2898, 'tone': 4517, 'pulp': 3465, 'novels': 3053, 'word': 4937, 'extremely': 1610, 'extraordinary': 1607, 'perfect': 3224, 'joy': 2422, 'stealing': 4171, 'underrated': 4642, 'helping': 2081, 'highlights': 2104, 'cooper': 990, 'mother': 2911, 'lady': 2507, 'actresses': 106, 'unforgettable': 4652, 'roles': 3727, 'compared': 912, 'todays': 4509, 'standards': 4145, 'easy': 1410, 'remarkably': 3614, 'done': 1322, 'considering': 952, 'nuclear': 3057, 'relatively': 3600, 'accurate': 90, 'worthy': 4956, 'relationships': 3598, 'friendship': 1838, 'exists': 1573, 'cold': 872, 'allows': 192, 'amongst': 218, 'mixture': 2878, 'gem': 1877, 'delivers': 1172, 'reference': 3582, 'secretary': 3850, 'columbo': 881, 'unpredictable': 4675, 'twist': 4617, 'resolution': 3649, 'murderer': 2941, 'falk': 1636, 'ruth': 3763, 'gordon': 1940, 'tongue': 4518, 'cheek': 779, 'fame': 1642, 'months': 2897, 'hearing': 2063, 'cute': 1090, 'combine': 884, 'peoples': 3222, 'order': 3126, 'own': 3158, 'troops': 4591, 'million': 2847, 'blair': 497, 'witch': 4909, 'mind': 2849, 'foot': 1781, 'hollywoods': 2138, 'doing': 1312, 'animal': 239, 'meets': 2795, 'wall': 4781, 'dead': 1132, 'shakespeare': 3915, 'independent': 2272, 'safe': 3771, 'christmas': 810, 'behind': 447, 'help': 2079, 'torn': 4528, 'replaced': 3634, 'apartment': 265, 'buildings': 616, 'bit': 488, 'murderous': 2942, 'wearing': 4831, 'wandering': 4785, 'various': 4715, 'violent': 4748, 'video': 4733, 'listed': 2618, 'uk': 4626, 'blood': 512, 'reputation': 3640, 'built': 618, 'prior': 3400, 'nasty': 2968, 'strikes': 4225, 'images': 2235, 'explicit': 1591, 'dreams': 1355, 'expecting': 1578, 'sleazy': 4023, 'failed': 1626, 'visually': 4758, 'except': 1556, 'overall': 3150, 'fail': 1625, 'unoriginal': 4673, 'lacking': 2504, 'often': 3095, 'throws': 4482, 'random': 3514, 'opening': 3114, 'kill': 2468, 'poster': 3353, 'positive': 3346, 'flick': 1754, 'avoid': 363, 'students': 4239, 'fairly': 1631, 'watchable': 4812, 'row': 3744, 'pieces': 3273, 'compare': 911, 'expect': 1575, 'hate': 2046, 'remake': 3612, 'brutally': 604, 'kills': 2474, 'murders': 2943, 'nudity': 3059, 'scares': 3806, 'suppose': 4305, 'helen': 2075, 'hunt': 2198, 'jeff': 2390, 'documentary': 1307, 'richards': 3687, 'career': 686, 'memorable': 2802, 'photos': 3261, 'fight': 1707, 'news': 3005, 'front': 1841, 'nonetheless': 3029, 'following': 1774, 'jet': 2400, 'blue': 518, 'eyes': 1613, 'glass': 1917, 'dressed': 1358, 'decades': 1145, 'photographed': 3258, 'image': 2233, 'elvis': 1451, 'page': 3167, 'disappear': 1270, 'religion': 3607, 'hurt': 2202, 'emily': 1456, 'julie': 2428, 'rate': 3526, 'reasons': 3560, 'trained': 4557, 'stunts': 4246, 'theme': 4433, 'cry': 1073, 'intelligent': 2314, 'lab': 2501, 'smart': 4035, 'named': 2961, 'farm': 1656, 'worried': 4949, 'plan': 3287, 'incredible': 2269, 'journey': 2421, 'mountain': 2917, 'suggest': 4280, 'bound': 553, 'providing': 3451, 'voices': 4763, 'crazy': 1035, 'lived': 2626, '60s': 54, '70s': 56, '15': 7, 'watches': 4814, 'worry': 4950, 'loving': 2675, 'poignant': 3315, 'hilarious': 2106, 'notes': 3046, 'perfection': 3225, 'introduction': 2339, 'bill': 481, 'glad': 1916, 'turn': 4605, 'bruce': 602, 'robinson': 3716, 'bringing': 586, 'stereotype': 4178, 'live': 2625, 'california': 650, 'billy': 482, 'mall': 2720, 'five': 1743, 'sit': 4003, 'court': 1020, 'talked': 4359, 'popular': 3333, 'missed': 2867, 'goal': 1925, 'bond': 532, 'player': 3298, 'ultimate': 4627, 'fantasy': 1652, 'shoes': 3941, 'agent': 150, 'closer': 856, 'control': 977, 'brosnan': 597, 'voice': 4761, '70': 55, 'fit': 1740, '30': 42, 'lines': 2612, 'deal': 1135, 'begins': 444, 'mission': 2870, 'prime': 3395, 'blonde': 511, 'terrorists': 4414, 'cars': 702, 'clothes': 860, 'roll': 3728, 'key': 2458, 'factory': 1623, 'follows': 1775, 'turkey': 4604, 'russian': 3762, 'claims': 830, 'crush': 1072, 'lovable': 2668, 'sidekick': 3966, 'protect': 3443, 'screenwriter': 3833, 'behave': 445, 'miles': 2843, 'ahead': 159, 'besides': 468, 'notable': 3041, 'button': 639, 'push': 3477, 'allow': 189, 'target': 4366, 'choose': 799, 'spots': 4132, 'shoot': 3942, 'attached': 336, 'youre': 4992, 'beat': 423, 'raw': 3532, 'displayed': 1292, 'helicopter': 2076, 'explore': 1594, 'areas': 287, 'reach': 3536, 'useful': 4694, 'rooms': 3736, 'enemies': 1476, 'weapon': 4828, 'available': 361, 'dress': 1357, 'number': 3060, 'costumes': 1006, 'gray': 1963, 'standard': 4144, 'wore': 4939, 'martin': 2748, 'straight': 4210, 'gadget': 1860, 'flying': 1764, 'car': 680, 'fly': 1763, 'air': 164, 'multi': 2935, 'amusing': 221, 'decent': 1147, 'bonus': 534, 'alone': 194, 'flaws': 1752, 'moments': 2887, 'camp': 662, 'imagine': 2238, 'hitler': 2124, 'master': 2757, 'propaganda': 3435, 'portrayed': 3342, 'desperate': 1208, 'cardboard': 682, 'piece': 3272, 'pity': 3281, 'believed': 455, 'follow': 1772, 'loser': 2655, 'unbelievable': 4634, 'mtv': 2933, 'persons': 3244, 'century': 736, 'wonder': 4926, 'talk': 4358, '1990s': 25, 'aimed': 162, 'jaws': 2385, 'touching': 4536, 'theatre': 4429, 'started': 4157, 'leaving': 2557, 'crying': 1074, 'excuse': 1564, 'paper': 3183, 'dealt': 1138, 'legend': 2564, 'angry': 238, 'spirit': 4113, 'add': 115, 'halloween': 2010, 'season': 3843, 'mistaken': 2872, 'creates': 1038, 'creepy': 1052, 'simplistic': 3985, 'loss': 2659, 'property': 3438, 'common': 906, 'harder': 2035, 'rarely': 3524, 'spooky': 4128, 'anymore': 258, 'idiots': 2220, 'drawing': 1350, 'board': 522, 'millions': 2848, 'throw': 4479, 'spoilers': 4124, 'offering': 3089, 'editing': 1421, 'matches': 2764, 'denzel': 1181, 'talents': 4356, 'themselves': 4435, 'outside': 3146, 'forces': 1788, 'needed': 2988, 'unlike': 4670, 'killed': 2469, 'thinking': 4453, 'died': 1244, 'trade': 4547, 'rating': 3529, 'critic': 1061, 'pointed': 3317, 'private': 3404, '35': 45, 'taste': 4369, 'otherwise': 3137, 'bollywood': 530, 'le': 2544, 'masterpiece': 2759, 'forgotten': 1797, 'hoping': 2160, 'doomed': 1327, 'reading': 3544, 'score': 3822, 'artist': 307, 'thick': 4447, 'faces': 1618, 'cuba': 1075, 'woods': 4935, 'shame': 3918, 'giving': 1915, '11': 2, 'emma': 1457, 'reduced': 3579, 'severe': 3906, 'cutting': 1092, 'kate': 2446, 'pulls': 3464, 'alan': 171, 'perhaps': 3235, 'absolutely': 72, 'wanting': 4790, 'rented': 3628, 'improved': 2255, '100': 1, 'kicks': 2463, 'ass': 323, 'amanda': 205, 'recently': 3567, 'renting': 3629, 'nine': 3017, 'rental': 3627, 'remembered': 3617, 'twenty': 4612, 'ms': 2931, 'shot': 3949, 'convinced': 984, 'afternoon': 144, 'pathetic': 3210, 'men': 2805, 'encounters': 1467, 'kept': 2456, 'wondering': 4930, 'turned': 4606, 'sexual': 3908, 'details': 1219, 'complain': 919, 'wait': 4770, 'forgot': 1796, 'notice': 3048, 'deaf': 1134, 'developing': 1224, 'brain': 562, 'failing': 1627, 'happening': 2028, 'four': 1812, 'asking': 318, 'qualities': 3483, 'stick': 4185, 'longer': 2645, 'date': 1118, 'buddy': 609, 'bag': 384, 'advice': 133, 'genuinely': 1892, 'adequate': 120, 'managed': 2723, 'explain': 1586, 'questions': 3489, 'bits': 490, 'throughout': 4478, 'checking': 778, 'list': 2617, 'brad': 560, 'laughs': 2534, 'werent': 4849, 'warn': 4797, 'clever': 841, 'farce': 1654, 'security': 3854, 'uninteresting': 4660, 'inane': 2258, 'stanley': 4148, 'train': 4556, 'wreck': 4965, 'instance': 2304, 'causes': 725, 'suddenly': 4273, 'drunken': 1376, 'admittedly': 123, 'seemingly': 3863, 'tommy': 4516, 'dream': 1354, 'believable': 453, 'necessary': 2984, 'slightest': 4028, 'description': 1197, 'contained': 963, 'spoil': 4121, 'stinks': 4192, 'heaven': 2068, 'case': 707, 'run': 3755, 'aired': 165, 'bored': 541, 'team': 4378, 'dating': 1120, '20': 29, '60': 53, '50': 51, 'means': 2783, 'nick': 3012, 'surviving': 4323, 'personal': 3240, 'relations': 3596, 'leaves': 2556, 'lame': 2510, 'proud': 3444, 'bear': 420, 'either': 1438, 'fallen': 1638, 'bathroom': 412, 'wow': 4962, 'choice': 797, 'toilet': 4512, 'goldberg': 1933, 'futuristic': 1857, 'rubber': 3747, 'dinosaur': 1255, 'terms': 4406, 'butt': 638, 'blows': 517, 'merit': 2816, 'category': 718, 'write': 4967, 'whilst': 4869, 'felt': 1692, 'imdb': 2240, 'park': 3190, 'walked': 4776, 'concerned': 932, 'criminal': 1057, 'dolph': 1317, 'jesus': 2399, 'carried': 698, 'fighting': 1709, 'choreographed': 801, 'kinda': 2477, 'perform': 3227, 'badly': 383, 're': 3535, '12': 3, 'norman': 3035, 'brothers': 599, 'falls': 1640, 'charismatic': 763, 'paul': 3214, 'genius': 1887, 'proves': 3447, 'depressing': 1188, 'casting': 711, 'craig': 1030, 'once': 3106, 'expected': 1577, 'clear': 839, 'poetic': 3313, 'bette': 471, 'humorous': 2193, 'capable': 672, 'merely': 2815, 'songs': 4072, 'punch': 3466, 'singing': 3995, 'rose': 3739, 'wind': 4893, 'beneath': 464, 'adult': 125, 'eyed': 1612, 'appreciation': 281, 'pushing': 3479, 'example': 1553, 'winning': 4898, 'generated': 1882, 'wolf': 4920, 'humans': 2190, 'laughable': 2530, 'nude': 3058, 'doll': 1313, 'balance': 387, 'mate': 2765, 'subplot': 4255, 'spell': 4104, 'manner': 2729, 'explaining': 1588, '90s': 61, 'tape': 4365, 'stuck': 4237, 'hole': 2132, 'castle': 712, 'touched': 4534, 'saying': 3800, 'rent': 3626, 'drink': 1361, 'enjoy': 1484, 'buying': 641, 'chinese': 796, 'international': 2326, 'card': 681, 'da': 1094, 'awake': 365, 'version': 4720, 'rings': 3699, 'attractive': 351, 'inspired': 2301, 'jack': 2373, 'nicholson': 3011, 'mgm': 2828, 'turner': 4607, 'outfit': 3144, 'forget': 1793, 'realistic': 3550, 'scrooge': 3837, 'locations': 2636, 'authentic': 358, 'roger': 3724, 'understated': 4646, 'warner': 4799, 'bob': 524, 'remains': 3611, 'disagree': 1269, 'terribly': 4408, 'lust': 2689, 'flashbacks': 1747, 'dickens': 1240, 'tells': 4397, 'flashback': 1746, 'room': 3735, 'fred': 1825, 'sincere': 3991, 'humanity': 2189, 'brings': 587, 'forgive': 1795, 'designed': 1203, 'purpose': 3474, 'tonight': 4519, 'placed': 3283, 'flies': 1756, 'towards': 4540, 'apparently': 270, 'nearby': 2980, 'teenagers': 4391, 'thirty': 4456, 'law': 2538, 'nightmare': 3014, 'properly': 3437, 'cover': 1022, 'hundred': 2195, 'grade': 1951, 'notably': 3042, 'appears': 278, 'holes': 2133, 'los': 2653, 'angeles': 233, 'understood': 4647, 'womans': 4922, 'ship': 3934, 'captain': 674, 'heck': 2071, 'create': 1036, 'field': 1704, 'land': 2511, 'virtually': 4751, 'football': 1783, 'blade': 495, 'machine': 2693, 'size': 4012, 'accomplished': 87, '3000': 43, 'sorry': 4076, 'weight': 4840, 'gross': 1978, 'alright': 198, 'adorable': 124, 'particular': 3194, 'robot': 3717, 'pick': 3265, 'latest': 2526, 'copy': 994, 'consider': 949, 'adventures': 131, 'recall': 3562, 'practically': 3362, 'lloyd': 2630, 'anger': 235, 'garden': 1872, 'sexually': 3910, 'assault': 324, 'earlier': 1399, 'couldve': 1009, 'upon': 4684, 'co': 867, 'intentionally': 2320, 'argument': 291, 'creation': 1040, 'cinematic': 818, 'equivalent': 1512, 'march': 2734, 'lonely': 2643, 'represents': 3639, 'circumstances': 822, 'ingredients': 2289, 'produce': 3413, 'singer': 3993, 'determined': 1221, 'seriously': 3892, 'apart': 264, 'die': 1243, 'likely': 2601, 'hired': 2117, 'demand': 1174, 'grave': 1962, 'usually': 4700, 'disbelief': 1277, 'laughter': 2535, 'unique': 4662, 'combination': 883, 'logic': 2638, 'impossible': 2249, 'rid': 3690, 'lovers': 2673, 'surprises': 4314, 'definite': 1161, 'ends': 1474, 'presents': 3377, 'capital': 673, 'background': 380, 'countries': 1013, 'stated': 4161, 'boys': 559, 'approach': 282, 'situation': 4008, 'faced': 1617, 'issues': 2365, 'namely': 2962, 'related': 3594, 'stress': 4220, 'doctor': 1304, 'sea': 3838, 'plausible': 3295, 'laugh': 2529, 'caused': 724, 'stan': 4142, 'presented': 3376, 'slapstick': 4019, 'comparison': 914, 'mirror': 2861, 'studios': 4241, 'finish': 1732, 'stayed': 4167, 'continued': 970, 'romance': 3732, 'emotions': 1461, 'chose': 804, 'develops': 1226, 'soccer': 4048, 'root': 3737, 'walk': 4775, 'leading': 2547, 'ladies': 2506, 'heres': 2087, 'vhs': 4725, 'serial': 3889, 'spirits': 4115, 'walking': 4779, 'machines': 2694, 'friendly': 1836, 'landscape': 2513, 'pot': 3354, 'freddy': 1826, 'mouth': 2920, 'movements': 2924, 'matched': 2763, 'liners': 2611, 'hardcore': 2034, 'average': 362, 'dropped': 1370, 'sudden': 4272, 'admit': 122, 'wounded': 4961, 'soldiers': 4054, 'explosion': 1596, 'performed': 3230, 'countless': 1012, 'combat': 882, 'screaming': 3827, 'spoken': 4126, 'performer': 3231, 'corny': 997, 'tooth': 4524, 'fairy': 1632, 'town': 4541, 'somewhere': 4069, 'campbell': 663, 'joined': 2413, 'girlfriend': 1910, 'pamela': 3179, 'arrive': 300, 'weekend': 4838, 'within': 4912, 'teeth': 4393, 'becomes': 434, 'ghost': 1902, 'chuck': 812, 'shop': 3945, 'obscure': 3068, 'cable': 644, 'basically': 407, 'producer': 3415, 'stephen': 4176, 'fest': 1696, 'odd': 3080, 'introduces': 2338, 'hardly': 2036, 'spectacular': 4101, 'purely': 3472, 'open': 3112, 'doors': 1329, 'using': 4698, 'weapons': 4829, 'supernatural': 4302, 'reasonably': 3559, 'excited': 1561, 'atmospheric': 334, 'darkness': 1117, '2003': 33, 'wood': 4933, 'stomach': 4196, 'guts': 1999, 'everywhere': 1545, 'pass': 3201, 'lawyer': 2541, 'kenneth': 2455, 'pulling': 3463, 'defense': 1159, 'attorney': 348, 'criminals': 1058, 'treats': 4575, 'crisis': 1060, 'process': 3412, 'safety': 3772, 'ex': 1549, 'arm': 292, 'satisfying': 3791, 'position': 3345, 'hated': 2047, 'filled': 1715, 'offensive': 3086, 'content': 966, 'individual': 2277, 'exposure': 1599, 'states': 4163, 'unfortunate': 4653, 'deserved': 1200, 'storyline': 4208, 'initially': 2291, 'disjointed': 1287, 'poorly': 3329, 'miracle': 2860, 'whoever': 4872, 'scripted': 3835, 'knows': 2493, 'baseball': 403, 'angels': 234, 'owner': 3159, 'bothered': 549, 'manager': 2724, 'shape': 3919, 'losing': 2658, 'coach': 868, 'eccentric': 1414, 'foster': 1809, 'reaction': 3541, 'maggie': 2702, 'won': 4925, 'decided': 1149, 'wins': 4899, 'league': 2549, 'championship': 745, 'starting': 4158, 'breaks': 571, 'mel': 2796, 'clark': 832, 'tony': 4521, 'thrown': 4481, 'typically': 4624, 'pitch': 3279, 'count': 1010, 'lower': 2677, '80': 58, 'al': 170, 'angel': 231, 'examples': 1554, 'saturday': 3792, 'morning': 2906, 'stargate': 4151, 'scores': 3823, 'aliens': 184, 'jerry': 2396, 'bay': 416, 'wanna': 4786, 'staged': 4140, 'class': 833, 'called': 652, 'information': 2288, 'environment': 1505, 'green': 1971, 'dying': 1393, 'kung': 2498, 'fu': 1844, 'sends': 3876, 'banned': 395, 'ran': 3513, 'taught': 4370, 'snake': 4042, 'martial': 2747, 'arts': 310, 'fans': 1650, 'sticks': 4186, 'stays': 4169, 'armed': 293, 'brave': 567, 'training': 4558, 'sequence': 3887, '45': 50, 'bold': 528, 'move': 2921, 'pays': 3218, 'struck': 4232, 'solid': 4057, 'convince': 983, 'importance': 2246, 'unconvincing': 4638, 'defined': 1160, 'menace': 2806, 'cynical': 1093, 'losers': 2656, 'include': 2261, 'mental': 2808, 'illness': 2230, 'depth': 1190, 'finished': 1733, 'complex': 923, 'laid': 2508, 'honest': 2146, 'muslim': 2949, 'burns': 628, 'liking': 2604, 'flow': 1762, 'veteran': 4724, 'weakest': 4825, 'link': 2613, 'mark': 2739, 'equally': 1510, 'steals': 4172, 'shes': 3930, 'brenda': 575, 'twelve': 4611, 'stopped': 4202, 'hot': 2174, 'scream': 3826, 'cash': 709, 'success': 4265, 'australia': 356, 'ready': 3546, 'grown': 1984, 'sick': 3963, 'twists': 4619, 'theyve': 4446, 'elm': 1447, 'surprisingly': 4316, 'mask': 2752, 'fully': 1847, 'ignore': 2224, 'print': 3399, 'suspenseful': 4331, 'australian': 357, 'neat': 2982, 'britain': 588, 'hoped': 2156, 'noted': 3045, 'gentle': 1890, 'broke': 593, 'song': 4071, 'aspects': 322, 'credibility': 1047, 'included': 2262, 'donald': 1321, 'diana': 1237, 'favourite': 1673, 'downhill': 1336, 'recent': 3566, 'nyc': 3065, 'underlying': 4641, 'intelligence': 2313, 'cleverly': 842, 'parallel': 3185, 'central': 735, 'fond': 1776, 'warm': 4794, 'primarily': 3393, 'brooklyn': 595, 'neighborhood': 2993, 'measure': 2786, 'considerable': 950, 'understanding': 4645, 'core': 995, 'reminded': 3619, 'roman': 3731, 'polanski': 3321, 'suicide': 4283, 'victim': 4729, 'building': 615, 'noise': 3024, 'increasingly': 2268, 'carries': 699, 'dressing': 1359, 'fatal': 1664, 'window': 4894, 'bang': 393, 'disappoint': 1272, 'question': 3487, 'descent': 1193, 'resident': 3647, 'disturbing': 1300, 'ugly': 4625, 'chick': 786, 'affair': 135, 'complicated': 925, 'dealing': 1136, 'featuring': 1681, 'hardy': 2037, 'successful': 4266, 'judge': 2424, 'domestic': 1318, 'joan': 2404, 'committed': 905, 'holds': 2131, 'responsible': 3656, 'andy': 230, 'needless': 2989, 'standing': 4146, 'spring': 4134, 'mickey': 2831, 'parker': 3191, 'daughters': 1122, 'margaret': 2735, 'featured': 1679, 'aunt': 355, 'painted': 3174, 'trail': 4553, 'winds': 4895, 'gold': 1932, 'fields': 1705, 'chances': 748, 'return': 3665, 'luck': 2681, 'calling': 653, 'kane': 2442, 'vs': 4767, 'match': 2762, 'viewed': 4737, 'fire': 1734, 'yelling': 4980, 'tag': 4348, 'originally': 3131, 'dave': 1123, 'ring': 3698, 'chaos': 755, 'spot': 4131, 'jumped': 2430, 'blew': 505, 'minute': 2858, 'chain': 741, 'nail': 2957, 'battle': 414, 'albeit': 173, 'jimmy': 2403, 'crowd': 1067, 'blowing': 515, 'kennedy': 2454, 'ride': 3692, 'winner': 4897, 'feet': 1688, 'wouldve': 4959, 'brutal': 603, 'steel': 4173, 'chair': 742, 'shots': 3950, 'contest': 967, 'ear': 1397, 'king': 2479, 'charisma': 762, 'strength': 4219, 'mainly': 2708, 'succeed': 4262, 'throat': 4476, 'bomb': 531, 'technical': 4381, 'superbly': 4297, 'numerous': 3062, 'per': 3223, 'wishes': 4906, 'sister': 4001, 'anyways': 262, 'french': 1830, 'color': 877, 'pure': 3471, 'numbers': 3061, 'rare': 3523, 'topless': 4527, 'st': 4137, 'sinatra': 3989, 'dramatic': 1348, 'catches': 715, 'tension': 4404, 'hitchcock': 2123, 'colors': 879, 'drawn': 1351, 'hours': 2177, 'returning': 3667, 'handled': 2019, 'covers': 1024, 'desperation': 1210, 'trapped': 4564, 'painful': 3171, 'grew': 1972, 'books': 536, 'hat': 2045, 'mike': 2838, 'myers': 2952, 'unfunny': 4655, 'costume': 1005, 'toy': 4542, 'iron': 2354, 'giant': 1905, 'hollow': 2135, 'settings': 3901, 'faithful': 1634, 'stops': 4203, 'empty': 1465, 'willis': 4890, 'blank': 501, 'wrapped': 4964, 'critics': 1064, 'alike': 185, 'negative': 2991, 'award': 366, 'remain': 3609, 'controversial': 978, 'ten': 4399, 'state': 4160, 'claim': 828, 'sides': 3967, 'support': 4303, 'seventies': 3904, 'industry': 2280, 'careers': 687, 'area': 286, 'depicting': 1184, 'phone': 3255, 'calls': 654, 'versions': 4721, 'hand': 2015, 'passionate': 3206, 'flawed': 1750, 'judy': 2426, 'tough': 4537, 'vulnerable': 4768, 'streisand': 4218, 'emotional': 1459, 'connection': 946, 'dimensional': 1253, 'characterization': 759, 'displays': 1293, 'received': 3564, 'gary': 1873, 'minimal': 2855, 'amount': 219, 'massive': 2756, 'hitting': 2126, 'selling': 3873, 'composed': 926, 'lyrics': 2692, 'williams': 4888, 'gorgeous': 1942, 'contemporary': 965, 'holmes': 2139, 'solo': 4058, 'woman': 4921, 'thrilling': 4474, 'naturally': 2974, 'dated': 1119, 'reflect': 3584, 'finale': 1723, 'criticism': 1063, 'appearing': 277, 'digital': 1251, 'month': 2896, 'dozen': 1338, 'delight': 1167, 'helped': 2080, 'superb': 4296, 'trio': 4587, 'con': 928, 'technology': 4385, 'ie': 2221, 'tad': 4347, 'method': 2824, 'changes': 751, 'understandable': 4644, 'lucky': 2683, 'sneak': 4043, 'quest': 3486, 'catch': 714, 'england': 1482, 'magical': 2704, 'kingdom': 2480, 'spread': 4133, 'princess': 3397, 'bride': 577, 'claire': 831, 'naive': 2958, 'rated': 3527, 'michelle': 2830, 'stellar': 4174, 'forced': 1787, 'discuss': 1283, 'analysis': 224, 'lover': 2672, 'henry': 2084, 'southern': 4088, 'india': 2273, 'rule': 3753, 'legal': 2563, 'marriage': 2743, 'intimate': 2331, 'involvement': 2347, 'contact': 961, 'refuses': 3587, 'occur': 3076, 'visit': 4755, 'assistant': 326, 'masters': 2761, 'silent': 3975, 'honor': 2150, 'theatrical': 4430, 'directly': 1263, 'quickly': 3491, 'forbidden': 1785, 'personality': 3242, 'arrogant': 303, 'recognize': 3569, 'racist': 3503, 'willing': 4889, 'overlook': 3153, 'experienced': 1581, 'impressive': 2253, 'terrorist': 4413, 'mentioned': 2811, 'direct': 1258, 'timeless': 4496, '1930s': 11, 'acceptable': 81, 'unless': 4669, 'share': 3920, 'strictly': 4223, 'described': 1195, 'japan': 2381, 'friday': 1834, 'shortly': 3947, 'opened': 3113, 'amazed': 208, 'confusion': 943, 'pace': 3161, 'proceedings': 3410, 'sinister': 3998, 'contains': 964, 'props': 3439, 'blow': 514, 'heavy': 2070, 'kay': 2447, 'band': 391, 'offered': 3088, '1940s': 13, 'ii': 2226, 'hospital': 2172, 'doctors': 1305, 'quit': 3494, 'fish': 1738, 'blind': 506, 'annoyed': 248, 'listening': 2620, 'treat': 4572, '2nd': 41, 'degree': 1164, 'model': 2880, 'massacre': 2754, 'youve': 4995, 'loud': 2664, 'strip': 4228, 'grandmother': 1955, 'comedies': 889, 'commercials': 903, 'stone': 4197, 'borrowed': 545, 'present': 3374, 'sixties': 4011, 'summer': 4291, 'resort': 3650, 'spending': 4106, 'marty': 2749, 'excitement': 1562, 'evident': 1547, 'pearl': 3220, 'arrives': 302, 'finds': 1728, 'sexy': 3911, 'extra': 1606, 'soap': 4047, 'opera': 3116, 'festival': 1697, 'mom': 2885, 'grand': 1953, 'parties': 3196, 'happily': 2030, 'sons': 4073, 'daddy': 1096, 'knowing': 2490, 'lane': 2515, 'ears': 1402, 'unhappy': 4656, 'risk': 3704, 'access': 83, 'account': 89, 'threw': 4470, 'press': 3379, 'frustration': 1843, 'depressed': 1187, 'ward': 4793, 'insight': 2298, 'interview': 2329, 'hed': 2072, 'cheated': 775, 'hints': 2113, 'honestly': 2147, 'hide': 2097, 'took': 4523, 'confusing': 942, 'citizen': 824, 'flash': 1745, 'capture': 676, 'answer': 251, 'mysteries': 2954, 'gonna': 1936, 'presentation': 3375, 'pages': 3168, 'touches': 4535, 'sees': 3866, 'perspective': 3245, 'memories': 2803, 'innovative': 2295, 'fabulous': 1615, 'erotic': 1515, 'amateurish': 207, 'learned': 2551, 'stilted': 4190, 'skin': 4015, 'everybody': 1540, 'aids': 161, 'network': 3000, 'canadian': 667, 'seasons': 3844, 'jane': 2380, 'lucy': 2684, 'barbara': 397, 'canada': 666, 'lol': 2640, 'granted': 1957, 'wise': 4903, 'winter': 4900, 'liberal': 2588, 'accused': 91, 'racism': 3502, 'neighbor': 2992, 'par': 3184, 'base': 402, 'driving': 1368, 'pre': 3365, 'effect': 1428, 'hiding': 2099, 'bed': 436, 'vaguely': 4706, 'shower': 3957, 'nurse': 3063, 'murphy': 2944, 'lowest': 2678, 'bloody': 513, 'beach': 419, 'civil': 826, 'call': 651, 'north': 3036, 'clean': 838, 'mature': 2773, 'nature': 2975, 'juvenile': 2441, 'realism': 3549, 'deliver': 1169, 'superior': 4300, 'exist': 1569, 'situations': 4009, 'intriguing': 2335, 'sympathy': 4343, 'motivation': 2914, 'anti': 254, 'lie': 2590, 'succeeds': 4264, 'akshay': 169, 'expectations': 1576, 'general': 1880, 'carry': 700, 'beats': 426, 'extended': 1604, 'considered': 951, 'requires': 3642, 'monkey': 2890, 'dances': 1106, 'entertain': 1497, 'dancing': 1107, '24': 39, 'irritating': 2359, 'large': 2517, 'ordinary': 3128, 'clips': 852, 'mere': 2814, 'kapoor': 2443, 'impress': 2250, 'added': 116, 'climax': 849, 'tense': 4403, 'breaking': 570, 'gag': 1861, 'mill': 2845, 'stale': 4141, 'appealing': 272, 'constant': 957, 'doubts': 1333, 'irish': 2353, 'fell': 1690, 'dirty': 1268, 'decision': 1151, 'task': 4368, 'circle': 821, 'quote': 3496, 'dinner': 1254, 'ruined': 3751, 'string': 4227, 'subject': 4253, 'arms': 294, 'ought': 3138, 'wedding': 4836, 'boat': 523, 'dropping': 1371, 'ocean': 3079, 'childish': 791, 'market': 2740, 'footage': 1782, 'remarkable': 3613, 'river': 3707, 'wooden': 4934, 'anybody': 257, 'regard': 3588, 'glorious': 1921, 'ambitious': 211, 'derek': 1192, 'jobs': 2406, 'ham': 2011, 'hamlet': 2013, 'stunt': 4245, 'lemmon': 2567, 'distracting': 1297, 'runs': 3757, 'throwing': 4480, 'literature': 2623, 'stage': 4139, 'fury': 1855, 'brilliance': 582, 'themes': 4434, 'players': 3299, 'text': 4419, 'productions': 3420, 'art': 304, 'practice': 3363, 'filming': 1718, 'chooses': 800, 'survived': 4322, 'chases': 771, 'explosions': 1597, 'catching': 716, 'furthermore': 1854, 'church': 813, 'christ': 807, 'latter': 2528, 'attend': 344, 'families': 1644, 'evening': 1534, 'historical': 2119, 'village': 4743, 'center': 732, 'intrigued': 2334, 'motion': 2913, 'deeply': 1156, 'testament': 4417, 'joseph': 2419, 'murdered': 2940, 'butler': 637, 'newspaper': 3006, 'cares': 690, 'result': 3660, 'began': 441, 'junior': 2435, 'riveting': 3708, 'amazingly': 210, 'oscar': 3133, 'creating': 1039, 'grow': 1982, 'freeman': 1829, 'projects': 3428, 'fifteen': 1706, 'necessarily': 2983, 'advantage': 129, 'morgan': 2905, 'commit': 904, 'research': 3644, 'indie': 2276, 'drop': 1369, 'rough': 3741, 'road': 3709, 'provides': 3450, 'disneys': 1290, 'masterpieces': 2760, 'sequences': 3888, 'mary': 2751, 'places': 3284, 'imaginative': 2237, 'astaire': 330, 'rogers': 3725, 'lacks': 2505, 'tunes': 4603, 'ginger': 1908, 'sheer': 3925, 'musicals': 2948, 'involve': 2345, 'albert': 174, 'brooks': 596, 'shirt': 3937, 'ball': 388, 'handle': 2018, 'attracted': 349, 'styles': 4250, 'pleasant': 3302, 'sight': 3969, 'normal': 3033, 'shocking': 3940, 'naked': 2959, 'grey': 1973, 'jackie': 2374, 'cousin': 1021, 'mansion': 2731, 'east': 1407, 'edie': 1419, 'dry': 1377, '13': 4, 'promising': 3433, 'radio': 3504, 'material': 2766, 'pants': 3182, 'rich': 3685, 'pro': 3406, 'delivering': 1171, 'matthau': 2771, 'sole': 4055, 'crafted': 1029, 'buddies': 608, 'relief': 3605, 'steal': 4170, 'unexpected': 4650, 'accident': 84, 'eight': 1436, 'rocky': 3723, 'rescue': 3643, 'receive': 3563, 'eric': 1514, 'dollars': 1315, 'walker': 4778, 'pilot': 3276, 'trap': 4563, 'deadly': 1133, 'seek': 3858, 'kidnapped': 2466, 'bitter': 491, 'heights': 2073, 'survival': 4320, 'humour': 2194, 'terrific': 4409, 'sharp': 3922, 'transfer': 4559, 'crew': 1053, 'france': 1816, 'alex': 179, 'nominated': 3025, 'catholic': 720, 'gerard': 1895, 'homosexual': 2145, 'alcoholic': 177, 'frequent': 1831, 'attraction': 350, 'handsome': 2021, 'wealthy': 4827, 'widow': 4883, 'hoffman': 2128, 'suggests': 4282, 'intention': 2319, 'travels': 4569, 'tragic': 4552, 'believes': 456, 'dutch': 1389, 'associated': 327, 'dialogs': 1233, 'disturbed': 1299, 'viewers': 4739, 'seeking': 3859, 'gay': 1876, 'centered': 733, 'speak': 4094, 'wes': 4851, 'craven': 1034, 'stereotypes': 4179, 'virus': 4752, 'davis': 1126, 'wayne': 4821, 'physical': 3262, 'quiet': 3492, 'minded': 2850, 'patient': 3211, 'thoughtful': 4463, 'depiction': 1185, 'initial': 2290, 'dislike': 1288, 'reflection': 3585, 'greater': 1965, 'nations': 2971, 'harris': 2038, 'striking': 4226, 'force': 1786, 'likewise': 2603, 'delightful': 1168, 'interaction': 2322, 'depicted': 1183, 'occurred': 3077, 'skill': 4013, 'subtlety': 4261, 'rising': 3703, 'newly': 3004, 'nation': 2969, 'ships': 3935, 'ancient': 225, 'aware': 368, 'merits': 2817, 'thoroughly': 4459, 'reminiscent': 3621, 'eating': 1413, 'zombie': 4997, 'resulting': 3661, 'compelled': 915, 'letters': 2582, 'hammer': 2014, 'victims': 4730, 'sign': 3970, 'lit': 2621, 'walks': 4780, 'directorial': 1265, 'frequently': 1832, 'lately': 2524, 'polished': 3323, 'continuity': 972, 'filmmakers': 1720, 'meeting': 2794, 'topic': 4526, 'powers': 3361, 'dubbed': 1379, 'workers': 4943, 'hire': 2116, 'miserably': 2864, 'temple': 4398, 'performing': 3233, 'learning': 2552, 'skills': 4014, 'daniel': 1111, 'routine': 3743, 'household': 2179, 'et': 1526, 'tricks': 4583, 'chest': 784, 'happiness': 2031, 'corruption': 1002, 'eddie': 1416, 'chaplin': 756, 'partly': 3197, 'talented': 4355, 'compelling': 916, 'davies': 1125, 'certain': 737, 'consistently': 954, 'thomas': 4458, 'repetitive': 3633, 'tiresome': 4502, 'strangely': 4212, 'connected': 945, 'artificial': 306, 'fascinating': 1658, 'thru': 4483, 'slap': 4018, 'spite': 4117, 'fellow': 1691, 'extreme': 1609, 'meanwhile': 2785, 'worlds': 4947, 'obnoxious': 3067, 'sheriff': 3929, 'suspects': 4328, 'doc': 1303, 'edge': 1418, 'unsettling': 4679, 'dennis': 1179, 'scenario': 3808, 'jennifer': 2392, 'wrap': 4963, 'affect': 136, 'hasnt': 2044, 'roy': 3745, 'boom': 537, 'silver': 3977, 'carol': 693, 'loses': 2657, 'purple': 3473, 'sing': 3992, 'laurel': 2537, 'domino': 1319, 'attitude': 346, 'guns': 1998, 'rain': 3506, 'lovely': 2671, 'shoots': 3944, 'christopher': 811, 'walken': 4777, 'load': 2631, 'breath': 573, 'answers': 252, 'portrays': 3344, 'driver': 1366, 'bunch': 623, 'miserable': 2863, 'dozens': 1339, 'easier': 1405, 'psychiatrist': 3455, 'bullet': 620, 'creators': 1044, 'deserves': 1201, 'caliber': 649, '1984': 23, 'pops': 3332, 'lips': 2615, 'holding': 2130, 'surface': 4310, 'executed': 1565, 'efforts': 1433, 'flat': 1748, 'refreshing': 3586, 'ups': 4686, 'jumping': 2431, 'melting': 2799, 'glover': 1923, 'tear': 4379, 'mistakes': 2873, 'garbage': 1870, 'mentioning': 2812, 'insult': 2309, 'jason': 2383, 'iii': 2227, 'versus': 4722, 'worthwhile': 4955, 'knowledge': 2491, 'surely': 4309, 'provided': 3449, 'captivating': 675, 'challenging': 744, 'maker': 2714, 'principal': 3398, 'punishment': 3467, 'activities': 102, 'blown': 516, 'afterwards': 145, 'aspect': 321, 'comedic': 888, 'value': 4709, 'unable': 4631, 'gags': 1862, 'constantly': 958, 'hurts': 2203, 'caught': 722, 'immediately': 2242, 'cared': 685, 'trust': 4598, 'hank': 2024, 'defend': 1158, 'rat': 3525, 'investigation': 2343, 'alice': 182, 'frankly': 1823, 'slick': 4026, 'advertising': 132, 'ashamed': 312, 'moore': 2901, 'don': 1320, 'simpson': 3987, 'enthusiasm': 1501, 'fake': 1635, 'scientists': 3819, 'false': 1641, 'explanation': 1590, 'creatures': 1046, 'lies': 2591, 'demon': 1177, 'interviews': 2330, 'therefore': 4439, 'elaborate': 1439, 'reached': 3537, 'franchise': 1817, 'returns': 3668, 'reasonable': 3558, 'cartoon': 704, 'treated': 4573, 'plane': 3288, 'ground': 1979, 'cartoons': 705, 'threatening': 4468, 'sitting': 4007, 'believing': 457, 'pair': 3176, 'unintentional': 4658, 'deaths': 1142, 'arnold': 296, 'johnny': 2410, 'notion': 3050, 'burt': 629, 'reynolds': 3684, 'wonderfully': 4929, 'dog': 1310, 'downright': 1337, 'twice': 4613, 'charlie': 765, 'anne': 246, 'marie': 2737, 'describes': 1196, 'somebody': 4062, 'fisher': 1739, 'fooled': 1780, 'alcohol': 176, 'growing': 1983, 'vampire': 4711, 'figured': 1712, 'lesser': 2576, 'extent': 1605, 'evidence': 1546, 'witness': 4914, 'rush': 3759, 'nightmares': 3015, 'imagination': 2236, 'headed': 2058, 'plots': 3310, 'fights': 1710, 'fortunately': 1805, 'purchased': 3470, 'bargain': 400, 'chase': 769, 'hunting': 2201, 'worthless': 4954, 'someones': 4065, 'pile': 3275, 'costs': 1004, 'bath': 411, 'hint': 2112, 'steve': 4181, 'hates': 2048, 'closet': 858, 'whenever': 4863, 'lying': 2690, 'acts': 107, 'affected': 137, 'neck': 2985, 'talks': 4361, 'vengeance': 4719, 'picks': 3268, 'touch': 4533, 'aka': 168, 'thief': 4448, 'waitress': 4773, 'hood': 2151, 'achieve': 92, 'redemption': 3578, 'sacrifice': 3766, 'ego': 1435, 'pushed': 3478, 'feelings': 1686, 'jean': 2389, 'edited': 1420, 'mixed': 2877, 'ended': 1470, 'females': 1694, 'theyd': 4443, 'fascinated': 1657, 'prepared': 3371, 'whom': 4875, 'satisfied': 3789, 'appearances': 275, 'encounter': 1466, 'patrick': 3213, 'tales': 4357, 'political': 3324, 'bank': 394, 'surrounding': 4319, 'teenage': 4389, 'magazine': 2701, 'editor': 1423, 'issue': 2364, 'similarly': 3980, 'edition': 1422, 'politics': 3326, 'hip': 2114, 'engage': 1479, 'contrary': 974, 'concern': 931, 'closest': 857, 'prevent': 3385, 'duty': 1390, 'pregnant': 3369, 'border': 539, 'sky': 4017, 'prisoners': 3403, 'nazi': 2977, 'visible': 4753, 'statement': 4162, 'awkward': 374, 'involving': 2349, 'spy': 4135, 'jeremy': 2394, 'plans': 3292, 'importantly': 2248, 'sucked': 4270, 'brilliantly': 584, 'frightening': 1839, 'transformation': 4560, 'mouse': 2919, 'likable': 2598, 'detective': 1220, 'weird': 4841, 'round': 3742, 'promise': 3430, 'differences': 1247, 'ourselves': 3140, 'wake': 4774, 'sword': 4340, 'instantly': 2306, 'officers': 3093, '2000': 30, 'performs': 3234, 'chess': 783, 'everyday': 1541, 'multiple': 2936, 'warned': 4798, 'pointless': 3318, 'gratuitous': 1961, 'opens': 3115, 'lights': 2597, 'pleased': 3305, 'product': 3418, 'dad': 1095, 'attack': 337, 'detail': 1217, 'assume': 328, 'sun': 4292, 'attacked': 338, 'bugs': 613, 'mentions': 2813, 'truck': 4595, 'screams': 3828, 'counter': 1011, 'sum': 4289, 'theyll': 4444, 'thoughts': 4464, 'midnight': 2834, 'silence': 3974, 'semi': 3874, 'ripped': 3701, 'homeless': 2143, 'scared': 3805, 'dear': 1140, 'zone': 4999, 'pal': 3177, 'jay': 2386, 'angle': 236, 'national': 2970, 'matthew': 2772, '3rd': 47, 'nicely': 3009, 'virgin': 4749, 'americans': 214, 'extras': 1608, 'wear': 4830, 'troubled': 4593, 'fashion': 1659, 'haunted': 2050, 'priest': 3392, 'carradine': 695, 'devils': 1229, 'arthur': 305, 'fathers': 1667, 'corpse': 999, 'possessed': 3347, 'guard': 1988, 'manage': 2722, 'methods': 2825, 'invasion': 2340, 'revelation': 3674, 'occasional': 3074, 'rushed': 3760, 'flesh': 1753, 'conspiracy': 956, 'theory': 4437, 'incoherent': 2265, 'pacing': 3163, 'successfully': 4267, 'fitting': 1742, 'sitcom': 4004, 'mini': 2854, 'remind': 3618, 'belong': 459, 'panic': 3181, 'christians': 809, 'christian': 808, 'trilogy': 4586, 'blunt': 520, 'greatly': 1967, 'victoria': 4732, 'dragged': 1343, 'undoubtedly': 4648, 'burning': 627, 'union': 4661, 'demands': 1175, 'wears': 4832, 'lacked': 2503, 'tame': 4363, 'draw': 1349, 'sounding': 4083, 'pride': 3391, 'awe': 370, 'nevertheless': 3002, 'government': 1948, 'prince': 3396, 'enjoyment': 1488, 'attitudes': 347, 'represent': 3637, 'media': 2789, 'personally': 3243, 'woody': 4936, 'allen': 188, 'september': 3884, 'ranks': 3519, 'pit': 3278, 'sleep': 4024, 'devoted': 1231, 'avoided': 364, 'distribution': 1298, 'dignity': 1252, 'meat': 2787, 'public': 3460, 'crimes': 1056, 'hence': 2083, 'fetched': 1698, 'twisted': 4618, 'excessive': 1560, 'thrillers': 4473, 'cops': 993, 'letting': 2583, 'bullets': 621, 'shooting': 3943, 'walls': 4783, 'wasting': 4810, 'prize': 3405, 'types': 4622, 'kevin': 2457, 'justin': 2440, 'nonsense': 3030, 'bright': 581, 'fictional': 1703, 'unit': 4663, 'swear': 4334, 'foul': 1810, 'blah': 496, 'uninspired': 4657, 'carrey': 696, 'flop': 1760, 'smaller': 4034, 'diamond': 1236, 'tracy': 4546, 'plant': 3293, 'sorts': 4078, 'funnier': 1850, 'cgi': 740, 'masterful': 2758, 'existed': 1570, 'charlotte': 766, 'urge': 4689, 'eyre': 1614, 'intensity': 2317, 'emotion': 1458, 'dalton': 1098, 'timing': 4498, 'neil': 2995, 'simon': 3982, 'unusual': 4681, 'stretch': 4221, 'familys': 1646, 'send': 3875, 'drivel': 1364, 'stood': 4199, 'search': 3841, 'parody': 3192, 'officer': 3092, 'metal': 2823, 'damon': 1101, 'angela': 232, 'killings': 2473, 'abandoned': 62, 'cabin': 643, 'molly': 2884, 'chased': 770, 'helps': 2082, 'cary': 706, 'odds': 3082, 'ice': 2210, 'explored': 1595, 'ad': 110, 'bedroom': 437, 'photo': 3257, 'realizes': 3554, 'cole': 873, 'favor': 1670, 'rise': 3702, 'imagined': 2239, 'flawless': 1751, 'delivery': 1173, 'smoking': 4040, 'harry': 2039, 'louise': 2666, '2004': 34, 'tour': 4538, 'trailers': 4555, 'skip': 4016, 'travesty': 4570, 'barely': 399, 'funeral': 1849, 'grace': 1950, 'conservative': 948, 'classes': 834, 'hideous': 2098, 'russell': 3761, 'keaton': 2448, 'cagney': 646, 'charm': 767, 'spoof': 4127, 'gangster': 1868, 'pet': 3246, 'kelly': 2452, 'greatest': 1966, 'warning': 4800, 'educational': 1425, 'conversation': 980, 'bone': 533, 'seconds': 3848, 'rolling': 3730, 'subtle': 4260, 'viewings': 4741, 'haunting': 2051, 'alas': 172, 'overdone': 3152, 'shock': 3938, '2001': 31, 'contrived': 976, 'spirited': 4114, 'storm': 4206, 'jealous': 2388, 'marry': 2745, 'trick': 4582, 'cheating': 776, 'spends': 4107, 'broken': 594, 'asked': 317, 'huh': 2187, 'shell': 3927, 'smoke': 4039, 'lesbian': 2573, 'reactions': 3542, 'unaware': 4632, 'terror': 4412, 'grab': 1949, 'attempted': 341, 'vacation': 4704, 'adam': 111, 'sandler': 3781, 'guessed': 1990, 'marketing': 2741, 'visuals': 4759, 'illogical': 2231, 'territory': 4411, 'realise': 3548, 'audio': 354, 'embarrassment': 1455, 'block': 508, 'purchase': 3469, 'china': 795, 'backdrop': 379, 'conflicts': 940, 'smiling': 4037, 'warmth': 4796, 'expression': 1602, 'trashy': 4566, 'finest': 1730, 'discussion': 1284, 'proper': 3436, 'simmons': 3981, 'dangerous': 1110, 'uncle': 4636, 'barry': 401, 'condition': 937, 'reed': 3580, 'darker': 1116, 'frame': 1815, 'fired': 1735, 'service': 3896, 'countryside': 1015, 'closing': 859, 'greedy': 1969, 'persona': 3239, 'feed': 1683, 'piano': 3264, 'rob': 3710, 'notorious': 3051, 'revolves': 3682, 'reviewer': 3677, 'forth': 1804, 'bet': 470, 'carpenter': 694, 'genres': 1889, 'vampires': 4712, 'lee': 2559, 'jon': 2416, 'producing': 3417, 'offended': 3085, 'blame': 499, 'royal': 3746, 'rick': 3689, 'report': 3635, 'gotta': 1946, 'screening': 3830, 'pull': 3461, 'endure': 1475, 'writes': 4970, 'junk': 2436, 'travel': 4567, 'wells': 4845, 'possibilities': 3348, 'caine': 647, 'experiments': 1584, 'possibility': 3349, 'achieved': 93, 'results': 3662, 'maintain': 2710, 'struggle': 4234, 'solution': 4059, 'danger': 1109, 'provoking': 3452, 'storytelling': 4209, 'thus': 4486, 'mindless': 2851, 'meaning': 2780, 'sink': 3999, 'serves': 3895, 'purposes': 3475, 'abilities': 64, 'served': 3894, 'closely': 855, 'linda': 2609, 'experiment': 1583, 'offers': 3090, 'challenge': 743, 'kim': 2475, 'sarah': 3785, 'includes': 2263, 'carter': 703, 'joey': 2408, 'itll': 2369, 'ignorant': 2223, 'sadness': 3770, 'passion': 3205, 'sport': 4129, 'synopsis': 4344, 'depression': 1189, 'subjects': 4254, 'african': 142, 'technique': 4383, 'resist': 3648, 'goofy': 1939, 'species': 4098, 'universe': 4666, 'leader': 2546, 'segments': 3868, 'afford': 138, 'opportunity': 3121, 'scale': 3802, 'chorus': 803, 'repeatedly': 3632, 'hop': 2154, 'weeks': 4839, 'demented': 1176, 'established': 1524, 'critical': 1062, 'separate': 3883, 'lay': 2542, 'fears': 1677, 'reaches': 3538, 'medium': 2792, 'actions': 101, 'obsession': 3070, 'clothing': 861, 'glory': 1922, 'program': 3424, 'jenny': 2393, 'harvey': 2042, 'patients': 3212, 'instant': 2305, 'rex': 3683, 'illegal': 2229, 'colour': 880, 'beliefs': 452, 'opinions': 3119, 'tiny': 4500, 'terrifying': 4410, 'knife': 2487, 'guilty': 1995, 'pg': 3250, 'ellen': 1446, 'opposed': 3122, 'curse': 1086, 'tedious': 4387, 'demons': 1178, 'bland': 500, 'suspect': 4327, 'hearted': 2065, 'accents': 79, 'bore': 540, 'zombies': 4998, 'cube': 1076, 'paranoia': 3186, 'zero': 4996, 'ties': 4490, 'tiger': 4491, 'lily': 2605, 'lou': 2663, 'edward': 1426, 'outer': 3143, 'companion': 909, 'nostalgic': 3039, 'corner': 996, 'cliche': 843, 'florida': 1761, 'accidentally': 85, 'homer': 2144, 'rocket': 3721, 'focused': 1767, 'jake': 2377, 'todd': 4510, 'paying': 3217, 'unbearable': 4633, 'staring': 4152, 'fancy': 1649, 'table': 4346, 'tired': 4501, 'disney': 1289, 'earned': 1401, 'kiss': 2483, 'picked': 3266, 'ironic': 2355, 'lion': 2614, 'li': 2587, 'mainstream': 2709, 'presence': 3373, 'army': 295, 'survivors': 4325, 'saved': 3795, 'dubbing': 1380, 'bush': 632, 'korean': 2495, 'hills': 2109, 'minimum': 2856, 'videos': 4734, 'anthony': 253, 'slave': 4022, 'failure': 1629, 'proof': 3434, 'aint': 163, '2005': 35, 'dreary': 1356, 'embarrassing': 1454, 'raised': 3508, 'cards': 683, 'humble': 2191, 'recognition': 3568, 'sid': 3964, 'aging': 153, 'ironically': 2356, 'ian': 2209, 'jumps': 2432, 'climactic': 848, 'drags': 1345, 'hugh': 2186, 'lengthy': 2570, 'structure': 4233, 'addition': 118, 'hall': 2009, 'post': 3352, 'university': 4667, 'greek': 1970, 'cruise': 1071, 'mighty': 2836, 'scripts': 3836, 'nomination': 3026, 'thankfully': 4422, 'treasure': 4571, 'welcome': 4842, 'senseless': 3878, 'anime': 243, '1st': 28, 'cg': 739, 'graphics': 1959, 'singers': 3994, 'titanic': 4503, 'serving': 3897, 'bo': 521, 'max': 2774, 'occurs': 3078, 'rights': 3697, 'rank': 3518, 'angles': 237, 'montage': 2894, 'mrs': 2930, 'fortune': 1806, 'expensive': 1579, 'preview': 3386, 'kidding': 2465, 'generation': 1883, 'narrative': 2966, 'disgusting': 1286, 'minds': 2852, 'nicholas': 3010, 'georges': 1894, 'agrees': 157, 'sub': 4252, 'despair': 1207, 'andrew': 228, 'gripping': 1976, 'hal': 2006, 'ultra': 4629, 'context': 968, 'fay': 1674, 'grim': 1974, 'difference': 1246, 'inducing': 2279, 'oddly': 3081, 'titled': 4505, 'motives': 2916, 'suffer': 4275, 'appreciated': 280, 'reaching': 3539, 'repeat': 3630, 'burned': 626, 'folks': 1771, 'tight': 4492, 'flight': 1757, 'crack': 1027, 'confused': 941, 'pan': 3180, 'sleeping': 4025, 'babe': 375, 'pig': 3274, 'exceptionally': 1559, 'rocks': 3722, 'burton': 630, 'conceived': 929, 'presumably': 3380, 'dogs': 1311, 'bands': 392, 'majority': 2712, 'represented': 3638, 'texas': 4418, 'hopper': 2161, 'ken': 2453, 'crash': 1033, 'strangers': 4214, 'worker': 4942, 'holly': 2136, 'abusive': 75, 'beaten': 424, 'stolen': 4195, 'calm': 655, 'required': 3641, 'capturing': 679, 'reveal': 3670, 'triumph': 4590, 'via': 4726, 'icon': 2211, 'karen': 2444, 'blacks': 494, 'witnessed': 4915, 'warren': 4801, 'errors': 1516, 'contain': 962, 'tons': 4520, 'facts': 1624, 'struggles': 4235, 'journalist': 2420, 'hatred': 2049, 'superficial': 4298, 'aforementioned': 139, 'sequels': 3886, 'suits': 4287, 'jerk': 2395, 'coffee': 870, 'dare': 1113, 'pacino': 3164, 'quirky': 3493, 'dreadful': 1353, 'mitchell': 2875, 'sloppy': 4030, 'pink': 3277, 'hopefully': 2157, 'luke': 2687, 'navy': 2976, 'washington': 4806, 'confidence': 938, 'revealing': 3672, 'sensitive': 3879, 'abuse': 74, 'amitabh': 216, 'cameron': 661, 'vision': 4754, 'hung': 2197, 'warriors': 4803, 'eastern': 1408, 'grows': 1985, 'deeper': 1155, '14': 6, 'heavily': 2069, 'advance': 127, 'enormous': 1490, 'ages': 152, 'shorts': 3948, 'succeeded': 4263, 'wrestling': 4966, 'distance': 1294, 'destiny': 1212, 'der': 1191, 'unintentionally': 4659, '16': 8, 'prisoner': 3402, 'yesterday': 4983, 'luckily': 2682, 'exploitation': 1592, 'unreal': 4676, 'torture': 4529, 'usa': 4691, 'official': 3094, 'miike': 2837, 'lord': 2652, 'handed': 2016, 'chosen': 805, 'struggling': 4236, 'jamie': 2379, 'cheesy': 781, 'retarded': 3663, 'plastic': 3294, 'grandfather': 1954, 'satisfy': 3790, 'kissing': 2484, 'bucks': 606, 'garbo': 1871, 'overrated': 3156, 'creature': 1045, 'opposite': 3123, 'ruthless': 3764, 'defeat': 1157, 'lewis': 2586, 'stranger': 4213, 'perry': 3237, 'dick': 1239, 'blake': 498, 'wilson': 4891, 'stewart': 4184, 'charles': 764, 'nancy': 2964, 'mexico': 2827, 'existent': 1572, 'seeks': 3860, 'twilight': 4614, 'eerie': 1427, 'relevant': 3604, 'solely': 4056, 'peace': 3219, 'dynamic': 1394, 'personalities': 3241, 'choreography': 802, 'whereas': 4865, 'dancers': 1105, 'petty': 3249, 'professor': 3422, 'masses': 2755, 'claimed': 829, 'mummy': 2937, 'valley': 4707, 'kings': 2481, 'dig': 1250, 'desert': 1198, 'ha': 2002, 'roberts': 3714, 'tracks': 4545, 'trek': 4578, 'civilization': 827, 'command': 897, 'incompetent': 2266, 'stole': 4194, 'exotic': 1574, 'phony': 3256, 'proceeds': 3411, 'hook': 2152, 'overcome': 3151, 'format': 1799, 'hooked': 2153, 'cup': 1080, 'tea': 4373, 'brady': 561, 'recognized': 3570, 'lone': 2642, 'fix': 1744, 'delivered': 1170, 'robbery': 3711, 'trite': 4589, 'shelf': 3926, 'steps': 4177, 'fair': 1630, 'generic': 1885, 'eve': 1532, 'commercial': 902, 'jaw': 2384, 'similarities': 3979, 'shine': 3931, 'techniques': 4384, 'arrived': 301, 'faith': 1633, 'spain': 4091, 'mothers': 2912, 'paris': 3189, 'wished': 4905, 'sisters': 4002, 'ruby': 3749, 'amy': 222, 'hill': 2108, 'reporter': 3636, 'fashioned': 1660, 'gruesome': 1986, 'tied': 4489, 'inspector': 2299, 'museum': 2945, 'disaster': 1276, 'exploration': 1593, 'belief': 451, 'convey': 982, 'traditional': 4550, 'relation': 3595, 'loyal': 2679, 'buried': 624, 'freak': 1824, 'europe': 1529, 'shining': 3933, 'spin': 4112, 'nowadays': 3055, 'internet': 2327, 'shy': 3962, 'met': 2822, 'birthday': 487, 'detailed': 1218, 'speaks': 4096, 'shake': 3914, 'admire': 121, 'wild': 4885, 'halfway': 2008, 'dialogues': 1235, 'scarecrow': 3804, 'stiff': 4187, 'upper': 4685, 'trees': 4577, 'react': 3540, 'stronger': 4230, 'rolled': 3729, '3d': 46, 'backgrounds': 381, 'ritter': 3705, 'stinker': 4191, 'simplicity': 3984, 'builds': 617, 'unknown': 4668, '13th': 5, 'overacting': 3149, 'melodramatic': 2798, 'stretched': 4222, 'disease': 1285, 'moody': 2899, 'heat': 2067, 'exact': 1550, 'glenn': 1918, 'ford': 1789, 'cheese': 780, 'creativity': 1042, 'listen': 2619, 'hang': 2022, 'ann': 244, 'promises': 3432, 'overwhelming': 3157, 'ruin': 3750, 'mann': 2728, 'dan': 1102, 'shelley': 3928, 'curtis': 1087, 'raise': 3507, 'saga': 3773, 'absence': 70, 'carrie': 697, 'closed': 854, 'finger': 1731, 'wacky': 4769, 'paint': 3173, 'reel': 3581, 'swim': 4337, 'sunday': 4293, 'eaten': 1412, 'mario': 2738, 'bettie': 473, 'depicts': 1186, 'visits': 4756, '2007': 37, 'pokemon': 3320, 'pleasantly': 3303, 'stanwyck': 4149, 'stooges': 4200, 'groups': 1981, 'larry': 2520, 'horses': 2171, 'exercise': 1568, 'porn': 3336, 'relative': 3599, 'cage': 645, 'boot': 538, 'terry': 4415, 'philosophical': 3253, 'spiritual': 4116, 'concerning': 933, 'blues': 519, 'endearing': 1469, 'resemblance': 3645, 'starred': 4153, 'contract': 973, 'ralph': 3510, 'soldier': 4053, 'messages': 2820, 'mail': 2706, 'dinosaurs': 1256, 'hype': 2207, 'ghosts': 1903, 'shadows': 3913, 'specific': 4099, 'attacks': 339, 'signs': 3973, 'mile': 2842, 'noble': 3021, 'upset': 4687, 'nights': 3016, 'soviet': 4089, 'dedicated': 1153, '1933': 12, 'nazis': 2978, 'accompanied': 86, 'olivier': 3103, 'remaining': 3610, 'wet': 4855, 'frustrated': 1842, 'devoid': 1230, 'timothy': 4499, 'site': 4005, 'drew': 1360, 'fed': 1682, 'alert': 178, 'stones': 4198, 'cities': 823, 'waves': 4819, 'scientific': 3817, 'revealed': 3671, 'lake': 2509, 'recorded': 3574, 'shed': 3924, 'fever': 1699, 'drugs': 1374, 'teens': 4392, 'maria': 2736, 'jail': 2376, 'emotionally': 1460, 'unfolds': 4651, 'warming': 4795, 'online': 3109, 'epic': 1506, 'desperately': 1209, 'host': 2173, 'homage': 2141, 'monkeys': 2891, 'airport': 167, '1996': 26, 'suited': 4286, 'sellers': 3872, 'shines': 3932, 'van': 4713, 'ho': 2127, '1960s': 15, 'surfing': 4311, 'primary': 3394, 'scope': 3821, 'endings': 1472, 'streep': 4215, 'gifted': 1907, 'tends': 4402, 'subplots': 4256, 'seagal': 3839, 'dub': 1378, 'buck': 605, 'basketball': 409, 'till': 4493, 'balls': 390, 'accept': 80, 'precious': 3366, 'lynch': 2691, 'matrix': 2767, 'split': 4120, 'sexuality': 3909, 'birds': 485, 'waters': 4817, 'buffs': 612, 'regarding': 3589, 'ron': 3734, 'moronic': 2907, 'generous': 1886, 'kitchen': 2485, 'vincent': 4746, 'promised': 3431, 'website': 4834, 'heroic': 2090, 'april': 284, 'engaging': 1481, 'cure': 1081, 'ensues': 1493, 'definition': 1163, 'jeffrey': 2391, 'authority': 360, 'artists': 309, 'gabriel': 1859, 'beast': 422, 'views': 4742, 'centers': 734, 'holy': 2140, 'letter': 2581, 'installment': 2303, 'franco': 1820, 'briefly': 580, 'firstly': 1737, 'currently': 1085, 'status': 4165, 'cd': 728, 'drops': 1372, 'guessing': 1991, 'ya': 4976, 'sold': 4052, 'pretending': 3382, 'kicked': 2461, 'models': 2881, 'tarzan': 4367, 'ape': 266, 'savage': 3793, 'edgar': 1417, 'realizing': 3555, 'freedom': 1828, 'breasts': 572, 'jungle': 2434, 'busy': 635, 'hamilton': 2012, 'pursuit': 3476, 'hunters': 2200, 'hilariously': 2107, 'tender': 4401, 'whatsoever': 4861, 'regardless': 3590, 'portion': 3338, 'laughably': 2531, 'twin': 4615, 'mistress': 2874, 'fbi': 1675, 'agents': 151, 'assigned': 325, 'south': 4087, 'removed': 3624, 'lawrence': 2539, 'bare': 398, 'plague': 3285, 'wallace': 4782, 'airplane': 166, 'restaurant': 3658, 'kirk': 2482, 'cake': 648, 'conversations': 981, 'mass': 2753, '1999': 27, 'nuts': 3064, 'directs': 1267, 'broadcast': 591, 'equal': 1509, 'picking': 3267, 'remarks': 3615, 'titles': 4506, 'suspicious': 4332, 'gradually': 1952, 'deceased': 1146, 'alternate': 200, 'selfish': 3870, 'orson': 3132, 'welles': 4844, 'innocence': 2293, 'tremendous': 4579, 'voiced': 4762, 'album': 175, 'weve': 4856, 'shall': 3916, 'bridge': 578, 'inferior': 2285, 'gain': 1863, 'immensely': 2243, 'achievement': 94, 'historically': 2120, 'faults': 1669, 'dolls': 1316, 'serve': 3893, 'philip': 3252, 'uncomfortable': 4637, 'imitation': 2241, 'embarrassed': 1453, 'boxing': 556, 'receives': 3565, '2002': 32, 'dollar': 1314, 'ramones': 3512, 'schools': 3814, 'clumsy': 866, 'san': 3780, 'francisco': 1819, 'unpleasant': 4674, 'berlin': 467, 'thugs': 4484, 'quotes': 3497, 'meaningless': 2782, 'twins': 4616, 'square': 4136, 'ethan': 1528, 'brando': 566, 'sutherland': 4333, 'robin': 3715, 'suspend': 4329, 'attempting': 342, 'beer': 439, 'catchy': 717, 'hong': 2149, 'kong': 2494, 'transition': 4561, 'divorce': 1301, 'sam': 3777, 'colonel': 876, 'poem': 3312, 'bus': 631, 'deals': 1137, 'traveling': 4568, '1990': 24, 'wicked': 4879, 'jackson': 2375, 'classical': 836, 'spoke': 4125, 'glimpse': 1919, 'cringe': 1059, 'mafia': 2700, 'godfather': 1927, 'destroying': 1215, 'poverty': 3357, 'infamous': 2284, 'wwii': 4975, 'bud': 607, 'formulaic': 1803, 'nelson': 2997, 'jesse': 2397, 'guest': 1992, 'sue': 4274, 'outrageous': 3145, 'giallo': 1904, 'monk': 2889, 'alfred': 181, 'trademark': 4548, 'cowboy': 1025, 'teachers': 4376, 'mildly': 2840, 'macy': 2695, 'hopeless': 2158, 'clip': 851, 'segment': 3867, 'incomprehensible': 2267, '1968': 16, 'laura': 2536, 'del': 1165, 'toys': 4543, 'duo': 1386, 'enterprise': 1495, 'courage': 1018, 'unwatchable': 4682, 'eastwood': 1409, 'overlooked': 3154, 'protagonists': 3442, 'voight': 4764, 'beatty': 427, 'chan': 746, 'plight': 3308, 'respected': 3653, 'godzilla': 1929, 'raped': 3522, 'concert': 935, 'tie': 4488, 'coherent': 871, 'intellectual': 2312, 'study': 4242, 'mundane': 2938, 'heston': 2094, 'kubrick': 2496, 'potentially': 3356, 'psychotic': 3459, 'cave': 727, 'corporate': 998, 'wizard': 4919, 'surrounded': 4318, 'bird': 484, 'lively': 2627, 'belongs': 460, 'parent': 3187, 'opportunities': 3120, 'sin': 3988, 'trial': 4580, 'prequel': 3372, 'executive': 1567, 'sophisticated': 4075, 'suffered': 4276, 'suitable': 4285, 'dawn': 1127, 'insulting': 2310, 'medical': 2790, 'worn': 4948, 'pat': 3208, 'ah': 158, 'smooth': 4041, 'slaughter': 4021, 'sunshine': 4294, 'oz': 3160, 'tune': 4602, 'arguably': 289, 'em': 1452, 'test': 4416, 'bible': 477, 'wing': 4896, 'bourne': 554, 'laws': 2540, 'reunion': 3669, 'painting': 3175, 'vietnam': 4735, 'peters': 3248, 'anderson': 227, 'prostitute': 3440, 'horse': 2170, 'crocodile': 1065, 'seed': 3856, 'planned': 3290, 'ratings': 3530, 'mars': 2746, 'hearts': 2066, 'carl': 692, 'arrival': 299, 'desired': 1206, 'rules': 3754, 'carefully': 689, 'rambo': 3511, 'samurai': 3779, 'assumed': 329, 'forms': 1801, 'psychic': 3456, 'powell': 3358, 'ted': 4386, 'pseudo': 3454, 'questionable': 3488, 'jazz': 2387, '1980': 20, 'mechanical': 2788, 'floating': 1758, 'satan': 3787, 'greed': 1968, 'clown': 862, 'intent': 2318, 'warrior': 4802, 'conventional': 979, 'responsibility': 3655, 'flaw': 1749, 'rotten': 3740, 'comparing': 913, 'abc': 63, 'wonders': 4931, 'cinderella': 815, 'oil': 3097, 'kicking': 2462, 'dentist': 1180, 'variety': 4714, 'phantom': 3251, 'passes': 3203, 'accepted': 82, 'rangers': 3517, 'gender': 1878, 'hundreds': 2196, 'empathy': 1462, 'atlantis': 332, 'ruins': 3752, 'alexander': 180, 'gift': 1906, 'wed': 4835, 'poetry': 3314, 'teaching': 4377, 'iran': 2350, 'ignored': 2225, 'consists': 955, 'elderly': 1440, 'acid': 95, 'education': 1424, 'cusack': 1088, 'corrupt': 1001, 'charge': 761, 'ashley': 313, 'draws': 1352, 'bbc': 417, 'shark': 3921, 'earl': 1398, 'bakshi': 386, 'nostalgia': 3038, 'ridden': 3691, 'thousand': 4465, '1970s': 17, 'colorful': 878, 'bears': 421, 'hello': 2078, 'dire': 1257, 'mst3k': 2932, 'tortured': 4530, 'lees': 2560, 'progress': 3425, 'vague': 4705, 'involves': 2348, 'duke': 1383, 'wound': 4960, 'hippie': 2115, 'justify': 2439, 'revolutionary': 3681, 'profound': 3423, 'imagery': 2234, 'widely': 4881, 'reads': 3545, 'robots': 3718, 'disc': 1278, 'chapter': 757, 'manipulative': 2727, 'drinking': 1362, 'clint': 850, 'husbands': 2205, 'westerns': 4854, '1972': 18, 'damage': 1099, 'speed': 4103, 'pretend': 3381, 'competition': 918, 'idiotic': 2219, 'catherine': 719, 'praise': 3364, 'specifically': 4100, 'cinematographer': 819, '18': 10, 'houses': 2180, 'occasion': 3073, 'richardson': 3688, 'equipment': 1511, 'expressions': 1603, 'gundam': 1997, 'careful': 688, 'sounded': 4082, 'caring': 691, 'che': 773, 'map': 2733, 'relies': 3606, 'loaded': 2632, 'vivid': 4760, 'engaged': 1480, 'cannibal': 669, 'channels': 754, 'misses': 2868, 'wisdom': 4902, 'yellow': 4981, 'gandhi': 1866, 'uneven': 4649, 'sidney': 3968, 'dust': 1388, 'resembles': 3646, 'destruction': 1216, 'construction': 960, 'generations': 1884, 'forty': 1807, 'designs': 1204, 'victor': 4731, 'miller': 2846, 'operation': 3117, 'wholly': 4874, 'andrews': 229, 'switch': 4339, 'screens': 3832, 'mildred': 2841, 'sullivan': 4288, 'valuable': 4708, 'bodies': 526, 'survivor': 4324, 'user': 4696, 'misery': 2865, 'leslie': 2574, 'awfully': 373, 'distinct': 1296, 'grinch': 1975, 'orange': 3125, 'outcome': 3142, 'womens': 4924, 'connect': 944, 'secretly': 3851, 'wondered': 4927, 'exaggerated': 1552, 'superhero': 4299, 'buff': 611, 'legs': 2566, 'complexity': 924, 'paulie': 3215, 'vice': 4727, 'logical': 2639, 'wendy': 4846, 'leonard': 2572, 'asian': 314, 'scheme': 3812, 'virginia': 4750, 'rage': 3505, 'riding': 3695, 'isolated': 2363, 'superman': 4301, 'global': 1920, 'fonda': 1777, 'graphic': 1958, 'khan': 2459, 'motivations': 2915, 'leo': 2571, 'advanced': 128, 'inspiring': 2302, 'antics': 255, 'eager': 1396, 'hyde': 2206, 'whale': 4857, 'knock': 2488, 'un': 4630, 'messed': 2821, 'iraq': 2351, 'cameras': 660, 'altogether': 202, 'enjoying': 1487, 'taxi': 4371, 'amounts': 220, 'sentence': 3881, 'improvement': 2256, 'religious': 3608, 'mentally': 2809, 'apes': 267, 'enjoys': 1489, 'feminist': 1695, 'bull': 619, 'businessman': 634, 'alongside': 196, 'inevitably': 2283, 'tomatoes': 4515, 'progresses': 3426, 'sally': 3776, 'empire': 1464, 'gangsters': 1869, 'popularity': 3334, 'swedish': 4335, 'honesty': 2148, 'settle': 3902, 'lazy': 2543, 'gene': 1879, 'raymond': 3534, 'beings': 449, 'uwe': 4703, 'boll': 529, 'instinct': 2308, 'bell': 458, 'splendid': 4119, 'hart': 2041, 'everyones': 1543, 'americas': 215, 'ease': 1404, 'lena': 2568, 'leg': 2562, 'neo': 2998, 'secrets': 3852, 'performers': 3232, 'dvds': 1392, 'celebrity': 729, 'incident': 2260, 'expressed': 1601, 'strike': 4224, 'hbo': 2055, 'horrifying': 2167, 'credible': 1048, 'comics': 895, 'crucial': 1068, 'bergman': 466, 'splatter': 4118, 'consistent': 953, 'judging': 2425, 'flynn': 1765, 'cell': 730, 'elephant': 1444, 'integrity': 2311, 'faster': 1662, 'irrelevant': 2358, 'clues': 865, 'comfortable': 892, 'fighter': 1708, 'bite': 489, 'ps': 3453, 'restored': 3659, 'rats': 3531, 'response': 3654, 'lincoln': 2608, 'sadistic': 3768, 'sits': 4006, 'kurt': 2499, 'spike': 4111, 'snl': 4044, 'scottish': 3825, 'inventive': 2341, 'loads': 2633, 'morris': 2908, 'raising': 3509, 'pie': 3271, 'advise': 134, 'niro': 3019, 'montana': 2895, 'creator': 1043, 'stiller': 4189, 'cliff': 847, 'introduce': 2336, 'paltrow': 3178, 'directions': 1262, 'witches': 4910, 'improve': 2254, 'ninja': 3018, 'sandra': 3782, 'fulci': 1845, 'abraham': 69, 'showcase': 3954, 'ireland': 2352, '1973': 19, 'rochester': 3719, 'shirley': 3936, 'blob': 507, 'influenced': 2287, 'ballet': 389, 'germans': 1897, 'signed': 3971, 'scooby': 3820, 'doo': 1325, 'lumet': 2688, 'modesty': 2883, 'porno': 3337}\n"
     ]
    }
   ],
   "source": [
    "print(str(vocabulary))"
   ]
  },
  {
   "cell_type": "markdown",
   "metadata": {},
   "source": [
    "Once you have added the endpoint name to the Lambda function, click on **Save**. Your Lambda function is now up and running. Next we need to create a way for our web app to execute the Lambda function."
   ]
  },
  {
   "cell_type": "markdown",
   "metadata": {},
   "source": [
    "### Setting up API Gateway\n",
    "\n",
    "Now that our Lambda function is set up, it is time to create a new API using API Gateway that will trigger the Lambda function we have just created.\n",
    "\n",
    "Using AWS Console, navigate to **Amazon API Gateway** and then click on **Get started**.\n",
    "\n",
    "On the next page, make sure that **New API** is selected and give the new api a name, for example, `sentiment_analysis_web_app`. Then, click on **Create API**.\n",
    "\n",
    "Now we have created an API, however it doesn't currently do anything. What we want it to do is to trigger the Lambda function that we created earlier.\n",
    "\n",
    "Select the **Actions** dropdown menu and click **Create Method**. A new blank method will be created, select its dropdown menu and select **POST**, then click on the check mark beside it.\n",
    "\n",
    "For the integration point, make sure that **Lambda Function** is selected and click on the **Use Lambda Proxy integration**. This option makes sure that the data that is sent to the API is then sent directly to the Lambda function with no processing. It also means that the return value must be a proper response object as it will also not be processed by API Gateway.\n",
    "\n",
    "Type the name of the Lambda function you created earlier into the **Lambda Function** text entry box and then click on **Save**. Click on **OK** in the pop-up box that then appears, giving permission to API Gateway to invoke the Lambda function you created.\n",
    "\n",
    "The last step in creating the API Gateway is to select the **Actions** dropdown and click on **Deploy API**. You will need to create a new Deployment stage and name it anything you like, for example `prod`.\n",
    "\n",
    "You have now successfully set up a public API to access your SageMaker model. Make sure to copy or write down the URL provided to invoke your newly created public API as this will be needed in the next step. This URL can be found at the top of the page, highlighted in blue next to the text **Invoke URL**."
   ]
  },
  {
   "cell_type": "markdown",
   "metadata": {},
   "source": [
    "## Step 7: Deploying our web app\n",
    "\n",
    "Now that we have a publicly available API, we can start using it in a web app. For our purposes, we have provided a simple static html file which can make use of the public api you created earlier.\n",
    "\n",
    "In the `website` folder there should be a file called `index.html`. Download the file to your computer and open that file up in a text editor of your choice. There should be a line which contains **\\*\\*REPLACE WITH PUBLIC API URL\\*\\***. Replace this string with the url that you wrote down in the last step and then save the file.\n",
    "\n",
    "Now, if you open `index.html` on your local computer, your browser will behave as a local web server and you can use the provided site to interact with your SageMaker model.\n",
    "\n",
    "If you'd like to go further, you can host this html file anywhere you'd like, for example using github or hosting a static site on Amazon's S3. Once you have done this you can share the link with anyone you'd like and have them play with it too!\n",
    "\n",
    "> **Important Note** In order for the web app to communicate with the SageMaker endpoint, the endpoint has to actually be deployed and running. This means that you are paying for it. Make sure that the endpoint is running when you want to use the web app but that you shut it down when you don't need it, otherwise you will end up with a surprisingly large AWS bill."
   ]
  },
  {
   "cell_type": "markdown",
   "metadata": {},
   "source": [
    "### Delete the endpoint\n",
    "\n",
    "Remember to always shut down your endpoint if you are no longer using it. You are charged for the length of time that the endpoint is running so if you forget and leave it on you could end up with an unexpectedly large bill."
   ]
  },
  {
   "cell_type": "code",
   "execution_count": 66,
   "metadata": {},
   "outputs": [],
   "source": [
    "xgb_predictor.delete_endpoint()"
   ]
  },
  {
   "cell_type": "markdown",
   "metadata": {},
   "source": [
    "## Optional: Clean up\n",
    "\n",
    "The default notebook instance on SageMaker doesn't have a lot of excess disk space available. As you continue to complete and execute notebooks you will eventually fill up this disk space, leading to errors which can be difficult to diagnose. Once you are completely finished using a notebook it is a good idea to remove the files that you created along the way. Of course, you can do this from the terminal or from the notebook hub if you would like. The cell below contains some commands to clean up the created files from within the notebook."
   ]
  },
  {
   "cell_type": "code",
   "execution_count": 67,
   "metadata": {},
   "outputs": [],
   "source": [
    "# First we will remove all of the files contained in the data_dir directory\n",
    "!rm $data_dir/*\n",
    "\n",
    "# And then we delete the directory itself\n",
    "!rmdir $data_dir\n",
    "\n",
    "# Similarly we remove the files in the cache_dir directory and the directory itself\n",
    "!rm $cache_dir/*\n",
    "!rmdir $cache_dir"
   ]
  },
  {
   "cell_type": "code",
   "execution_count": null,
   "metadata": {},
   "outputs": [],
   "source": []
  }
 ],
 "metadata": {
  "kernelspec": {
   "display_name": "conda_mxnet_p36",
   "language": "python",
   "name": "conda_mxnet_p36"
  },
  "language_info": {
   "codemirror_mode": {
    "name": "ipython",
    "version": 3
   },
   "file_extension": ".py",
   "mimetype": "text/x-python",
   "name": "python",
   "nbconvert_exporter": "python",
   "pygments_lexer": "ipython3",
   "version": "3.6.10"
  }
 },
 "nbformat": 4,
 "nbformat_minor": 2
}
